{
 "cells": [
  {
   "cell_type": "markdown",
   "metadata": {},
   "source": [
    "# Objective\n",
    "\n",
    "This run will continue from where run 7 left off. "
   ]
  },
  {
   "cell_type": "code",
   "execution_count": 1,
   "metadata": {},
   "outputs": [
    {
     "name": "stderr",
     "output_type": "stream",
     "text": [
      "/usr/local/lib/python3.5/dist-packages/h5py/__init__.py:36: FutureWarning: Conversion of the second argument of issubdtype from `float` to `np.floating` is deprecated. In future, it will be treated as `np.float64 == np.dtype(float).type`.\n",
      "  from ._conv import register_converters as _register_converters\n",
      "Using TensorFlow backend.\n"
     ]
    }
   ],
   "source": [
    "from game import Game\n",
    "from ai import SplendorAI\n",
    "from player import get_phase_parameters\n",
    "from constants import *\n",
    "from datetime import datetime\n",
    "# from player import get_phase_parameters\n",
    "import sys\n",
    "from collections import defaultdict\n",
    "from collections import Counter\n",
    "\n"
   ]
  },
  {
   "cell_type": "code",
   "execution_count": 2,
   "metadata": {},
   "outputs": [],
   "source": [
    "# simply used to initialize players\n",
    "base_game = Game(id=0, n_players=4)"
   ]
  },
  {
   "cell_type": "code",
   "execution_count": 3,
   "metadata": {},
   "outputs": [
    {
     "name": "stdout",
     "output_type": "stream",
     "text": [
      "[name: \"/device:CPU:0\"\n",
      "device_type: \"CPU\"\n",
      "memory_limit: 268435456\n",
      "locality {\n",
      "}\n",
      "incarnation: 17402711315000176048\n",
      ", name: \"/device:GPU:0\"\n",
      "device_type: \"GPU\"\n",
      "memory_limit: 10220594791\n",
      "locality {\n",
      "  bus_id: 1\n",
      "  links {\n",
      "  }\n",
      "}\n",
      "incarnation: 15891425546016480401\n",
      "physical_device_desc: \"device: 0, name: GeForce GTX 1080 Ti, pci bus id: 0000:01:00.0, compute capability: 6.1\"\n",
      "]\n"
     ]
    }
   ],
   "source": [
    "from tensorflow.python.client import device_lib\n",
    "print(device_lib.list_local_devices())"
   ]
  },
  {
   "cell_type": "code",
   "execution_count": 4,
   "metadata": {},
   "outputs": [],
   "source": [
    "import tensorflow as tf\n",
    "sess = tf.Session(config=tf.ConfigProto(log_device_placement=True))"
   ]
  },
  {
   "cell_type": "code",
   "execution_count": 5,
   "metadata": {},
   "outputs": [],
   "source": [
    "# temperature will decrease over time\n",
    "# bumping it up a tiny bit from run 7 pt 1\n",
    "def calculate_temperature(round):\n",
    "    return 2.8/(1 + round/2.5) /(1.5+round)"
   ]
  },
  {
   "cell_type": "code",
   "execution_count": 6,
   "metadata": {},
   "outputs": [],
   "source": [
    "# constants to define; default\n",
    "NETWORK_HYPERPARAMETERS = {\n",
    "    # player input\n",
    "    'player_funnel_layers': [15,12,10],\n",
    "    'reserved_funnel_layers': [12,10,],\n",
    "    'inject_reserved_at_player_funnel_index': 1, # 0 same as input, 1 = as first layer, etc.\n",
    "    'card_funnel_layers': [12,12,8],\n",
    "    # game input\n",
    "    'game_funnel_layers': [15, 12, 10],\n",
    "    'game_objective_funnel_layers': [10, 8],\n",
    "    'game_card_funnel_layers': [15, 12, 10],\n",
    "    # overall, slightly increased from default\n",
    "    'main_dense_layers': [84, 36, 15], #this is when everything is combined\n",
    "\n",
    "    # output layers\n",
    "    # this does not include the win layer\n",
    "    'output_layers': [\n",
    "        {\n",
    "            'name': 'Q1',\n",
    "            'lag': 1,\n",
    "            'score': 1,\n",
    "            'discount': 0.1,\n",
    "            'gems': 0.01,\n",
    "\n",
    "        },\n",
    "        {\n",
    "            'name': 'Q3',\n",
    "            'lag':  3,\n",
    "            'score': 1,\n",
    "            'discount': 0.1,\n",
    "            'gems': 0,\n",
    "        },\n",
    "        {\n",
    "            'name': 'Q5',\n",
    "            'lag': 5,\n",
    "            'score': 1,\n",
    "            'discount': 0.05,\n",
    "            'gems': 0,\n",
    "        },\n",
    "    ],\n",
    "}\n",
    "\n",
    "def get_phase_parameters(phase):\n",
    "    \"\"\"\n",
    "    training will be divided into 5 phases\n",
    "\n",
    "    \"\"\"\n",
    "    if phase==1:\n",
    "        return {\n",
    "            'Q1': 0.5,\n",
    "            'Q3': 0.3,\n",
    "            'Q5': 0.15,\n",
    "            'win': 0.05,\n",
    "        }\n",
    "    elif phase==2:\n",
    "        return {\n",
    "            'Q1': 0.35,\n",
    "            'Q3': 0.25,\n",
    "            'Q5': 0.25,\n",
    "            'win': 0.15,\n",
    "        }\n",
    "    elif phase==3:\n",
    "        return {\n",
    "            'Q1': 0.25,\n",
    "            'Q3': 0.25,\n",
    "            'Q5': 0.25,\n",
    "            'win': 0.25,\n",
    "        }\n",
    "    elif phase==4:\n",
    "        return {\n",
    "            'Q1': 0.15,\n",
    "            'Q3': 0.2,\n",
    "            'Q5': 0.35,\n",
    "            'win': 0.3,\n",
    "        }\n",
    "    elif phase==5:\n",
    "        return {\n",
    "            'Q1': 0.1,\n",
    "            'Q3': 0.1,\n",
    "            'Q5': 0.4,\n",
    "            'win': 0.4,\n",
    "        }\n",
    "    elif phase==6:\n",
    "        return {\n",
    "            'Q1': 0.03,\n",
    "            'Q3': 0.1,\n",
    "            'Q5': 0.22,\n",
    "            'win': 0.75\n",
    "        }"
   ]
  },
  {
   "cell_type": "code",
   "execution_count": 7,
   "metadata": {},
   "outputs": [],
   "source": [
    "players = base_game.players\n",
    "\n",
    "\n"
   ]
  },
  {
   "cell_type": "code",
   "execution_count": 8,
   "metadata": {},
   "outputs": [],
   "source": [
    "# load previous models\n",
    "for i, player in enumerate(players):\n",
    "    player.ai.load_models('run7_player_%s_' % i, 5)"
   ]
  },
  {
   "cell_type": "code",
   "execution_count": 9,
   "metadata": {},
   "outputs": [],
   "source": [
    "def summarize_counters(counter_list):\n",
    "    master_counter = Counter()\n",
    "    n = len(counter_list)\n",
    "    for counter in counter_list:\n",
    "        master_counter.update(counter)\n",
    "    keys = list(master_counter.keys())\n",
    "    for k in sorted(keys):\n",
    "        master_counter[k] /= n\n",
    "    return master_counter"
   ]
  },
  {
   "cell_type": "code",
   "execution_count": null,
   "metadata": {},
   "outputs": [],
   "source": [
    "set_durations = {}\n",
    "game_data = defaultdict(list)"
   ]
  },
  {
   "cell_type": "markdown",
   "metadata": {},
   "source": [
    "# Test multiple runs of games"
   ]
  },
  {
   "cell_type": "code",
   "execution_count": null,
   "metadata": {},
   "outputs": [
    {
     "name": "stdout",
     "output_type": "stream",
     "text": [
      "ON ROUND 6\n",
      "................................................................................................................................................................................................................................................................................................................................/\n",
      "R/S 6/0 AVERAGE GAME LENGTH:  126.15\n",
      "R/S 6/0 AVERAGE CARDS PURCHASED:  13.6046875\n",
      "WIN RATES:  [0.1, 0.303125, 0.28125, 0.321875]\n",
      "RESERVATION SUMMARY:  [Counter({(3, 'board'): 1.246875, (2, 'board'): 1.225, (1, 'board'): 1.146875, (2, 'topdeck'): 0.30625, (3, 'topdeck'): 0.275, (1, 'topdeck'): 0.24375}), Counter({(3, 'board'): 1.246875, (1, 'board'): 1.196875, (2, 'board'): 1.178125, (2, 'topdeck'): 0.328125, (3, 'topdeck'): 0.325, (1, 'topdeck'): 0.228125}), Counter({(2, 'board'): 1.178125, (3, 'board'): 1.134375, (1, 'board'): 1.121875, (3, 'topdeck'): 0.33125, (2, 'topdeck'): 0.31875, (1, 'topdeck'): 0.21875}), Counter({(2, 'board'): 1.221875, (3, 'board'): 1.215625, (1, 'board'): 1.01875, (2, 'topdeck'): 0.309375, (3, 'topdeck'): 0.30625, (1, 'topdeck'): 0.29375})]\n",
      "GEMS SUMMARY:  [Counter({3: 7.703125, 2: 3.5875, 0: 1.9375, 1: 1.14375, -1: 0.075, -2: 0.003125}), Counter({3: 7.86875, 2: 3.315625, 0: 1.409375, 1: 0.728125, -1: 0.05}), Counter({3: 8.03125, 2: 3.2625, 0: 1.590625, 1: 0.753125, -1: 0.053125}), Counter({3: 8.128125, 2: 3.3125, 0: 1.3625, 1: 0.753125, -1: 0.040625, -2: 0.00625})]\n",
      "................................................................................................................................................................................................................................................................................................................................/\n",
      "R/S 6/1 AVERAGE GAME LENGTH:  125.375\n",
      "R/S 6/1 AVERAGE CARDS PURCHASED:  13.57890625\n",
      "WIN RATES:  [0.0875, 0.30625, 0.265625, 0.340625]\n",
      "RESERVATION SUMMARY:  [Counter({(2, 'board'): 1.290625, (3, 'board'): 1.128125, (1, 'board'): 1.059375, (3, 'topdeck'): 0.284375, (2, 'topdeck'): 0.278125, (1, 'topdeck'): 0.278125}), Counter({(3, 'board'): 1.228125, (1, 'board'): 1.190625, (2, 'board'): 1.175, (1, 'topdeck'): 0.33125, (2, 'topdeck'): 0.3, (3, 'topdeck'): 0.271875}), Counter({(3, 'board'): 1.1875, (1, 'board'): 1.184375, (2, 'board'): 1.171875, (3, 'topdeck'): 0.35, (1, 'topdeck'): 0.3, (2, 'topdeck'): 0.284375}), Counter({(3, 'board'): 1.23125, (2, 'board'): 1.16875, (1, 'board'): 1.128125, (2, 'topdeck'): 0.3, (3, 'topdeck'): 0.290625, (1, 'topdeck'): 0.253125})]\n",
      "GEMS SUMMARY:  [Counter({3: 7.95, 2: 3.515625, 0: 2.10625, 1: 1.00625, -1: 0.05625, -2: 0.0125}), Counter({3: 7.984375, 2: 3.3125, 0: 1.10625, 1: 0.7125, -1: 0.01875}), Counter({3: 7.940625, 2: 3.284375, 0: 1.428125, 1: 0.7875, -1: 0.021875, -2: 0.003125}), Counter({3: 7.9875, 2: 3.21875, 0: 1.2, 1: 0.71875, -1: 0.01875, -2: 0.003125})]\n",
      "................................................................................................................................................................................................................................................................................................................................/\n",
      "R/S 6/2 AVERAGE GAME LENGTH:  125.65\n",
      "R/S 6/2 AVERAGE CARDS PURCHASED:  13.5453125\n",
      "WIN RATES:  [0.1125, 0.296875, 0.253125, 0.340625]\n",
      "RESERVATION SUMMARY:  [Counter({(3, 'board'): 1.28125, (2, 'board'): 1.153125, (1, 'board'): 1.06875, (2, 'topdeck'): 0.290625, (1, 'topdeck'): 0.28125, (3, 'topdeck'): 0.275}), Counter({(2, 'board'): 1.215625, (1, 'board'): 1.178125, (3, 'board'): 1.14375, (2, 'topdeck'): 0.334375, (3, 'topdeck'): 0.29375, (1, 'topdeck'): 0.2625}), Counter({(3, 'board'): 1.28125, (1, 'board'): 1.13125, (2, 'board'): 1.090625, (1, 'topdeck'): 0.309375, (2, 'topdeck'): 0.303125, (3, 'topdeck'): 0.3}), Counter({(2, 'board'): 1.2375, (3, 'board'): 1.171875, (1, 'board'): 1.0625, (3, 'topdeck'): 0.378125, (1, 'topdeck'): 0.30625, (2, 'topdeck'): 0.303125})]\n",
      "GEMS SUMMARY:  [Counter({3: 7.728125, 2: 3.596875, 0: 2.09375, 1: 1.078125, -1: 0.109375, -2: 0.009375}), Counter({3: 8.021875, 2: 3.246875, 0: 1.25625, 1: 0.7625, -1: 0.04375}), Counter({3: 7.990625, 2: 3.375, 0: 1.459375, 1: 0.790625, -1: 0.034375}), Counter({3: 8.1, 2: 3.240625, 0: 1.146875, 1: 0.690625, -1: 0.040625})]\n",
      "ON ROUND 7\n",
      "................................................................................................................................................................................................................................................................................................................................/\n",
      "R/S 7/0 AVERAGE GAME LENGTH:  118.7375\n",
      "R/S 7/0 AVERAGE CARDS PURCHASED:  13.753125\n",
      "WIN RATES:  [0.24375, 0.2625, 0.271875, 0.225]\n",
      "RESERVATION SUMMARY:  [Counter({(3, 'board'): 1.634375, (2, 'board'): 1.3875, (1, 'board'): 1.028125, (1, 'topdeck'): 0.20625, (3, 'topdeck'): 0.1875, (2, 'topdeck'): 0.13125}), Counter({(3, 'board'): 1.7125, (2, 'board'): 1.225, (1, 'board'): 0.859375, (1, 'topdeck'): 0.165625, (3, 'topdeck'): 0.15, (2, 'topdeck'): 0.14375}), Counter({(3, 'board'): 1.4375, (2, 'board'): 1.196875, (1, 'board'): 0.953125, (2, 'topdeck'): 0.240625, (3, 'topdeck'): 0.225, (1, 'topdeck'): 0.2}), Counter({(3, 'board'): 1.553125, (2, 'board'): 1.346875, (1, 'board'): 0.86875, (3, 'topdeck'): 0.203125, (1, 'topdeck'): 0.175, (2, 'topdeck'): 0.140625})]\n",
      "GEMS SUMMARY:  [Counter({3: 7.890625, 2: 2.89375, 0: 0.76875, 1: 0.340625, -1: 0.00625, -2: 0.003125}), Counter({3: 7.5, 2: 2.871875, 0: 0.91875, 1: 0.465625, -1: 0.00625}), Counter({3: 7.79375, 2: 2.95, 0: 0.634375, 1: 0.309375, -1: 0.0125}), Counter({3: 7.803125, 2: 3.025, 0: 0.778125, 1: 0.375, -1: 0.00625})]\n",
      "................................................................................................................................................................................................................................................................................................................................/\n",
      "R/S 7/1 AVERAGE GAME LENGTH:  118.825\n",
      "R/S 7/1 AVERAGE CARDS PURCHASED:  13.92578125\n",
      "WIN RATES:  [0.19375, 0.246875, 0.309375, 0.25]\n",
      "RESERVATION SUMMARY:  [Counter({(3, 'board'): 1.678125, (2, 'board'): 1.24375, (1, 'board'): 0.809375, (3, 'topdeck'): 0.209375, (1, 'topdeck'): 0.184375, (2, 'topdeck'): 0.15}), Counter({(3, 'board'): 1.6375, (2, 'board'): 1.16875, (1, 'board'): 0.771875, (3, 'topdeck'): 0.221875, (2, 'topdeck'): 0.18125, (1, 'topdeck'): 0.16875}), Counter({(3, 'board'): 1.571875, (2, 'board'): 1.075, (1, 'board'): 0.965625, (2, 'topdeck'): 0.159375, (3, 'topdeck'): 0.15625, (1, 'topdeck'): 0.153125}), Counter({(2, 'board'): 1.490625, (3, 'board'): 1.35625, (1, 'board'): 1.003125, (2, 'topdeck'): 0.21875, (1, 'topdeck'): 0.215625, (3, 'topdeck'): 0.1875})]\n",
      "GEMS SUMMARY:  [Counter({3: 7.753125, 2: 3.034375, 0: 0.715625, 1: 0.378125, -1: 0.015625}), Counter({3: 7.6, 2: 2.98125, 0: 0.765625, 1: 0.425, -1: 0.0125}), Counter({3: 7.5, 2: 3.05, 0: 0.721875, 1: 0.35625, -1: 0.00625}), Counter({3: 7.553125, 2: 2.978125, 0: 0.865625, 1: 0.41875, -1: 0.0125})]\n",
      "................................................................................................................................................................................................................................................................................................................................/\n",
      "R/S 7/2 AVERAGE GAME LENGTH:  119.0625\n",
      "R/S 7/2 AVERAGE CARDS PURCHASED:  13.89296875\n",
      "WIN RATES:  [0.209375, 0.29375, 0.24375, 0.253125]\n",
      "RESERVATION SUMMARY:  [Counter({(3, 'board'): 1.73125, (2, 'board'): 1.209375, (1, 'board'): 1.01875, (1, 'topdeck'): 0.215625, (2, 'topdeck'): 0.16875, (3, 'topdeck'): 0.146875}), Counter({(3, 'board'): 1.6375, (2, 'board'): 1.246875, (1, 'board'): 0.80625, (1, 'topdeck'): 0.19375, (3, 'topdeck'): 0.178125, (2, 'topdeck'): 0.16875}), Counter({(3, 'board'): 1.4625, (2, 'board'): 1.21875, (1, 'board'): 0.98125, (1, 'topdeck'): 0.228125, (2, 'topdeck'): 0.215625, (3, 'topdeck'): 0.184375}), Counter({(2, 'board'): 1.521875, (3, 'board'): 1.390625, (1, 'board'): 1.0125, (1, 'topdeck'): 0.19375, (2, 'topdeck'): 0.184375, (3, 'topdeck'): 0.184375})]\n",
      "GEMS SUMMARY:  [Counter({3: 7.790625, 2: 2.9875, 0: 0.765625, 1: 0.415625, -1: 0.01875, -2: 0.003125}), Counter({3: 7.446875, 2: 3.234375, 0: 0.784375, 1: 0.39375, -1: 0.021875}), Counter({3: 7.68125, 2: 2.975, 0: 0.5875, 1: 0.325, -1: 0.0125}), Counter({3: 7.56875, 2: 2.909375, 0: 0.64375, 1: 0.403125, -1: 0.021875})]\n"
     ]
    },
    {
     "name": "stdout",
     "output_type": "stream",
     "text": [
      "ON ROUND 8\n",
      "................................................................................................................................................................................................................................................................................................................................/\n",
      "R/S 8/0 AVERAGE GAME LENGTH:  119.775\n",
      "R/S 8/0 AVERAGE CARDS PURCHASED:  13.8421875\n",
      "WIN RATES:  [0.225, 0.284375, 0.28125, 0.215625]\n",
      "RESERVATION SUMMARY:  [Counter({(3, 'board'): 1.815625, (2, 'board'): 1.096875, (1, 'board'): 0.9, (1, 'topdeck'): 0.171875, (2, 'topdeck'): 0.16875, (3, 'topdeck'): 0.159375}), Counter({(3, 'board'): 1.5625, (2, 'board'): 1.40625, (1, 'board'): 0.76875, (2, 'topdeck'): 0.171875, (3, 'topdeck'): 0.146875, (1, 'topdeck'): 0.140625}), Counter({(3, 'board'): 1.475, (2, 'board'): 1.284375, (1, 'board'): 0.94375, (3, 'topdeck'): 0.20625, (1, 'topdeck'): 0.1875, (2, 'topdeck'): 0.128125}), Counter({(2, 'board'): 1.578125, (3, 'board'): 1.34375, (1, 'board'): 1.053125, (2, 'topdeck'): 0.19375, (1, 'topdeck'): 0.178125, (3, 'topdeck'): 0.140625})]\n",
      "GEMS SUMMARY:  [Counter({3: 7.996875, 2: 2.90625, 0: 0.934375, 1: 0.478125, -1: 0.034375, -2: 0.003125}), Counter({3: 7.60625, 2: 3.0125, 0: 1.059375, 1: 0.403125, -1: 0.028125}), Counter({3: 7.590625, 2: 2.934375, 0: 0.596875, 1: 0.44375, -1: 0.0125}), Counter({3: 7.7125, 2: 3.09375, 0: 0.871875, 1: 0.428125, -1: 0.0375})]\n",
      "................................................................................................................................................................................................................................................................................................................................/\n",
      "R/S 8/1 AVERAGE GAME LENGTH:  119.3875\n",
      "R/S 8/1 AVERAGE CARDS PURCHASED:  13.98359375\n",
      "WIN RATES:  [0.246875, 0.265625, 0.3, 0.1875]\n",
      "RESERVATION SUMMARY:  [Counter({(3, 'board'): 1.75625, (2, 'board'): 1.03125, (1, 'board'): 0.896875, (2, 'topdeck'): 0.1875, (3, 'topdeck'): 0.16875, (1, 'topdeck'): 0.1625}), Counter({(3, 'board'): 1.66875, (2, 'board'): 1.2625, (1, 'board'): 0.971875, (3, 'topdeck'): 0.15625, (1, 'topdeck'): 0.134375, (2, 'topdeck'): 0.121875}), Counter({(3, 'board'): 1.459375, (2, 'board'): 1.0875, (1, 'board'): 0.8625, (1, 'topdeck'): 0.246875, (2, 'topdeck'): 0.209375, (3, 'topdeck'): 0.184375}), Counter({(2, 'board'): 1.5375, (3, 'board'): 1.3125, (1, 'board'): 1.228125, (3, 'topdeck'): 0.178125, (1, 'topdeck'): 0.175, (2, 'topdeck'): 0.15})]\n",
      "GEMS SUMMARY:  [Counter({3: 7.8625, 2: 3.125, 0: 0.88125, 1: 0.465625, -1: 0.01875}), Counter({3: 7.521875, 2: 2.9625, 0: 0.71875, 1: 0.365625, -1: 0.0125}), Counter({3: 7.80625, 2: 2.7625, 0: 0.61875, 1: 0.390625, -1: 0.009375}), Counter({3: 7.728125, 2: 2.96875, 0: 0.646875, 1: 0.415625, -1: 0.01875, -2: 0.003125})]\n",
      "................................................................................................................................................................................................................................................................................................................................/\n",
      "R/S 8/2 AVERAGE GAME LENGTH:  119.1375\n",
      "R/S 8/2 AVERAGE CARDS PURCHASED:  13.88984375\n",
      "WIN RATES:  [0.234375, 0.259375, 0.25625, 0.253125]\n",
      "RESERVATION SUMMARY:  [Counter({(3, 'board'): 1.775, (2, 'board'): 1.175, (1, 'board'): 0.915625, (3, 'topdeck'): 0.178125, (2, 'topdeck'): 0.146875, (1, 'topdeck'): 0.134375}), Counter({(3, 'board'): 1.484375, (2, 'board'): 1.428125, (1, 'board'): 0.809375, (2, 'topdeck'): 0.18125, (1, 'topdeck'): 0.15625, (3, 'topdeck'): 0.125}), Counter({(3, 'board'): 1.56875, (2, 'board'): 1.190625, (1, 'board'): 0.825, (3, 'topdeck'): 0.2125, (1, 'topdeck'): 0.1875, (2, 'topdeck'): 0.18125}), Counter({(3, 'board'): 1.4, (2, 'board'): 1.38125, (1, 'board'): 1.303125, (1, 'topdeck'): 0.178125, (2, 'topdeck'): 0.146875, (3, 'topdeck'): 0.115625})]\n",
      "GEMS SUMMARY:  [Counter({3: 7.821875, 2: 3.153125, 0: 0.921875, 1: 0.459375, -1: 0.01875, -2: 0.003125}), Counter({3: 7.55, 2: 2.859375, 0: 0.828125, 1: 0.421875, -1: 0.034375}), Counter({3: 7.60625, 2: 2.90625, 0: 0.703125, 1: 0.4, -1: 0.00625}), Counter({3: 7.7625, 2: 2.859375, 0: 0.659375, 1: 0.384375, -1: 0.01875})]\n",
      "ON ROUND 9\n",
      "................................................................................................................................................................"
     ]
    }
   ],
   "source": [
    "n_rounds = 6\n",
    "round_start = 6\n",
    "n_sets_per_round = 3\n",
    "n_simulations_per_set = 320\n",
    "\n",
    "start_time = datetime.now()\n",
    "for i in range(round_start, round_start+n_rounds):\n",
    "    print('ON ROUND', i)\n",
    "    for j in range(n_sets_per_round):\n",
    "        set_start_time = datetime.now()\n",
    "        for k in range(n_simulations_per_set):\n",
    "            # if (i==0) and (j==0):\n",
    "            #    # soft restart\n",
    "            #    break\n",
    "            new_game = Game(id=i*n_sets_per_round+n_simulations_per_set + j*n_simulations_per_set+k, \n",
    "                            players=players)\n",
    "            stalemate = new_game.run()  \n",
    "            # stalemates should be extraordinarily rare and pretty much nonexistent\n",
    "            if stalemate: \n",
    "                very_long_game = new_game\n",
    "                print('teaching ai not to stalemate')\n",
    "                for player in players:\n",
    "                    player.transfer_history_to_ai()\n",
    "                    player.ai.train_models(verbose=0,n_epochs=3)\n",
    "            sys.stdout.write('.')\n",
    "            sys.stdout.flush()\n",
    "            # record historic game data for each set\n",
    "            game_data[(i,j)].append(new_game.copy_plain_data_for_self_and_players())\n",
    "        set_stop_time = datetime.now()\n",
    "        duration = (set_start_time-set_stop_time).seconds\n",
    "        for player in players:\n",
    "            player.transfer_history_to_ai()\n",
    "            # train more epochs this time to make better predictions\n",
    "            player.ai.train_models(verbose=0, n_epochs=30, batch_size=1500)\n",
    "        set_durations[(i,j,k)] = duration\n",
    "        print('/')\n",
    "        sys.stdout.flush()\n",
    "        avg_game_length = np.mean([x['game']['turn'] for x in game_data[(i,j)]])\n",
    "        print('R/S %d/%d AVERAGE GAME LENGTH: ' % (i, j), avg_game_length)\n",
    "        avg_cards_purchased = np.mean([\n",
    "            [\n",
    "                pdata['n_cards'] \n",
    "                for pdata in x['players'].values()\n",
    "            ] \n",
    "            for x in game_data[(i,j)]\n",
    "        ]\n",
    "        )\n",
    "        print('R/S %d/%d AVERAGE CARDS PURCHASED: ' % (i, j), avg_cards_purchased)\n",
    "        # calculate win rates\n",
    "        player_data = [x['players'] for x in game_data[(i,j)]]\n",
    "        win_values = [[player_data[idx][pid]['win'] for idx in range(n_simulations_per_set)] for pid in range(4)]\n",
    "        win_rates = [np.mean(v) for v in win_values]\n",
    "        print('WIN RATES: ', str(win_rates))\n",
    "        # reservation averages\n",
    "        reservation_counters = [\n",
    "            [\n",
    "                player_data[idx][pid]['total_times_reserved'] \n",
    "                for idx in range(n_simulations_per_set)\n",
    "            ]\n",
    "            for pid in range(4)\n",
    "        ]\n",
    "        print('RESERVATION SUMMARY: ', [summarize_counters(counters) for counters in reservation_counters])\n",
    "        \n",
    "        # gem taking averages\n",
    "        gem_counters = [\n",
    "            [\n",
    "                player_data[idx][pid]['total_gems_taken'] \n",
    "                for idx in range(n_simulations_per_set)\n",
    "            ]\n",
    "            for pid in range(4)\n",
    "        ]\n",
    "        print('GEMS SUMMARY: ', [summarize_counters(counters) for counters in gem_counters])\n",
    "                             \n",
    "    for player in players:\n",
    "        player.reset(reset_extended_history=True)\n",
    "    phase = min(3, i // 2 + 1)\n",
    "    temperature = calculate_temperature(i)\n",
    "    \n",
    "    for p_i, player in enumerate(players):\n",
    "        player.temperature = temperature\n",
    "        player.decision_weighting = get_phase_parameters(phase)\n",
    "        model_name = 'run7_player_%s_' % str(p_i)\n",
    "        player.ai.save_models(model_name, index=i)\n",
    "    \n",
    "    \n",
    "stop_time = datetime.now()\n",
    "for time in [start_time, stop_time]:\n",
    "    print(time.strftime('%x %X'))\n",
    "    \n",
    "# save historic data\n",
    "import pickle\n",
    "with open('run_7_game_data_pt2.dat', 'wb') as f:\n",
    "    pickle.dump(game_data, f)\n",
    "    \n",
    "with open('run_7_duration_data_pt2.dat', 'wb') as f:\n",
    "    pickle.dump(set_durations, f)\n",
    "    \n"
   ]
  },
  {
   "cell_type": "code",
   "execution_count": null,
   "metadata": {},
   "outputs": [],
   "source": [
    "# player_data"
   ]
  },
  {
   "cell_type": "code",
   "execution_count": null,
   "metadata": {},
   "outputs": [],
   "source": [
    "# players[0].ai.load_models('run6_player_0_round_', 1)"
   ]
  },
  {
   "cell_type": "code",
   "execution_count": null,
   "metadata": {},
   "outputs": [],
   "source": [
    "from collections import Mapping, Container \n",
    "from sys import getsizeof\n",
    "\n",
    "def deep_getsizeof(o, ids): \n",
    "\n",
    "    d = deep_getsizeof\n",
    "    if id(o) in ids:\n",
    "        return 0\n",
    "\n",
    "    r = getsizeof(o)\n",
    "    ids.add(id(o))\n",
    "\n",
    "    if isinstance(o, str) or isinstance(0, bytes):\n",
    "        return r\n",
    "    \n",
    "    if isinstance(o, np.ndarray):\n",
    "        return r\n",
    "\n",
    "    if isinstance(o, Mapping):\n",
    "        return r + sum(d(k, ids) + d(v, ids) for k, v in o.items())\n",
    "\n",
    "    if isinstance(o, Container):\n",
    "        return r + sum(d(x, ids) for x in o)\n",
    "\n",
    "    return r\n",
    "\n",
    "deep_getsizeof(game_data, set())\n",
    "# deep_getsizeof(players[0].extended_serialized_action_history[0], set())\n",
    "\n",
    "# for k in list(locals().keys()):\n",
    "#    v = locals()[k]\n",
    "#    size = deep_getsizeof(v, set())\n",
    "#    if size > 100000:\n",
    "#        print(k, ':', size)"
   ]
  },
  {
   "cell_type": "code",
   "execution_count": null,
   "metadata": {},
   "outputs": [],
   "source": [
    "# players[1].reset(reset_extended_history=True)\n",
    "# for k in dir(players[1]):\n",
    "#    v = getattr(players[1], k)\n",
    "#    if isinstance(v, (list, dict)):\n",
    "#        print(k, len(v))"
   ]
  },
  {
   "cell_type": "code",
   "execution_count": null,
   "metadata": {},
   "outputs": [],
   "source": [
    "#new_game = Game(id=i*200 + j*100+1.1, players=players)"
   ]
  },
  {
   "cell_type": "code",
   "execution_count": null,
   "metadata": {},
   "outputs": [],
   "source": [
    "#for k in dir(players[2]):\n",
    "#    v = getattr(players[2], k)\n",
    "#    if isinstance(v, (list, dict)):\n",
    "#        print(k, len(v))"
   ]
  },
  {
   "cell_type": "code",
   "execution_count": null,
   "metadata": {},
   "outputs": [],
   "source": [
    "#len(players[0].ai.extended_serialized_history)"
   ]
  },
  {
   "cell_type": "markdown",
   "metadata": {},
   "source": [
    "# NOTES\n",
    "\n",
    "Runs are complete. Data can be analyzed in a different environment. Tweaks may be made for future runs based on simulation results from loaded models."
   ]
  }
 ],
 "metadata": {
  "kernelspec": {
   "display_name": "Python 3",
   "language": "python",
   "name": "python3"
  },
  "language_info": {
   "codemirror_mode": {
    "name": "ipython",
    "version": 3
   },
   "file_extension": ".py",
   "mimetype": "text/x-python",
   "name": "python",
   "nbconvert_exporter": "python",
   "pygments_lexer": "ipython3",
   "version": "3.5.2"
  }
 },
 "nbformat": 4,
 "nbformat_minor": 2
}

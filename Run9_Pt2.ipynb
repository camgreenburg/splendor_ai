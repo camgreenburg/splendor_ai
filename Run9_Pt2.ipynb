{
 "cells": [
  {
   "cell_type": "markdown",
   "metadata": {},
   "source": [
    "# Objective\n",
    "\n",
    "Continuation of run 9, decreasing the randomness and increasing far-sightedness. 500 runs per set, 1500 per round for more robust results (9000 games ~ 900-1500 minutes, 15-25 hours)"
   ]
  },
  {
   "cell_type": "code",
   "execution_count": 1,
   "metadata": {},
   "outputs": [
    {
     "name": "stderr",
     "output_type": "stream",
     "text": [
      "/usr/local/lib/python3.5/dist-packages/h5py/__init__.py:36: FutureWarning: Conversion of the second argument of issubdtype from `float` to `np.floating` is deprecated. In future, it will be treated as `np.float64 == np.dtype(float).type`.\n",
      "  from ._conv import register_converters as _register_converters\n",
      "Using TensorFlow backend.\n"
     ]
    }
   ],
   "source": [
    "from game import Game\n",
    "from ai import SplendorAI\n",
    "from player import get_phase_parameters\n",
    "from constants import *\n",
    "from datetime import datetime\n",
    "# from player import get_phase_parameters\n",
    "import sys\n",
    "from collections import defaultdict\n",
    "from collections import Counter\n",
    "\n"
   ]
  },
  {
   "cell_type": "code",
   "execution_count": 2,
   "metadata": {},
   "outputs": [],
   "source": [
    "# simply used to initialize players\n",
    "base_game = Game(id=0, n_players=4, players_compare_self_to_others=True)"
   ]
  },
  {
   "cell_type": "code",
   "execution_count": 3,
   "metadata": {},
   "outputs": [
    {
     "name": "stdout",
     "output_type": "stream",
     "text": [
      "[name: \"/device:CPU:0\"\n",
      "device_type: \"CPU\"\n",
      "memory_limit: 268435456\n",
      "locality {\n",
      "}\n",
      "incarnation: 6645655095143375004\n",
      ", name: \"/device:GPU:0\"\n",
      "device_type: \"GPU\"\n",
      "memory_limit: 10241700660\n",
      "locality {\n",
      "  bus_id: 1\n",
      "  links {\n",
      "  }\n",
      "}\n",
      "incarnation: 438969804651288513\n",
      "physical_device_desc: \"device: 0, name: GeForce GTX 1080 Ti, pci bus id: 0000:01:00.0, compute capability: 6.1\"\n",
      "]\n"
     ]
    }
   ],
   "source": [
    "from tensorflow.python.client import device_lib\n",
    "print(device_lib.list_local_devices())"
   ]
  },
  {
   "cell_type": "code",
   "execution_count": 4,
   "metadata": {},
   "outputs": [],
   "source": [
    "import tensorflow as tf\n",
    "sess = tf.Session(config=tf.ConfigProto(log_device_placement=True))"
   ]
  },
  {
   "cell_type": "code",
   "execution_count": 5,
   "metadata": {},
   "outputs": [],
   "source": [
    "# temperature will decrease over time\n",
    "def calculate_temperature(round):\n",
    "    return 1.9/(1 + round/1.2) /(1.5+round/1.1)/(1+round/5)"
   ]
  },
  {
   "cell_type": "code",
   "execution_count": 6,
   "metadata": {},
   "outputs": [],
   "source": [
    "# constants to define; default\n",
    "NETWORK_HYPERPARAMETERS = {\n",
    "    # player input\n",
    "    'player_funnel_layers': [15,12,10],\n",
    "    'reserved_funnel_layers': [12,10,],\n",
    "    'inject_reserved_at_player_funnel_index': 1, # 0 same as input, 1 = as first layer, etc.\n",
    "    'card_funnel_layers': [12,12,8],\n",
    "    # game input\n",
    "    'game_funnel_layers': [15, 12, 10],\n",
    "    'game_objective_funnel_layers': [10, 8],\n",
    "    'game_card_funnel_layers': [15, 12, 10],\n",
    "    # overall, slightly increased from default\n",
    "    'main_dense_layers': [108, 52, 16], #this is when everything is combined\n",
    "\n",
    "    # output layers\n",
    "    # this does not include the win layer\n",
    "    'output_layers': [\n",
    "        {\n",
    "            'name': 'Q1',\n",
    "            'lag': 1,\n",
    "            'score': 1,\n",
    "            'discount': 0.1,\n",
    "            'gems': 0.01,\n",
    "\n",
    "        },\n",
    "        {\n",
    "            'name': 'Q3',\n",
    "            'lag':  3,\n",
    "            'score': 1,\n",
    "            'discount': 0.1,\n",
    "            'gems': 0,\n",
    "        },\n",
    "        {\n",
    "            'name': 'Q5',\n",
    "            'lag': 5,\n",
    "            'score': 1,\n",
    "            'discount': 0.05,\n",
    "            'gems': 0,\n",
    "        },\n",
    "    ],\n",
    "}\n",
    "\n",
    "def get_phase_parameters(phase):\n",
    "    \"\"\"\n",
    "    training will be divided into 5 phases\n",
    "\n",
    "    \"\"\"\n",
    "    if phase==1:\n",
    "        return {\n",
    "            'Q1': 0.5,\n",
    "            'Q3': 0.3,\n",
    "            'Q5': 0.15,\n",
    "            'win': 0.05,\n",
    "        }\n",
    "    elif phase==2:\n",
    "        return {\n",
    "            'Q1': 0.35,\n",
    "            'Q3': 0.25,\n",
    "            'Q5': 0.25,\n",
    "            'win': 0.15,\n",
    "        }\n",
    "    elif phase==3:\n",
    "        return {\n",
    "            'Q1': 0.25,\n",
    "            'Q3': 0.25,\n",
    "            'Q5': 0.25,\n",
    "            'win': 0.25,\n",
    "        }\n",
    "    elif phase==4:\n",
    "        return {\n",
    "            'Q1': 0.15,\n",
    "            'Q3': 0.2,\n",
    "            'Q5': 0.35,\n",
    "            'win': 0.3,\n",
    "        }\n",
    "    elif phase==5:\n",
    "        return {\n",
    "            'Q1': 0.05,\n",
    "            'Q3': 0.1,\n",
    "            'Q5': 0.35,\n",
    "            'win': 0.50,\n",
    "        }\n",
    "    elif phase==6:\n",
    "        return {\n",
    "            'Q1': 0.03,\n",
    "            'Q3': 0.1,\n",
    "            'Q5': 0.22,\n",
    "            'win': 0.75\n",
    "        }"
   ]
  },
  {
   "cell_type": "code",
   "execution_count": 7,
   "metadata": {},
   "outputs": [],
   "source": [
    "players = base_game.players\n",
    "# game_data = defaultdict(list)\n",
    "run_name='run_9'\n",
    "\n",
    "\n",
    "# load previous models\n",
    "for i, player in enumerate(players):\n",
    "    player.ai.load_models('{run_name}_player_%s_'.format(run_name=run_name) % i, 6)\n",
    "\n",
    "\n"
   ]
  },
  {
   "cell_type": "code",
   "execution_count": 8,
   "metadata": {},
   "outputs": [],
   "source": [
    "# load data from previous trial, as they are all dictionaries\n",
    "import pickle\n",
    "with open('{run_name}_game_data.dat'.format(run_name=run_name), 'rb') as f:\n",
    "    game_data = pickle.load(f)\n",
    "    \n",
    "with open('{run_name}_duration_data.dat'.format(run_name=run_name), 'rb') as f:\n",
    "    set_durations = pickle.load(f)"
   ]
  },
  {
   "cell_type": "code",
   "execution_count": 9,
   "metadata": {},
   "outputs": [],
   "source": [
    "def summarize_counters(counter_list):\n",
    "    master_counter = Counter()\n",
    "    n = len(counter_list)\n",
    "    for counter in counter_list:\n",
    "        master_counter.update(counter)\n",
    "    keys = list(master_counter.keys())\n",
    "    for k in sorted(keys):\n",
    "        master_counter[k] /= n\n",
    "    return master_counter"
   ]
  },
  {
   "cell_type": "code",
   "execution_count": 10,
   "metadata": {},
   "outputs": [],
   "source": [
    "# set_durations = {}"
   ]
  },
  {
   "cell_type": "markdown",
   "metadata": {},
   "source": [
    "# Test multiple runs of games\n",
    "\n",
    "This should constitute the first half, and get a good idea of how successful these methods are"
   ]
  },
  {
   "cell_type": "code",
   "execution_count": 11,
   "metadata": {},
   "outputs": [
    {
     "name": "stdout",
     "output_type": "stream",
     "text": [
      "ON ROUND 7\n",
      "..................................................................................................................................................................................................................................................................................................................................................................................................................................................................................................................../\n",
      "R/S 7/0 AVERAGE GAME LENGTH:  125.98039215686275\n",
      "R/S 7/0 AVERAGE CARDS PURCHASED:  12.916666666666666\n",
      "WIN RATES:  [0.09, 0.078, 0.478, 0.354]\n",
      "RESERVATION SUMMARY:  [Counter({(2, 'board'): 1.308, (3, 'board'): 1.286, (1, 'board'): 0.944, (3, 'topdeck'): 0.25, (2, 'topdeck'): 0.248, (1, 'topdeck'): 0.228}), Counter({(3, 'board'): 1.258, (1, 'board'): 1.142, (2, 'board'): 1.112, (3, 'topdeck'): 0.26, (1, 'topdeck'): 0.234, (2, 'topdeck'): 0.226}), Counter({(3, 'board'): 1.818, (2, 'board'): 1.12, (1, 'board'): 0.696, (2, 'topdeck'): 0.144, (1, 'topdeck'): 0.142, (3, 'topdeck'): 0.114}), Counter({(3, 'board'): 1.93, (2, 'board'): 1.03, (1, 'board'): 0.724, (2, 'topdeck'): 0.138, (3, 'topdeck'): 0.132, (1, 'topdeck'): 0.092})]\n",
      "GEMS SUMMARY:  [Counter({3: 7.412, 2: 3.72, 0: 3.01, 1: 1.342, -1: 0.13, -2: 0.006}), Counter({3: 7.276, 2: 3.82, 0: 3.418, 1: 1.368, -1: 0.17, -2: 0.006, -3: 0.002}), Counter({3: 7.574, 2: 3.54, 0: 1.52, 1: 0.74, -1: 0.042, -2: 0.002}), Counter({3: 7.346, 2: 3.558, 0: 1.888, 1: 0.83, -1: 0.052})]\n",
      "..................................................................................................................................................................................................................................................................................................................................................................................................................................................................................................................../\n",
      "R/S 7/1 AVERAGE GAME LENGTH:  126.72\n",
      "R/S 7/1 AVERAGE CARDS PURCHASED:  13.0245\n",
      "WIN RATES:  [0.096, 0.098, 0.436, 0.374]\n",
      "RESERVATION SUMMARY:  [Counter({(3, 'board'): 1.354, (2, 'board'): 1.198, (1, 'board'): 0.916, (3, 'topdeck'): 0.244, (1, 'topdeck'): 0.24, (2, 'topdeck'): 0.224}), Counter({(3, 'board'): 1.29, (2, 'board'): 1.202, (1, 'board'): 1.11, (2, 'topdeck'): 0.272, (3, 'topdeck'): 0.242, (1, 'topdeck'): 0.216}), Counter({(3, 'board'): 1.846, (2, 'board'): 1.076, (1, 'board'): 0.724, (3, 'topdeck'): 0.156, (2, 'topdeck'): 0.112, (1, 'topdeck'): 0.104}), Counter({(3, 'board'): 1.884, (2, 'board'): 1.052, (1, 'board'): 0.67, (2, 'topdeck'): 0.136, (3, 'topdeck'): 0.114, (1, 'topdeck'): 0.106})]\n",
      "GEMS SUMMARY:  [Counter({3: 7.516, 2: 3.838, 0: 3.05, 1: 1.304, -1: 0.138, -2: 0.002}), Counter({3: 7.19, 2: 3.91, 0: 3.098, 1: 1.408, -1: 0.132, -2: 0.004}), Counter({3: 7.608, 2: 3.49, 0: 1.582, 1: 0.828, -1: 0.034, -2: 0.002}), Counter({3: 7.032, 2: 4.114, 0: 1.984, 1: 0.814, -1: 0.054, -2: 0.002})]\n",
      "....................................................................................................................ERROR WITH NUMBER OF ROUNDS\n",
      "teaching ai not to stalemate -_-\n",
      "................................................................................................................................................................................................................................................................................................................................................................................................/\n",
      "R/S 7/2 AVERAGE GAME LENGTH:  127.92\n",
      "R/S 7/2 AVERAGE CARDS PURCHASED:  12.9645\n",
      "WIN RATES:  [0.118, 0.1, 0.408, 0.378]\n",
      "RESERVATION SUMMARY:  [Counter({(3, 'board'): 1.29, (2, 'board'): 1.214, (1, 'board'): 0.994, (2, 'topdeck'): 0.256, (1, 'topdeck'): 0.252, (3, 'topdeck'): 0.23}), Counter({(3, 'board'): 1.338, (2, 'board'): 1.11, (1, 'board'): 0.958, (3, 'topdeck'): 0.274, (2, 'topdeck'): 0.252, (1, 'topdeck'): 0.206}), Counter({(3, 'board'): 1.83, (2, 'board'): 1.122, (1, 'board'): 0.67, (3, 'topdeck'): 0.124, (1, 'topdeck'): 0.1, (2, 'topdeck'): 0.098}), Counter({(3, 'board'): 1.878, (2, 'board'): 1.044, (1, 'board'): 0.666, (2, 'topdeck'): 0.13, (3, 'topdeck'): 0.126, (1, 'topdeck'): 0.12})]\n",
      "GEMS SUMMARY:  [Counter({3: 7.418, 2: 3.754, 0: 3.624, 1: 1.262, -1: 0.174, -2: 0.008}), Counter({3: 7.33, 0: 3.902, 2: 3.684, 1: 1.388, -1: 0.166, -2: 0.014}), Counter({3: 7.43, 2: 3.716, 0: 2.042, 1: 0.728, -1: 0.032, -2: 0.002}), Counter({3: 7.3, 2: 3.704, 0: 2.238, 1: 0.822, -1: 0.042})]\n",
      "ON ROUND 8\n",
      "...............................................................................................................................................................................................................................................................................................................................................................................................................................................................................................ERROR WITH NUMBER OF ROUNDS\n",
      "teaching ai not to stalemate -_-\n",
      "...................../\n",
      "R/S 8/0 AVERAGE GAME LENGTH:  129.312\n",
      "R/S 8/0 AVERAGE CARDS PURCHASED:  12.976\n",
      "WIN RATES:  [0.096, 0.1, 0.39, 0.414]\n",
      "RESERVATION SUMMARY:  [Counter({(3, 'board'): 1.354, (2, 'board'): 1.166, (1, 'board'): 0.958, (1, 'topdeck'): 0.242, (2, 'topdeck'): 0.232, (3, 'topdeck'): 0.186}), Counter({(3, 'board'): 1.31, (2, 'board'): 1.154, (1, 'board'): 1.0, (2, 'topdeck'): 0.282, (3, 'topdeck'): 0.224, (1, 'topdeck'): 0.206}), Counter({(3, 'board'): 1.842, (2, 'board'): 1.178, (1, 'board'): 0.564, (2, 'topdeck'): 0.158, (3, 'topdeck'): 0.134, (1, 'topdeck'): 0.108}), Counter({(3, 'board'): 2.042, (2, 'board'): 0.994, (1, 'board'): 0.612, (3, 'topdeck'): 0.14, (1, 'topdeck'): 0.104, (2, 'topdeck'): 0.102})]\n",
      "GEMS SUMMARY:  [Counter({3: 7.588, 0: 4.006, 2: 3.706, 1: 1.244, -1: 0.132, -2: 0.01}), Counter({3: 7.274, 2: 3.946, 0: 3.84, 1: 1.404, -1: 0.19, -2: 0.016}), Counter({3: 7.378, 2: 3.78, 0: 2.388, 1: 0.758, -1: 0.016, -2: 0.002}), Counter({3: 7.258, 2: 3.844, 0: 2.51, 1: 0.81, -1: 0.014, -2: 0.002})]\n",
      "..................................................................................................................................................................................................................................................................................................................................................................................................................................................................................................................../\n",
      "R/S 8/1 AVERAGE GAME LENGTH:  126.656\n",
      "R/S 8/1 AVERAGE CARDS PURCHASED:  13.1255\n",
      "WIN RATES:  [0.096, 0.132, 0.382, 0.392]\n",
      "RESERVATION SUMMARY:  [Counter({(3, 'board'): 1.37, (2, 'board'): 1.142, (1, 'board'): 0.948, (3, 'topdeck'): 0.272, (1, 'topdeck'): 0.218, (2, 'topdeck'): 0.218}), Counter({(3, 'board'): 1.282, (2, 'board'): 1.156, (1, 'board'): 1.072, (3, 'topdeck'): 0.274, (1, 'topdeck'): 0.244, (2, 'topdeck'): 0.236}), Counter({(3, 'board'): 1.914, (2, 'board'): 1.036, (1, 'board'): 0.618, (1, 'topdeck'): 0.148, (2, 'topdeck'): 0.122, (3, 'topdeck'): 0.118}), Counter({(3, 'board'): 2.072, (2, 'board'): 0.916, (1, 'board'): 0.506, (2, 'topdeck'): 0.15, (3, 'topdeck'): 0.14, (1, 'topdeck'): 0.098})]\n",
      "GEMS SUMMARY:  [Counter({3: 7.42, 2: 3.816, 0: 3.248, 1: 1.262, -1: 0.118, -2: 0.008}), Counter({3: 7.356, 2: 3.82, 0: 3.016, 1: 1.326, -1: 0.13, -2: 0.014, -3: 0.002}), Counter({3: 7.466, 2: 3.618, 0: 1.862, 1: 0.83, -1: 0.036}), Counter({3: 7.534, 2: 3.682, 0: 1.558, 1: 0.742, -1: 0.018, -2: 0.002})]\n"
     ]
    },
    {
     "name": "stdout",
     "output_type": "stream",
     "text": [
      "..................................................................................................................................................................................................................................................................................................................................................................................................................................................................................................................../\n",
      "R/S 8/2 AVERAGE GAME LENGTH:  125.712\n",
      "R/S 8/2 AVERAGE CARDS PURCHASED:  13.023\n",
      "WIN RATES:  [0.11, 0.124, 0.368, 0.404]\n",
      "RESERVATION SUMMARY:  [Counter({(3, 'board'): 1.342, (2, 'board'): 1.17, (1, 'board'): 1.002, (2, 'topdeck'): 0.252, (3, 'topdeck'): 0.25, (1, 'topdeck'): 0.208}), Counter({(3, 'board'): 1.43, (2, 'board'): 1.144, (1, 'board'): 0.902, (1, 'topdeck'): 0.228, (3, 'topdeck'): 0.224, (2, 'topdeck'): 0.182}), Counter({(3, 'board'): 1.82, (2, 'board'): 1.146, (1, 'board'): 0.608, (2, 'topdeck'): 0.176, (1, 'topdeck'): 0.13, (3, 'topdeck'): 0.112}), Counter({(3, 'board'): 2.008, (2, 'board'): 0.958, (1, 'board'): 0.578, (2, 'topdeck'): 0.15, (1, 'topdeck'): 0.11, (3, 'topdeck'): 0.098})]\n",
      "GEMS SUMMARY:  [Counter({3: 7.308, 2: 3.904, 0: 2.93, 1: 1.214, -1: 0.132}), Counter({3: 7.506, 2: 3.772, 0: 2.96, 1: 1.18, -1: 0.098, -2: 0.006, -3: 0.002}), Counter({3: 7.696, 2: 3.61, 0: 1.69, 1: 0.824, -1: 0.038, -2: 0.002}), Counter({3: 7.354, 2: 3.804, 0: 1.604, 1: 0.74, -1: 0.018})]\n",
      "ON ROUND 9\n",
      "..................................................................................................................................................................................................................................................................................................................................................................................................................................................................................................................../\n",
      "R/S 9/0 AVERAGE GAME LENGTH:  126.272\n",
      "R/S 9/0 AVERAGE CARDS PURCHASED:  13.045\n",
      "WIN RATES:  [0.134, 0.088, 0.392, 0.39]\n",
      "RESERVATION SUMMARY:  [Counter({(3, 'board'): 1.42, (2, 'board'): 1.074, (1, 'board'): 1.042, (2, 'topdeck'): 0.248, (1, 'topdeck'): 0.224, (3, 'topdeck'): 0.216}), Counter({(3, 'board'): 1.336, (2, 'board'): 1.134, (1, 'board'): 1.124, (3, 'topdeck'): 0.224, (1, 'topdeck'): 0.224, (2, 'topdeck'): 0.224}), Counter({(3, 'board'): 1.8, (2, 'board'): 1.116, (1, 'board'): 0.668, (2, 'topdeck'): 0.164, (3, 'topdeck'): 0.134, (1, 'topdeck'): 0.104}), Counter({(3, 'board'): 2.024, (2, 'board'): 0.962, (1, 'board'): 0.676, (2, 'topdeck'): 0.15, (3, 'topdeck'): 0.134, (1, 'topdeck'): 0.086})]\n",
      "GEMS SUMMARY:  [Counter({3: 7.33, 2: 3.706, 0: 3.006, 1: 1.322, -1: 0.146, -2: 0.01}), Counter({3: 7.176, 2: 4.068, 0: 3.148, 1: 1.31, -1: 0.15, -2: 0.006}), Counter({3: 7.524, 2: 3.684, 0: 1.88, 1: 0.79, -1: 0.02}), Counter({3: 7.14, 2: 3.924, 0: 1.518, 1: 0.702, -1: 0.02, -2: 0.004})]\n",
      "..................................................................................................................................................................................................................................................................................................................................................................................................................................................................................................................../\n",
      "R/S 9/1 AVERAGE GAME LENGTH:  125.96\n",
      "R/S 9/1 AVERAGE CARDS PURCHASED:  13.2105\n",
      "WIN RATES:  [0.198, 0.076, 0.35, 0.38]\n",
      "RESERVATION SUMMARY:  [Counter({(3, 'board'): 1.564, (2, 'board'): 1.15, (1, 'board'): 0.862, (3, 'topdeck'): 0.196, (1, 'topdeck'): 0.174, (2, 'topdeck'): 0.16}), Counter({(3, 'board'): 1.304, (2, 'board'): 1.164, (1, 'board'): 1.04, (2, 'topdeck'): 0.266, (3, 'topdeck'): 0.228, (1, 'topdeck'): 0.218}), Counter({(3, 'board'): 1.846, (2, 'board'): 1.146, (1, 'board'): 0.67, (3, 'topdeck'): 0.14, (1, 'topdeck'): 0.118, (2, 'topdeck'): 0.11}), Counter({(3, 'board'): 2.018, (2, 'board'): 0.976, (1, 'board'): 0.558, (2, 'topdeck'): 0.148, (3, 'topdeck'): 0.094, (1, 'topdeck'): 0.064})]\n",
      "GEMS SUMMARY:  [Counter({3: 7.616, 2: 3.43, 0: 2.36, 1: 0.966, -1: 0.078, -2: 0.006}), Counter({3: 7.18, 2: 4.06, 0: 3.412, 1: 1.318, -1: 0.144, -2: 0.006}), Counter({3: 7.428, 2: 3.782, 0: 1.832, 1: 0.766, -1: 0.036, -2: 0.004}), Counter({3: 7.172, 2: 4.028, 0: 1.656, 1: 0.61, -1: 0.014})]\n",
      "..................................................................................................................................................................................................................................................................................................................................................................................................................................................................................................................../\n",
      "R/S 9/2 AVERAGE GAME LENGTH:  124.936\n",
      "R/S 9/2 AVERAGE CARDS PURCHASED:  13.0995\n",
      "WIN RATES:  [0.188, 0.066, 0.318, 0.428]\n",
      "RESERVATION SUMMARY:  [Counter({(3, 'board'): 1.584, (2, 'board'): 1.09, (1, 'board'): 0.858, (3, 'topdeck'): 0.172, (1, 'topdeck'): 0.14, (2, 'topdeck'): 0.14}), Counter({(3, 'board'): 1.22, (2, 'board'): 1.172, (1, 'board'): 1.05, (2, 'topdeck'): 0.29, (3, 'topdeck'): 0.252, (1, 'topdeck'): 0.25}), Counter({(3, 'board'): 1.874, (2, 'board'): 1.058, (1, 'board'): 0.604, (2, 'topdeck'): 0.14, (3, 'topdeck'): 0.134, (1, 'topdeck'): 0.094}), Counter({(3, 'board'): 1.944, (2, 'board'): 1.09, (1, 'board'): 0.668, (2, 'topdeck'): 0.134, (3, 'topdeck'): 0.086, (1, 'topdeck'): 0.062})]\n",
      "GEMS SUMMARY:  [Counter({3: 7.36, 2: 3.698, 0: 2.402, 1: 1.01, -1: 0.068, -2: 0.002}), Counter({3: 7.252, 2: 3.858, 0: 3.434, 1: 1.372, -1: 0.152, -2: 0.014}), Counter({3: 7.628, 2: 3.866, 0: 1.882, 1: 0.738, -1: 0.02, -2: 0.002}), Counter({3: 7.084, 2: 3.652, 0: 1.35, 1: 0.566, -1: 0.022})]\n",
      "ON ROUND 10\n",
      "..................................................................................................................................................................................................................................................................................................................................................................................................................................................................................................................../\n",
      "R/S 10/0 AVERAGE GAME LENGTH:  126.456\n",
      "R/S 10/0 AVERAGE CARDS PURCHASED:  13.1235\n",
      "WIN RATES:  [0.198, 0.084, 0.324, 0.398]\n",
      "RESERVATION SUMMARY:  [Counter({(3, 'board'): 1.642, (2, 'board'): 1.078, (1, 'board'): 0.858, (3, 'topdeck'): 0.174, (1, 'topdeck'): 0.152, (2, 'topdeck'): 0.152}), Counter({(3, 'board'): 1.212, (2, 'board'): 1.208, (1, 'board'): 1.046, (3, 'topdeck'): 0.274, (1, 'topdeck'): 0.26, (2, 'topdeck'): 0.218}), Counter({(3, 'board'): 1.83, (2, 'board'): 1.1, (1, 'board'): 0.708, (1, 'topdeck'): 0.156, (2, 'topdeck'): 0.134, (3, 'topdeck'): 0.118}), Counter({(3, 'board'): 1.992, (2, 'board'): 1.042, (1, 'board'): 0.66, (2, 'topdeck'): 0.112, (3, 'topdeck'): 0.082, (1, 'topdeck'): 0.076})]\n",
      "GEMS SUMMARY:  [Counter({3: 7.404, 2: 3.694, 0: 2.53, 1: 1.044, -1: 0.078, -2: 0.002}), Counter({3: 7.196, 2: 3.962, 0: 3.32, 1: 1.478, -1: 0.188, -2: 0.006}), Counter({3: 7.402, 2: 3.876, 0: 1.97, 1: 0.92, -1: 0.032}), Counter({3: 6.932, 2: 4.126, 0: 1.732, 1: 0.764, -1: 0.02, -2: 0.002})]\n",
      "..................................................................................................................................................................................................................................................................................................................................................................................................................................................................................................................../\n",
      "R/S 10/1 AVERAGE GAME LENGTH:  125.408\n",
      "R/S 10/1 AVERAGE CARDS PURCHASED:  13.105\n",
      "WIN RATES:  [0.174, 0.076, 0.272, 0.48]\n",
      "RESERVATION SUMMARY:  [Counter({(3, 'board'): 1.59, (2, 'board'): 1.096, (1, 'board'): 0.778, (3, 'topdeck'): 0.216, (2, 'topdeck'): 0.168, (1, 'topdeck'): 0.12}), Counter({(3, 'board'): 1.296, (2, 'board'): 1.122, (1, 'board'): 1.072, (1, 'topdeck'): 0.272, (2, 'topdeck'): 0.272, (3, 'topdeck'): 0.24}), Counter({(3, 'board'): 1.666, (2, 'board'): 1.236, (1, 'board'): 0.678, (3, 'topdeck'): 0.162, (2, 'topdeck'): 0.138, (1, 'topdeck'): 0.104}), Counter({(3, 'board'): 1.944, (2, 'board'): 0.976, (1, 'board'): 0.678, (3, 'topdeck'): 0.112, (2, 'topdeck'): 0.11, (1, 'topdeck'): 0.088})]\n",
      "GEMS SUMMARY:  [Counter({3: 7.582, 2: 3.524, 0: 2.356, 1: 0.992, -1: 0.088, -2: 0.01}), Counter({3: 7.228, 2: 3.928, 0: 3.39, 1: 1.264, -1: 0.15, -2: 0.02}), Counter({3: 7.46, 2: 3.836, 0: 2.454, 1: 0.87, -1: 0.036}), Counter({3: 6.824, 2: 3.85, 0: 1.45, 1: 0.528, -1: 0.014})]\n"
     ]
    },
    {
     "name": "stdout",
     "output_type": "stream",
     "text": [
      "...............................................................................................................................................................................................................................................................................................................................................................................................................................................................ERROR WITH NUMBER OF ROUNDS\n",
      "teaching ai not to stalemate -_-\n",
      "...................................................../\n",
      "R/S 10/2 AVERAGE GAME LENGTH:  126.832\n",
      "R/S 10/2 AVERAGE CARDS PURCHASED:  13.0975\n",
      "WIN RATES:  [0.204, 0.092, 0.296, 0.408]\n",
      "RESERVATION SUMMARY:  [Counter({(3, 'board'): 1.602, (2, 'board'): 1.114, (1, 'board'): 0.9, (2, 'topdeck'): 0.21, (1, 'topdeck'): 0.17, (3, 'topdeck'): 0.158}), Counter({(3, 'board'): 1.27, (2, 'board'): 1.106, (1, 'board'): 1.106, (3, 'topdeck'): 0.26, (2, 'topdeck'): 0.246, (1, 'topdeck'): 0.194}), Counter({(3, 'board'): 1.774, (2, 'board'): 1.106, (1, 'board'): 0.624, (3, 'topdeck'): 0.188, (2, 'topdeck'): 0.156, (1, 'topdeck'): 0.126}), Counter({(3, 'board'): 2.008, (2, 'board'): 0.986, (1, 'board'): 0.582, (2, 'topdeck'): 0.11, (3, 'topdeck'): 0.068, (1, 'topdeck'): 0.064})]\n",
      "GEMS SUMMARY:  [Counter({3: 7.374, 2: 3.616, 0: 2.89, 1: 1.002, -1: 0.056, -2: 0.008}), Counter({3: 7.222, 2: 4.018, 0: 3.43, 1: 1.298, -1: 0.13, -2: 0.012}), Counter({3: 7.51, 2: 3.85, 0: 2.564, 1: 0.838, -1: 0.036}), Counter({3: 6.878, 2: 3.898, 0: 2.086, 1: 0.584, -1: 0.014})]\n",
      "ON ROUND 11\n",
      ".................................................................................................................................................................................................................................................................................................................................................................................................................................................................................................ERROR WITH NUMBER OF ROUNDS\n",
      "teaching ai not to stalemate -_-\n",
      ".................../\n",
      "R/S 11/0 AVERAGE GAME LENGTH:  127.624\n",
      "R/S 11/0 AVERAGE CARDS PURCHASED:  13.026\n",
      "WIN RATES:  [0.13, 0.09, 0.354, 0.432]\n",
      "RESERVATION SUMMARY:  [Counter({(3, 'board'): 1.55, (2, 'board'): 1.156, (1, 'board'): 0.846, (3, 'topdeck'): 0.216, (2, 'topdeck'): 0.188, (1, 'topdeck'): 0.15}), Counter({(3, 'board'): 1.282, (2, 'board'): 1.128, (1, 'board'): 1.068, (2, 'topdeck'): 0.288, (3, 'topdeck'): 0.224, (1, 'topdeck'): 0.212}), Counter({(3, 'board'): 1.64, (2, 'board'): 1.23, (1, 'board'): 0.766, (2, 'topdeck'): 0.178, (3, 'topdeck'): 0.162, (1, 'topdeck'): 0.146}), Counter({(3, 'board'): 1.99, (2, 'board'): 1.054, (1, 'board'): 0.68, (2, 'topdeck'): 0.114, (3, 'topdeck'): 0.094, (1, 'topdeck'): 0.074})]\n",
      "GEMS SUMMARY:  [Counter({3: 7.372, 2: 3.77, 0: 3.308, 1: 1.12, -1: 0.092, -2: 0.002}), Counter({3: 7.27, 2: 3.966, 0: 3.696, 1: 1.21, -1: 0.122}), Counter({3: 7.538, 2: 3.762, 0: 2.486, 1: 0.838, -1: 0.054}), Counter({3: 6.73, 2: 3.948, 0: 2.152, 1: 0.624, -1: 0.024})]\n",
      "..................................................................................................................................................................................................................................................................................................................................................................................................................................................................................................................../\n",
      "R/S 11/1 AVERAGE GAME LENGTH:  125.416\n",
      "R/S 11/1 AVERAGE CARDS PURCHASED:  13.191\n",
      "WIN RATES:  [0.152, 0.114, 0.318, 0.418]\n",
      "RESERVATION SUMMARY:  [Counter({(3, 'board'): 1.474, (2, 'board'): 1.102, (1, 'board'): 0.978, (3, 'topdeck'): 0.228, (2, 'topdeck'): 0.194, (1, 'topdeck'): 0.17}), Counter({(3, 'board'): 1.216, (2, 'board'): 1.196, (1, 'board'): 1.058, (3, 'topdeck'): 0.286, (1, 'topdeck'): 0.228, (2, 'topdeck'): 0.222}), Counter({(3, 'board'): 1.75, (2, 'board'): 1.172, (1, 'board'): 0.674, (3, 'topdeck'): 0.162, (1, 'topdeck'): 0.14, (2, 'topdeck'): 0.124}), Counter({(3, 'board'): 2.038, (2, 'board'): 0.994, (1, 'board'): 0.694, (3, 'topdeck'): 0.09, (2, 'topdeck'): 0.088, (1, 'topdeck'): 0.062})]\n",
      "GEMS SUMMARY:  [Counter({3: 7.198, 2: 3.754, 0: 2.556, 1: 1.062, -1: 0.084, -2: 0.006}), Counter({3: 7.218, 2: 3.944, 0: 3.172, 1: 1.314, -1: 0.142, -2: 0.01}), Counter({3: 7.614, 2: 3.658, 0: 2.018, 1: 0.804, -1: 0.032}), Counter({3: 6.874, 2: 3.97, 0: 1.306, 1: 0.572, -1: 0.004})]\n",
      "..................................................................................................................................................................................................................................................................................................................................................................................................................................................................................................................../\n",
      "R/S 11/2 AVERAGE GAME LENGTH:  124.872\n",
      "R/S 11/2 AVERAGE CARDS PURCHASED:  13.1345\n",
      "WIN RATES:  [0.154, 0.096, 0.314, 0.436]\n",
      "RESERVATION SUMMARY:  [Counter({(3, 'board'): 1.516, (2, 'board'): 1.144, (1, 'board'): 0.868, (3, 'topdeck'): 0.212, (2, 'topdeck'): 0.192, (1, 'topdeck'): 0.182}), Counter({(2, 'board'): 1.274, (3, 'board'): 1.242, (1, 'board'): 0.96, (3, 'topdeck'): 0.234, (1, 'topdeck'): 0.226, (2, 'topdeck'): 0.218}), Counter({(3, 'board'): 1.66, (2, 'board'): 1.168, (1, 'board'): 0.704, (3, 'topdeck'): 0.166, (2, 'topdeck'): 0.148, (1, 'topdeck'): 0.116}), Counter({(3, 'board'): 1.984, (2, 'board'): 1.026, (1, 'board'): 0.712, (2, 'topdeck'): 0.1, (3, 'topdeck'): 0.084, (1, 'topdeck'): 0.056})]\n",
      "GEMS SUMMARY:  [Counter({3: 7.354, 2: 3.724, 0: 2.648, 1: 1.09, -1: 0.102, -2: 0.004}), Counter({3: 7.206, 2: 3.948, 0: 2.722, 1: 1.172, -1: 0.102, -2: 0.002}), Counter({3: 7.486, 2: 3.772, 0: 2.09, 1: 0.786, -1: 0.04, -2: 0.002}), Counter({3: 6.898, 2: 4.028, 0: 1.388, 1: 0.566, -1: 0.01, -2: 0.002})]\n",
      "ON ROUND 12\n"
     ]
    },
    {
     "name": "stderr",
     "output_type": "stream",
     "text": [
      "/ntfsl/workspace/splendor_ai/player.py:231: RuntimeWarning: invalid value encountered in true_divide\n",
      "  p=score/np.sum(score)\n"
     ]
    },
    {
     "name": "stdout",
     "output_type": "stream",
     "text": [
      ".."
     ]
    },
    {
     "name": "stderr",
     "output_type": "stream",
     "text": [
      "/ntfsl/workspace/splendor_ai/player.py:231: RuntimeWarning: invalid value encountered in less\n",
      "  p=score/np.sum(score)\n"
     ]
    },
    {
     "name": "stdout",
     "output_type": "stream",
     "text": [
      "..........................................................................................................................................................................................................................................................................................................................................................................................................................................................."
     ]
    },
    {
     "ename": "KeyboardInterrupt",
     "evalue": "",
     "output_type": "error",
     "traceback": [
      "\u001b[0;31m---------------------------------------------------------------------------\u001b[0m",
      "\u001b[0;31mKeyboardInterrupt\u001b[0m                         Traceback (most recent call last)",
      "\u001b[0;32m<ipython-input-11-46be07169837>\u001b[0m in \u001b[0;36m<module>\u001b[0;34m()\u001b[0m\n\u001b[1;32m     21\u001b[0m             new_game = Game(id=i*n_sets_per_round+n_simulations_per_set + j*n_simulations_per_set+k, \n\u001b[1;32m     22\u001b[0m                             players=players)\n\u001b[0;32m---> 23\u001b[0;31m             \u001b[0mstalemate\u001b[0m \u001b[0;34m=\u001b[0m \u001b[0mnew_game\u001b[0m\u001b[0;34m.\u001b[0m\u001b[0mrun\u001b[0m\u001b[0;34m(\u001b[0m\u001b[0;34m)\u001b[0m\u001b[0;34m\u001b[0m\u001b[0m\n\u001b[0m\u001b[1;32m     24\u001b[0m             \u001b[0;31m# stalemates should be extraordinarily rare and pretty much nonexistent\u001b[0m\u001b[0;34m\u001b[0m\u001b[0;34m\u001b[0m\u001b[0m\n\u001b[1;32m     25\u001b[0m             \u001b[0;32mif\u001b[0m \u001b[0mstalemate\u001b[0m\u001b[0;34m:\u001b[0m\u001b[0;34m\u001b[0m\u001b[0m\n",
      "\u001b[0;32m/ntfsl/workspace/splendor_ai/game.py\u001b[0m in \u001b[0;36mrun\u001b[0;34m(self)\u001b[0m\n\u001b[1;32m     89\u001b[0m                                 \u001b[0mself\u001b[0m\u001b[0;34m.\u001b[0m\u001b[0mturn\u001b[0m \u001b[0;34m+=\u001b[0m \u001b[0;36m1\u001b[0m\u001b[0;34m\u001b[0m\u001b[0m\n\u001b[1;32m     90\u001b[0m                                 \u001b[0mplayer\u001b[0m\u001b[0;34m.\u001b[0m\u001b[0mactive_turn\u001b[0m\u001b[0;34m=\u001b[0m\u001b[0;32mTrue\u001b[0m\u001b[0;34m\u001b[0m\u001b[0m\n\u001b[0;32m---> 91\u001b[0;31m                                 \u001b[0mplayer\u001b[0m\u001b[0;34m.\u001b[0m\u001b[0mtake_turn\u001b[0m\u001b[0;34m(\u001b[0m\u001b[0;34m)\u001b[0m\u001b[0;34m\u001b[0m\u001b[0m\n\u001b[0m\u001b[1;32m     92\u001b[0m                                 \u001b[0mplayer\u001b[0m\u001b[0;34m.\u001b[0m\u001b[0mactive_turn\u001b[0m\u001b[0;34m=\u001b[0m\u001b[0;32mFalse\u001b[0m\u001b[0;34m\u001b[0m\u001b[0m\n\u001b[1;32m     93\u001b[0m                                 \u001b[0;32mif\u001b[0m \u001b[0mself\u001b[0m\u001b[0;34m.\u001b[0m\u001b[0mrecord_plain_history\u001b[0m\u001b[0;34m:\u001b[0m\u001b[0;34m\u001b[0m\u001b[0m\n",
      "\u001b[0;32m/ntfsl/workspace/splendor_ai/player.py\u001b[0m in \u001b[0;36mtake_turn\u001b[0;34m(self)\u001b[0m\n\u001b[1;32m    208\u001b[0m                 \u001b[0mself\u001b[0m\u001b[0;34m.\u001b[0m\u001b[0mrecord_q_state\u001b[0m\u001b[0;34m(\u001b[0m\u001b[0;34m)\u001b[0m\u001b[0;34m\u001b[0m\u001b[0m\n\u001b[1;32m    209\u001b[0m \u001b[0;34m\u001b[0m\u001b[0m\n\u001b[0;32m--> 210\u001b[0;31m                 \u001b[0mself\u001b[0m\u001b[0;34m.\u001b[0m\u001b[0mmake_turn_action\u001b[0m\u001b[0;34m(\u001b[0m\u001b[0;34m)\u001b[0m\u001b[0;34m\u001b[0m\u001b[0m\n\u001b[0m\u001b[1;32m    211\u001b[0m \u001b[0;34m\u001b[0m\u001b[0m\n\u001b[1;32m    212\u001b[0m                 \u001b[0mself\u001b[0m\u001b[0;34m.\u001b[0m\u001b[0mobjective_check\u001b[0m\u001b[0;34m(\u001b[0m\u001b[0;34m)\u001b[0m\u001b[0;34m\u001b[0m\u001b[0m\n",
      "\u001b[0;32m/ntfsl/workspace/splendor_ai/player.py\u001b[0m in \u001b[0;36mmake_turn_action\u001b[0;34m(self)\u001b[0m\n\u001b[1;32m    319\u001b[0m \u001b[0;34m\u001b[0m\u001b[0m\n\u001b[1;32m    320\u001b[0m \t\t\"\"\"\n\u001b[0;32m--> 321\u001b[0;31m                 \u001b[0mpurchasing_options\u001b[0m \u001b[0;34m=\u001b[0m \u001b[0mself\u001b[0m\u001b[0;34m.\u001b[0m\u001b[0msimulate_purchasing_options\u001b[0m\u001b[0;34m(\u001b[0m\u001b[0;34m)\u001b[0m\u001b[0;34m\u001b[0m\u001b[0m\n\u001b[0m\u001b[1;32m    322\u001b[0m                 \u001b[0mreserving_options\u001b[0m \u001b[0;34m=\u001b[0m \u001b[0mself\u001b[0m\u001b[0;34m.\u001b[0m\u001b[0msimulate_reserving_options\u001b[0m\u001b[0;34m(\u001b[0m\u001b[0;34m)\u001b[0m\u001b[0;34m\u001b[0m\u001b[0m\n\u001b[1;32m    323\u001b[0m                 \u001b[0mgem_taking_options\u001b[0m \u001b[0;34m=\u001b[0m \u001b[0mself\u001b[0m\u001b[0;34m.\u001b[0m\u001b[0msimulate_gem_taking_options\u001b[0m\u001b[0;34m(\u001b[0m\u001b[0;34m)\u001b[0m\u001b[0;34m\u001b[0m\u001b[0m\n",
      "\u001b[0;32m/ntfsl/workspace/splendor_ai/player.py\u001b[0m in \u001b[0;36msimulate_purchasing_options\u001b[0;34m(self)\u001b[0m\n\u001b[1;32m    433\u001b[0m                                 \u001b[0mcard_changes\u001b[0m\u001b[0;34m=\u001b[0m\u001b[0mpurchasing_options\u001b[0m\u001b[0;34m,\u001b[0m\u001b[0;34m\u001b[0m\u001b[0m\n\u001b[1;32m    434\u001b[0m \t\t\t)\n\u001b[0;32m--> 435\u001b[0;31m                         \u001b[0mpredictions\u001b[0m \u001b[0;34m=\u001b[0m \u001b[0mself\u001b[0m\u001b[0;34m.\u001b[0m\u001b[0mai\u001b[0m\u001b[0;34m.\u001b[0m\u001b[0mmake_predictions\u001b[0m\u001b[0;34m(\u001b[0m\u001b[0mpurchasing_serializations\u001b[0m\u001b[0;34m)\u001b[0m\u001b[0;34m\u001b[0m\u001b[0m\n\u001b[0m\u001b[1;32m    436\u001b[0m \t\t\treturn {\n\u001b[1;32m    437\u001b[0m                                 \u001b[0;34m'predictions'\u001b[0m\u001b[0;34m:\u001b[0m \u001b[0mpredictions\u001b[0m\u001b[0;34m,\u001b[0m\u001b[0;34m\u001b[0m\u001b[0m\n",
      "\u001b[0;32m/ntfsl/workspace/splendor_ai/ai.py\u001b[0m in \u001b[0;36mmake_predictions\u001b[0;34m(self, inputs)\u001b[0m\n\u001b[1;32m    275\u001b[0m \u001b[0;34m\u001b[0m\u001b[0m\n\u001b[1;32m    276\u001b[0m                 \u001b[0;32mfor\u001b[0m \u001b[0mi\u001b[0m\u001b[0;34m,\u001b[0m \u001b[0mq_index\u001b[0m \u001b[0;32min\u001b[0m \u001b[0menumerate\u001b[0m\u001b[0;34m(\u001b[0m\u001b[0mself\u001b[0m\u001b[0;34m.\u001b[0m\u001b[0mhyperparameters\u001b[0m\u001b[0;34m[\u001b[0m\u001b[0;34m'output_layers'\u001b[0m\u001b[0;34m]\u001b[0m\u001b[0;34m)\u001b[0m\u001b[0;34m:\u001b[0m\u001b[0;34m\u001b[0m\u001b[0m\n\u001b[0;32m--> 277\u001b[0;31m                         \u001b[0mq_predictions\u001b[0m\u001b[0;34m[\u001b[0m\u001b[0mi\u001b[0m\u001b[0;34m]\u001b[0m \u001b[0;34m=\u001b[0m \u001b[0mself\u001b[0m\u001b[0;34m.\u001b[0m\u001b[0mq_networks\u001b[0m\u001b[0;34m[\u001b[0m\u001b[0mi\u001b[0m\u001b[0;34m]\u001b[0m\u001b[0;34m.\u001b[0m\u001b[0mpredict\u001b[0m\u001b[0;34m(\u001b[0m\u001b[0mstacked_network_inputs\u001b[0m\u001b[0;34m)\u001b[0m\u001b[0;34m[\u001b[0m\u001b[0;34m:\u001b[0m\u001b[0;34m,\u001b[0m\u001b[0;36m0\u001b[0m\u001b[0;34m]\u001b[0m\u001b[0;34m\u001b[0m\u001b[0m\n\u001b[0m\u001b[1;32m    278\u001b[0m \u001b[0;34m\u001b[0m\u001b[0m\n\u001b[1;32m    279\u001b[0m                 \u001b[0;32mreturn\u001b[0m\u001b[0;34m(\u001b[0m\u001b[0;34m{\u001b[0m\u001b[0;34m'win_prediction'\u001b[0m\u001b[0;34m:\u001b[0m \u001b[0mwin_prediction\u001b[0m\u001b[0;34m,\u001b[0m \u001b[0;34m'q_predictions'\u001b[0m\u001b[0;34m:\u001b[0m \u001b[0mq_predictions\u001b[0m\u001b[0;34m}\u001b[0m\u001b[0;34m)\u001b[0m\u001b[0;34m\u001b[0m\u001b[0m\n",
      "\u001b[0;32m/usr/local/lib/python3.5/dist-packages/keras/engine/training.py\u001b[0m in \u001b[0;36mpredict\u001b[0;34m(self, x, batch_size, verbose, steps)\u001b[0m\n\u001b[1;32m   1833\u001b[0m         \u001b[0mf\u001b[0m \u001b[0;34m=\u001b[0m \u001b[0mself\u001b[0m\u001b[0;34m.\u001b[0m\u001b[0mpredict_function\u001b[0m\u001b[0;34m\u001b[0m\u001b[0m\n\u001b[1;32m   1834\u001b[0m         return self._predict_loop(f, ins, batch_size=batch_size,\n\u001b[0;32m-> 1835\u001b[0;31m                                   verbose=verbose, steps=steps)\n\u001b[0m\u001b[1;32m   1836\u001b[0m \u001b[0;34m\u001b[0m\u001b[0m\n\u001b[1;32m   1837\u001b[0m     def train_on_batch(self, x, y,\n",
      "\u001b[0;32m/usr/local/lib/python3.5/dist-packages/keras/engine/training.py\u001b[0m in \u001b[0;36m_predict_loop\u001b[0;34m(self, f, ins, batch_size, verbose, steps)\u001b[0m\n\u001b[1;32m   1328\u001b[0m                     \u001b[0mins_batch\u001b[0m\u001b[0;34m[\u001b[0m\u001b[0mi\u001b[0m\u001b[0;34m]\u001b[0m \u001b[0;34m=\u001b[0m \u001b[0mins_batch\u001b[0m\u001b[0;34m[\u001b[0m\u001b[0mi\u001b[0m\u001b[0;34m]\u001b[0m\u001b[0;34m.\u001b[0m\u001b[0mtoarray\u001b[0m\u001b[0;34m(\u001b[0m\u001b[0;34m)\u001b[0m\u001b[0;34m\u001b[0m\u001b[0m\n\u001b[1;32m   1329\u001b[0m \u001b[0;34m\u001b[0m\u001b[0m\n\u001b[0;32m-> 1330\u001b[0;31m                 \u001b[0mbatch_outs\u001b[0m \u001b[0;34m=\u001b[0m \u001b[0mf\u001b[0m\u001b[0;34m(\u001b[0m\u001b[0mins_batch\u001b[0m\u001b[0;34m)\u001b[0m\u001b[0;34m\u001b[0m\u001b[0m\n\u001b[0m\u001b[1;32m   1331\u001b[0m                 \u001b[0;32mif\u001b[0m \u001b[0;32mnot\u001b[0m \u001b[0misinstance\u001b[0m\u001b[0;34m(\u001b[0m\u001b[0mbatch_outs\u001b[0m\u001b[0;34m,\u001b[0m \u001b[0mlist\u001b[0m\u001b[0;34m)\u001b[0m\u001b[0;34m:\u001b[0m\u001b[0;34m\u001b[0m\u001b[0m\n\u001b[1;32m   1332\u001b[0m                     \u001b[0mbatch_outs\u001b[0m \u001b[0;34m=\u001b[0m \u001b[0;34m[\u001b[0m\u001b[0mbatch_outs\u001b[0m\u001b[0;34m]\u001b[0m\u001b[0;34m\u001b[0m\u001b[0m\n",
      "\u001b[0;32m/usr/local/lib/python3.5/dist-packages/keras/backend/tensorflow_backend.py\u001b[0m in \u001b[0;36m__call__\u001b[0;34m(self, inputs)\u001b[0m\n\u001b[1;32m   2476\u001b[0m         \u001b[0msession\u001b[0m \u001b[0;34m=\u001b[0m \u001b[0mget_session\u001b[0m\u001b[0;34m(\u001b[0m\u001b[0;34m)\u001b[0m\u001b[0;34m\u001b[0m\u001b[0m\n\u001b[1;32m   2477\u001b[0m         updated = session.run(fetches=fetches, feed_dict=feed_dict,\n\u001b[0;32m-> 2478\u001b[0;31m                               **self.session_kwargs)\n\u001b[0m\u001b[1;32m   2479\u001b[0m         \u001b[0;32mreturn\u001b[0m \u001b[0mupdated\u001b[0m\u001b[0;34m[\u001b[0m\u001b[0;34m:\u001b[0m\u001b[0mlen\u001b[0m\u001b[0;34m(\u001b[0m\u001b[0mself\u001b[0m\u001b[0;34m.\u001b[0m\u001b[0moutputs\u001b[0m\u001b[0;34m)\u001b[0m\u001b[0;34m]\u001b[0m\u001b[0;34m\u001b[0m\u001b[0m\n\u001b[1;32m   2480\u001b[0m \u001b[0;34m\u001b[0m\u001b[0m\n",
      "\u001b[0;32m/usr/local/lib/python3.5/dist-packages/tensorflow/python/client/session.py\u001b[0m in \u001b[0;36mrun\u001b[0;34m(self, fetches, feed_dict, options, run_metadata)\u001b[0m\n\u001b[1;32m    903\u001b[0m     \u001b[0;32mtry\u001b[0m\u001b[0;34m:\u001b[0m\u001b[0;34m\u001b[0m\u001b[0m\n\u001b[1;32m    904\u001b[0m       result = self._run(None, fetches, feed_dict, options_ptr,\n\u001b[0;32m--> 905\u001b[0;31m                          run_metadata_ptr)\n\u001b[0m\u001b[1;32m    906\u001b[0m       \u001b[0;32mif\u001b[0m \u001b[0mrun_metadata\u001b[0m\u001b[0;34m:\u001b[0m\u001b[0;34m\u001b[0m\u001b[0m\n\u001b[1;32m    907\u001b[0m         \u001b[0mproto_data\u001b[0m \u001b[0;34m=\u001b[0m \u001b[0mtf_session\u001b[0m\u001b[0;34m.\u001b[0m\u001b[0mTF_GetBuffer\u001b[0m\u001b[0;34m(\u001b[0m\u001b[0mrun_metadata_ptr\u001b[0m\u001b[0;34m)\u001b[0m\u001b[0;34m\u001b[0m\u001b[0m\n",
      "\u001b[0;32m/usr/local/lib/python3.5/dist-packages/tensorflow/python/client/session.py\u001b[0m in \u001b[0;36m_run\u001b[0;34m(self, handle, fetches, feed_dict, options, run_metadata)\u001b[0m\n\u001b[1;32m   1138\u001b[0m     \u001b[0;32mif\u001b[0m \u001b[0mfinal_fetches\u001b[0m \u001b[0;32mor\u001b[0m \u001b[0mfinal_targets\u001b[0m \u001b[0;32mor\u001b[0m \u001b[0;34m(\u001b[0m\u001b[0mhandle\u001b[0m \u001b[0;32mand\u001b[0m \u001b[0mfeed_dict_tensor\u001b[0m\u001b[0;34m)\u001b[0m\u001b[0;34m:\u001b[0m\u001b[0;34m\u001b[0m\u001b[0m\n\u001b[1;32m   1139\u001b[0m       results = self._do_run(handle, final_targets, final_fetches,\n\u001b[0;32m-> 1140\u001b[0;31m                              feed_dict_tensor, options, run_metadata)\n\u001b[0m\u001b[1;32m   1141\u001b[0m     \u001b[0;32melse\u001b[0m\u001b[0;34m:\u001b[0m\u001b[0;34m\u001b[0m\u001b[0m\n\u001b[1;32m   1142\u001b[0m       \u001b[0mresults\u001b[0m \u001b[0;34m=\u001b[0m \u001b[0;34m[\u001b[0m\u001b[0;34m]\u001b[0m\u001b[0;34m\u001b[0m\u001b[0m\n",
      "\u001b[0;32m/usr/local/lib/python3.5/dist-packages/tensorflow/python/client/session.py\u001b[0m in \u001b[0;36m_do_run\u001b[0;34m(self, handle, target_list, fetch_list, feed_dict, options, run_metadata)\u001b[0m\n\u001b[1;32m   1319\u001b[0m     \u001b[0;32mif\u001b[0m \u001b[0mhandle\u001b[0m \u001b[0;32mis\u001b[0m \u001b[0;32mNone\u001b[0m\u001b[0;34m:\u001b[0m\u001b[0;34m\u001b[0m\u001b[0m\n\u001b[1;32m   1320\u001b[0m       return self._do_call(_run_fn, feeds, fetches, targets, options,\n\u001b[0;32m-> 1321\u001b[0;31m                            run_metadata)\n\u001b[0m\u001b[1;32m   1322\u001b[0m     \u001b[0;32melse\u001b[0m\u001b[0;34m:\u001b[0m\u001b[0;34m\u001b[0m\u001b[0m\n\u001b[1;32m   1323\u001b[0m       \u001b[0;32mreturn\u001b[0m \u001b[0mself\u001b[0m\u001b[0;34m.\u001b[0m\u001b[0m_do_call\u001b[0m\u001b[0;34m(\u001b[0m\u001b[0m_prun_fn\u001b[0m\u001b[0;34m,\u001b[0m \u001b[0mhandle\u001b[0m\u001b[0;34m,\u001b[0m \u001b[0mfeeds\u001b[0m\u001b[0;34m,\u001b[0m \u001b[0mfetches\u001b[0m\u001b[0;34m)\u001b[0m\u001b[0;34m\u001b[0m\u001b[0m\n",
      "\u001b[0;32m/usr/local/lib/python3.5/dist-packages/tensorflow/python/client/session.py\u001b[0m in \u001b[0;36m_do_call\u001b[0;34m(self, fn, *args)\u001b[0m\n\u001b[1;32m   1325\u001b[0m   \u001b[0;32mdef\u001b[0m \u001b[0m_do_call\u001b[0m\u001b[0;34m(\u001b[0m\u001b[0mself\u001b[0m\u001b[0;34m,\u001b[0m \u001b[0mfn\u001b[0m\u001b[0;34m,\u001b[0m \u001b[0;34m*\u001b[0m\u001b[0margs\u001b[0m\u001b[0;34m)\u001b[0m\u001b[0;34m:\u001b[0m\u001b[0;34m\u001b[0m\u001b[0m\n\u001b[1;32m   1326\u001b[0m     \u001b[0;32mtry\u001b[0m\u001b[0;34m:\u001b[0m\u001b[0;34m\u001b[0m\u001b[0m\n\u001b[0;32m-> 1327\u001b[0;31m       \u001b[0;32mreturn\u001b[0m \u001b[0mfn\u001b[0m\u001b[0;34m(\u001b[0m\u001b[0;34m*\u001b[0m\u001b[0margs\u001b[0m\u001b[0;34m)\u001b[0m\u001b[0;34m\u001b[0m\u001b[0m\n\u001b[0m\u001b[1;32m   1328\u001b[0m     \u001b[0;32mexcept\u001b[0m \u001b[0merrors\u001b[0m\u001b[0;34m.\u001b[0m\u001b[0mOpError\u001b[0m \u001b[0;32mas\u001b[0m \u001b[0me\u001b[0m\u001b[0;34m:\u001b[0m\u001b[0;34m\u001b[0m\u001b[0m\n\u001b[1;32m   1329\u001b[0m       \u001b[0mmessage\u001b[0m \u001b[0;34m=\u001b[0m \u001b[0mcompat\u001b[0m\u001b[0;34m.\u001b[0m\u001b[0mas_text\u001b[0m\u001b[0;34m(\u001b[0m\u001b[0me\u001b[0m\u001b[0;34m.\u001b[0m\u001b[0mmessage\u001b[0m\u001b[0;34m)\u001b[0m\u001b[0;34m\u001b[0m\u001b[0m\n",
      "\u001b[0;32m/usr/local/lib/python3.5/dist-packages/tensorflow/python/client/session.py\u001b[0m in \u001b[0;36m_run_fn\u001b[0;34m(feed_dict, fetch_list, target_list, options, run_metadata)\u001b[0m\n\u001b[1;32m   1310\u001b[0m       \u001b[0mself\u001b[0m\u001b[0;34m.\u001b[0m\u001b[0m_extend_graph\u001b[0m\u001b[0;34m(\u001b[0m\u001b[0;34m)\u001b[0m\u001b[0;34m\u001b[0m\u001b[0m\n\u001b[1;32m   1311\u001b[0m       return self._call_tf_sessionrun(\n\u001b[0;32m-> 1312\u001b[0;31m           options, feed_dict, fetch_list, target_list, run_metadata)\n\u001b[0m\u001b[1;32m   1313\u001b[0m \u001b[0;34m\u001b[0m\u001b[0m\n\u001b[1;32m   1314\u001b[0m     \u001b[0;32mdef\u001b[0m \u001b[0m_prun_fn\u001b[0m\u001b[0;34m(\u001b[0m\u001b[0mhandle\u001b[0m\u001b[0;34m,\u001b[0m \u001b[0mfeed_dict\u001b[0m\u001b[0;34m,\u001b[0m \u001b[0mfetch_list\u001b[0m\u001b[0;34m)\u001b[0m\u001b[0;34m:\u001b[0m\u001b[0;34m\u001b[0m\u001b[0m\n",
      "\u001b[0;32m/usr/local/lib/python3.5/dist-packages/tensorflow/python/client/session.py\u001b[0m in \u001b[0;36m_call_tf_sessionrun\u001b[0;34m(self, options, feed_dict, fetch_list, target_list, run_metadata)\u001b[0m\n\u001b[1;32m   1418\u001b[0m         return tf_session.TF_Run(\n\u001b[1;32m   1419\u001b[0m             \u001b[0mself\u001b[0m\u001b[0;34m.\u001b[0m\u001b[0m_session\u001b[0m\u001b[0;34m,\u001b[0m \u001b[0moptions\u001b[0m\u001b[0;34m,\u001b[0m \u001b[0mfeed_dict\u001b[0m\u001b[0;34m,\u001b[0m \u001b[0mfetch_list\u001b[0m\u001b[0;34m,\u001b[0m \u001b[0mtarget_list\u001b[0m\u001b[0;34m,\u001b[0m\u001b[0;34m\u001b[0m\u001b[0m\n\u001b[0;32m-> 1420\u001b[0;31m             status, run_metadata)\n\u001b[0m\u001b[1;32m   1421\u001b[0m \u001b[0;34m\u001b[0m\u001b[0m\n\u001b[1;32m   1422\u001b[0m   \u001b[0;32mdef\u001b[0m \u001b[0m_call_tf_sessionprun\u001b[0m\u001b[0;34m(\u001b[0m\u001b[0mself\u001b[0m\u001b[0;34m,\u001b[0m \u001b[0mhandle\u001b[0m\u001b[0;34m,\u001b[0m \u001b[0mfeed_dict\u001b[0m\u001b[0;34m,\u001b[0m \u001b[0mfetch_list\u001b[0m\u001b[0;34m)\u001b[0m\u001b[0;34m:\u001b[0m\u001b[0;34m\u001b[0m\u001b[0m\n",
      "\u001b[0;31mKeyboardInterrupt\u001b[0m: "
     ]
    }
   ],
   "source": [
    "n_rounds = 6\n",
    "n_sets_per_round = 3\n",
    "n_simulations_per_set = 500\n",
    "\n",
    "start_time = datetime.now()\n",
    "for i in range(7, 7+n_rounds):\n",
    "    print('ON ROUND', i)\n",
    "    phase = min(6, i // 2 + 1)\n",
    "    temperature = calculate_temperature(i)\n",
    "    \n",
    "    for p_i, player in enumerate(players):\n",
    "        player.temperature = temperature\n",
    "        player.decision_weighting = get_phase_parameters(phase)\n",
    "        \n",
    "    for j in range(n_sets_per_round):\n",
    "        set_start_time = datetime.now()\n",
    "        for k in range(n_simulations_per_set):\n",
    "            # if (i==0) and (j==0):\n",
    "            #    # soft restart\n",
    "            #    break\n",
    "            new_game = Game(id=i*n_sets_per_round+n_simulations_per_set + j*n_simulations_per_set+k, \n",
    "                            players=players)\n",
    "            stalemate = new_game.run()  \n",
    "            # stalemates should be extraordinarily rare and pretty much nonexistent\n",
    "            if stalemate: \n",
    "                very_long_game = new_game\n",
    "                print('teaching ai not to stalemate -_-')\n",
    "                for player in players:\n",
    "                    player.transfer_history_to_ai()\n",
    "                    player.ai.train_models(verbose=0,n_epochs=3)\n",
    "            sys.stdout.write('.')\n",
    "            sys.stdout.flush()\n",
    "            # record historic game data for each set\n",
    "            game_data[(i,j)].append(new_game.copy_plain_data_for_self_and_players())\n",
    "        set_stop_time = datetime.now()\n",
    "        duration = (set_start_time-set_stop_time).seconds\n",
    "        for player in players:\n",
    "            player.transfer_history_to_ai()\n",
    "            # train more epochs this time to make better predictions\n",
    "            player.ai.train_models(verbose=0, n_epochs=30, batch_size=1500)\n",
    "        set_durations[(i,j,k)] = duration\n",
    "        print('/')\n",
    "        sys.stdout.flush()\n",
    "        avg_game_length = np.mean([x['game']['turn'] for x in game_data[(i,j)]])\n",
    "        print('R/S %d/%d AVERAGE GAME LENGTH: ' % (i, j), avg_game_length)\n",
    "        avg_cards_purchased = np.mean([\n",
    "            [\n",
    "                pdata['n_cards'] \n",
    "                for pdata in x['players'].values()\n",
    "            ] \n",
    "            for x in game_data[(i,j)]\n",
    "        ]\n",
    "        )\n",
    "        print('R/S %d/%d AVERAGE CARDS PURCHASED: ' % (i, j), avg_cards_purchased)\n",
    "        # calculate win rates\n",
    "        player_data = [x['players'] for x in game_data[(i,j)]]\n",
    "        win_values = [[player_data[idx][pid]['win'] for idx in range(n_simulations_per_set)] for pid in range(4)]\n",
    "        win_rates = [np.mean(v) for v in win_values]\n",
    "        print('WIN RATES: ', str(win_rates))\n",
    "        # reservation averages\n",
    "        reservation_counters = [\n",
    "            [\n",
    "                player_data[idx][pid]['total_times_reserved'] \n",
    "                for idx in range(n_simulations_per_set)\n",
    "            ]\n",
    "            for pid in range(4)\n",
    "        ]\n",
    "        print('RESERVATION SUMMARY: ', [summarize_counters(counters) for counters in reservation_counters])\n",
    "        \n",
    "        # gem taking averages\n",
    "        gem_counters = [\n",
    "            [\n",
    "                player_data[idx][pid]['total_gems_taken'] \n",
    "                for idx in range(n_simulations_per_set)\n",
    "            ]\n",
    "            for pid in range(4)\n",
    "        ]\n",
    "        print('GEMS SUMMARY: ', [summarize_counters(counters) for counters in gem_counters])\n",
    "                             \n",
    "    for player in players:\n",
    "        player.reset(reset_extended_history=True)\n",
    "   \n",
    "    \n",
    "    for p_i, player in enumerate(players):\n",
    "        model_name = '{run_name}_player_%s_'.format(run_name=run_name) % str(p_i)\n",
    "        player.ai.save_models(model_name, index=i)\n",
    "    \n",
    "    \n",
    "stop_time = datetime.now()\n",
    "for time in [start_time, stop_time]:\n",
    "    print(time.strftime('%x %X'))\n",
    "    \n",
    "# save historic data\n",
    "import pickle\n",
    "with open('{run_name}_game_data.dat'.format(run_name=run_name), 'wb') as f:\n",
    "    pickle.dump(game_data, f)\n",
    "    \n",
    "with open('{run_name}_duration_data.dat'.format(run_name=run_name), 'wb') as f:\n",
    "    pickle.dump(set_durations, f)\n",
    "    \n"
   ]
  },
  {
   "cell_type": "code",
   "execution_count": 12,
   "metadata": {},
   "outputs": [],
   "source": [
    "# save historic data\n",
    "import pickle\n",
    "with open('{run_name}_game_data.dat'.format(run_name=run_name), 'wb') as f:\n",
    "    pickle.dump(game_data, f)\n",
    "    \n",
    "with open('{run_name}_duration_data.dat'.format(run_name=run_name), 'wb') as f:\n",
    "    pickle.dump(set_durations, f)"
   ]
  },
  {
   "cell_type": "code",
   "execution_count": null,
   "metadata": {},
   "outputs": [],
   "source": [
    "# players[0].ai.load_models('run6_player_0_round_', 1)"
   ]
  },
  {
   "cell_type": "code",
   "execution_count": null,
   "metadata": {},
   "outputs": [],
   "source": [
    "from collections import Mapping, Container \n",
    "from sys import getsizeof\n",
    "\n",
    "def deep_getsizeof(o, ids): \n",
    "\n",
    "    d = deep_getsizeof\n",
    "    if id(o) in ids:\n",
    "        return 0\n",
    "\n",
    "    r = getsizeof(o)\n",
    "    ids.add(id(o))\n",
    "\n",
    "    if isinstance(o, str) or isinstance(0, bytes):\n",
    "        return r\n",
    "    \n",
    "    if isinstance(o, np.ndarray):\n",
    "        return r\n",
    "\n",
    "    if isinstance(o, Mapping):\n",
    "        return r + sum(d(k, ids) + d(v, ids) for k, v in o.items())\n",
    "\n",
    "    if isinstance(o, Container):\n",
    "        return r + sum(d(x, ids) for x in o)\n",
    "\n",
    "    return r\n",
    "\n",
    "deep_getsizeof(game_data, set())\n",
    "# deep_getsizeof(players[0].extended_serialized_action_history[0], set())\n",
    "\n",
    "# for k in list(locals().keys()):\n",
    "#    v = locals()[k]\n",
    "#    size = deep_getsizeof(v, set())\n",
    "#    if size > 100000:\n",
    "#        print(k, ':', size)"
   ]
  },
  {
   "cell_type": "code",
   "execution_count": null,
   "metadata": {},
   "outputs": [],
   "source": [
    "# players[1].reset(reset_extended_history=True)\n",
    "# for k in dir(players[1]):\n",
    "#    v = getattr(players[1], k)\n",
    "#    if isinstance(v, (list, dict)):\n",
    "#        print(k, len(v))"
   ]
  },
  {
   "cell_type": "code",
   "execution_count": null,
   "metadata": {},
   "outputs": [],
   "source": [
    "#new_game = Game(id=i*200 + j*100+1.1, players=players)"
   ]
  },
  {
   "cell_type": "code",
   "execution_count": null,
   "metadata": {},
   "outputs": [],
   "source": [
    "#for k in dir(players[2]):\n",
    "#    v = getattr(players[2], k)\n",
    "#    if isinstance(v, (list, dict)):\n",
    "#        print(k, len(v))"
   ]
  },
  {
   "cell_type": "code",
   "execution_count": null,
   "metadata": {},
   "outputs": [],
   "source": [
    "#len(players[0].ai.extended_serialized_history)"
   ]
  },
  {
   "cell_type": "markdown",
   "metadata": {},
   "source": [
    "# NOTES\n",
    "\n",
    "Runs are complete. Data can be analyzed in a different environment. Tweaks may be made for future runs based on simulation results from loaded models."
   ]
  }
 ],
 "metadata": {
  "kernelspec": {
   "display_name": "Python 3",
   "language": "python",
   "name": "python3"
  },
  "language_info": {
   "codemirror_mode": {
    "name": "ipython",
    "version": 3
   },
   "file_extension": ".py",
   "mimetype": "text/x-python",
   "name": "python",
   "nbconvert_exporter": "python",
   "pygments_lexer": "ipython3",
   "version": "3.5.2"
  }
 },
 "nbformat": 4,
 "nbformat_minor": 2
}

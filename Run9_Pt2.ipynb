{
 "cells": [
  {
   "cell_type": "markdown",
   "metadata": {},
   "source": [
    "# Objective\n",
    "\n",
    "Continuation of run 8, decreasing the randomness and increasing far-sightedness. 500 runs per set, 1500 per round for more robust results (9000 games ~ 900-1500 minutes, 15-25 hours)"
   ]
  },
  {
   "cell_type": "code",
   "execution_count": 1,
   "metadata": {},
   "outputs": [
    {
     "name": "stderr",
     "output_type": "stream",
     "text": [
      "/usr/local/lib/python3.5/dist-packages/h5py/__init__.py:36: FutureWarning: Conversion of the second argument of issubdtype from `float` to `np.floating` is deprecated. In future, it will be treated as `np.float64 == np.dtype(float).type`.\n",
      "  from ._conv import register_converters as _register_converters\n",
      "Using TensorFlow backend.\n"
     ]
    }
   ],
   "source": [
    "from game import Game\n",
    "from ai import SplendorAI\n",
    "from player import get_phase_parameters\n",
    "from constants import *\n",
    "from datetime import datetime\n",
    "# from player import get_phase_parameters\n",
    "import sys\n",
    "from collections import defaultdict\n",
    "from collections import Counter\n",
    "\n"
   ]
  },
  {
   "cell_type": "code",
   "execution_count": 2,
   "metadata": {},
   "outputs": [],
   "source": [
    "# simply used to initialize players\n",
    "base_game = Game(id=0, n_players=4, players_compare_self_to_others=True)"
   ]
  },
  {
   "cell_type": "code",
   "execution_count": 3,
   "metadata": {},
   "outputs": [
    {
     "name": "stdout",
     "output_type": "stream",
     "text": [
      "[name: \"/device:CPU:0\"\n",
      "device_type: \"CPU\"\n",
      "memory_limit: 268435456\n",
      "locality {\n",
      "}\n",
      "incarnation: 16033822581294056737\n",
      ", name: \"/device:GPU:0\"\n",
      "device_type: \"GPU\"\n",
      "memory_limit: 10260938752\n",
      "locality {\n",
      "  bus_id: 1\n",
      "  links {\n",
      "  }\n",
      "}\n",
      "incarnation: 17077962499790405078\n",
      "physical_device_desc: \"device: 0, name: GeForce GTX 1080 Ti, pci bus id: 0000:01:00.0, compute capability: 6.1\"\n",
      "]\n"
     ]
    }
   ],
   "source": [
    "from tensorflow.python.client import device_lib\n",
    "print(device_lib.list_local_devices())"
   ]
  },
  {
   "cell_type": "code",
   "execution_count": 4,
   "metadata": {},
   "outputs": [],
   "source": [
    "import tensorflow as tf\n",
    "sess = tf.Session(config=tf.ConfigProto(log_device_placement=True))"
   ]
  },
  {
   "cell_type": "code",
   "execution_count": 5,
   "metadata": {},
   "outputs": [],
   "source": [
    "# temperature will decrease over time\n",
    "def calculate_temperature(round):\n",
    "    return 1.9/(1 + round/1.2) /(1.5+round/1.1)/(1+round/5)"
   ]
  },
  {
   "cell_type": "code",
   "execution_count": 6,
   "metadata": {},
   "outputs": [],
   "source": [
    "# constants to define; default\n",
    "NETWORK_HYPERPARAMETERS = {\n",
    "    # player input\n",
    "    'player_funnel_layers': [15,12,10],\n",
    "    'reserved_funnel_layers': [12,10,],\n",
    "    'inject_reserved_at_player_funnel_index': 1, # 0 same as input, 1 = as first layer, etc.\n",
    "    'card_funnel_layers': [12,12,8],\n",
    "    # game input\n",
    "    'game_funnel_layers': [15, 12, 10],\n",
    "    'game_objective_funnel_layers': [10, 8],\n",
    "    'game_card_funnel_layers': [15, 12, 10],\n",
    "    # overall, slightly increased from default\n",
    "    'main_dense_layers': [108, 52, 16], #this is when everything is combined\n",
    "\n",
    "    # output layers\n",
    "    # this does not include the win layer\n",
    "    'output_layers': [\n",
    "        {\n",
    "            'name': 'Q1',\n",
    "            'lag': 1,\n",
    "            'score': 1,\n",
    "            'discount': 0.1,\n",
    "            'gems': 0.01,\n",
    "\n",
    "        },\n",
    "        {\n",
    "            'name': 'Q3',\n",
    "            'lag':  3,\n",
    "            'score': 1,\n",
    "            'discount': 0.1,\n",
    "            'gems': 0,\n",
    "        },\n",
    "        {\n",
    "            'name': 'Q5',\n",
    "            'lag': 5,\n",
    "            'score': 1,\n",
    "            'discount': 0.05,\n",
    "            'gems': 0,\n",
    "        },\n",
    "    ],\n",
    "}\n",
    "\n",
    "def get_phase_parameters(phase):\n",
    "    \"\"\"\n",
    "    training will be divided into 5 phases\n",
    "\n",
    "    \"\"\"\n",
    "    if phase==1:\n",
    "        return {\n",
    "            'Q1': 0.5,\n",
    "            'Q3': 0.3,\n",
    "            'Q5': 0.15,\n",
    "            'win': 0.05,\n",
    "        }\n",
    "    elif phase==2:\n",
    "        return {\n",
    "            'Q1': 0.35,\n",
    "            'Q3': 0.25,\n",
    "            'Q5': 0.25,\n",
    "            'win': 0.15,\n",
    "        }\n",
    "    elif phase==3:\n",
    "        return {\n",
    "            'Q1': 0.25,\n",
    "            'Q3': 0.25,\n",
    "            'Q5': 0.25,\n",
    "            'win': 0.25,\n",
    "        }\n",
    "    elif phase==4:\n",
    "        return {\n",
    "            'Q1': 0.15,\n",
    "            'Q3': 0.2,\n",
    "            'Q5': 0.35,\n",
    "            'win': 0.3,\n",
    "        }\n",
    "    elif phase==5:\n",
    "        return {\n",
    "            'Q1': 0.05,\n",
    "            'Q3': 0.1,\n",
    "            'Q5': 0.35,\n",
    "            'win': 0.50,\n",
    "        }\n",
    "    elif phase==6:\n",
    "        return {\n",
    "            'Q1': 0.03,\n",
    "            'Q3': 0.1,\n",
    "            'Q5': 0.22,\n",
    "            'win': 0.75\n",
    "        }"
   ]
  },
  {
   "cell_type": "code",
   "execution_count": 7,
   "metadata": {},
   "outputs": [],
   "source": [
    "players = base_game.players\n",
    "# game_data = defaultdict(list)\n",
    "run_name='run_9'\n",
    "\n",
    "\n",
    "# load previous models\n",
    "for i, player in enumerate(players):\n",
    "    player.ai.load_models('{run_name}_player_%s_'.format(run_name=run_name) % i, 5)\n",
    "\n",
    "\n"
   ]
  },
  {
   "cell_type": "code",
   "execution_count": 8,
   "metadata": {},
   "outputs": [],
   "source": [
    "# load data from previous trial, as they are all dictionaries\n",
    "import pickle\n",
    "with open('{run_name}_game_data.dat'.format(run_name=run_name), 'rb') as f:\n",
    "    game_data = pickle.load(f)\n",
    "    \n",
    "with open('{run_name}_duration_data.dat'.format(run_name=run_name), 'rb') as f:\n",
    "    set_durations = pickle.load(f)"
   ]
  },
  {
   "cell_type": "code",
   "execution_count": 9,
   "metadata": {},
   "outputs": [],
   "source": [
    "def summarize_counters(counter_list):\n",
    "    master_counter = Counter()\n",
    "    n = len(counter_list)\n",
    "    for counter in counter_list:\n",
    "        master_counter.update(counter)\n",
    "    keys = list(master_counter.keys())\n",
    "    for k in sorted(keys):\n",
    "        master_counter[k] /= n\n",
    "    return master_counter"
   ]
  },
  {
   "cell_type": "code",
   "execution_count": 10,
   "metadata": {},
   "outputs": [],
   "source": [
    "# set_durations = {}"
   ]
  },
  {
   "cell_type": "markdown",
   "metadata": {},
   "source": [
    "# Test multiple runs of games\n",
    "\n",
    "This should constitute the first half, and get a good idea of how successful these methods are"
   ]
  },
  {
   "cell_type": "code",
   "execution_count": 11,
   "metadata": {},
   "outputs": [
    {
     "name": "stdout",
     "output_type": "stream",
     "text": [
      "ON ROUND 6\n",
      ".............."
     ]
    },
    {
     "ename": "KeyboardInterrupt",
     "evalue": "",
     "output_type": "error",
     "traceback": [
      "\u001b[0;31m---------------------------------------------------------------------------\u001b[0m",
      "\u001b[0;31mKeyboardInterrupt\u001b[0m                         Traceback (most recent call last)",
      "\u001b[0;32m<ipython-input-11-4dbe55f48fcf>\u001b[0m in \u001b[0;36m<module>\u001b[0;34m()\u001b[0m\n\u001b[1;32m     21\u001b[0m             new_game = Game(id=i*n_sets_per_round+n_simulations_per_set + j*n_simulations_per_set+k, \n\u001b[1;32m     22\u001b[0m                             players=players)\n\u001b[0;32m---> 23\u001b[0;31m             \u001b[0mstalemate\u001b[0m \u001b[0;34m=\u001b[0m \u001b[0mnew_game\u001b[0m\u001b[0;34m.\u001b[0m\u001b[0mrun\u001b[0m\u001b[0;34m(\u001b[0m\u001b[0;34m)\u001b[0m\u001b[0;34m\u001b[0m\u001b[0m\n\u001b[0m\u001b[1;32m     24\u001b[0m             \u001b[0;31m# stalemates should be extraordinarily rare and pretty much nonexistent\u001b[0m\u001b[0;34m\u001b[0m\u001b[0;34m\u001b[0m\u001b[0m\n\u001b[1;32m     25\u001b[0m             \u001b[0;32mif\u001b[0m \u001b[0mstalemate\u001b[0m\u001b[0;34m:\u001b[0m\u001b[0;34m\u001b[0m\u001b[0m\n",
      "\u001b[0;32m/ntfsl/workspace/splendor_ai/game.py\u001b[0m in \u001b[0;36mrun\u001b[0;34m(self)\u001b[0m\n\u001b[1;32m     89\u001b[0m                                 \u001b[0mself\u001b[0m\u001b[0;34m.\u001b[0m\u001b[0mturn\u001b[0m \u001b[0;34m+=\u001b[0m \u001b[0;36m1\u001b[0m\u001b[0;34m\u001b[0m\u001b[0m\n\u001b[1;32m     90\u001b[0m                                 \u001b[0mplayer\u001b[0m\u001b[0;34m.\u001b[0m\u001b[0mactive_turn\u001b[0m\u001b[0;34m=\u001b[0m\u001b[0;32mTrue\u001b[0m\u001b[0;34m\u001b[0m\u001b[0m\n\u001b[0;32m---> 91\u001b[0;31m                                 \u001b[0mplayer\u001b[0m\u001b[0;34m.\u001b[0m\u001b[0mtake_turn\u001b[0m\u001b[0;34m(\u001b[0m\u001b[0;34m)\u001b[0m\u001b[0;34m\u001b[0m\u001b[0m\n\u001b[0m\u001b[1;32m     92\u001b[0m                                 \u001b[0mplayer\u001b[0m\u001b[0;34m.\u001b[0m\u001b[0mactive_turn\u001b[0m\u001b[0;34m=\u001b[0m\u001b[0;32mFalse\u001b[0m\u001b[0;34m\u001b[0m\u001b[0m\n\u001b[1;32m     93\u001b[0m                                 \u001b[0;32mif\u001b[0m \u001b[0mself\u001b[0m\u001b[0;34m.\u001b[0m\u001b[0mrecord_plain_history\u001b[0m\u001b[0;34m:\u001b[0m\u001b[0;34m\u001b[0m\u001b[0m\n",
      "\u001b[0;32m/ntfsl/workspace/splendor_ai/player.py\u001b[0m in \u001b[0;36mtake_turn\u001b[0;34m(self)\u001b[0m\n\u001b[1;32m    208\u001b[0m                 \u001b[0mself\u001b[0m\u001b[0;34m.\u001b[0m\u001b[0mrecord_q_state\u001b[0m\u001b[0;34m(\u001b[0m\u001b[0;34m)\u001b[0m\u001b[0;34m\u001b[0m\u001b[0m\n\u001b[1;32m    209\u001b[0m \u001b[0;34m\u001b[0m\u001b[0m\n\u001b[0;32m--> 210\u001b[0;31m                 \u001b[0mself\u001b[0m\u001b[0;34m.\u001b[0m\u001b[0mmake_turn_action\u001b[0m\u001b[0;34m(\u001b[0m\u001b[0;34m)\u001b[0m\u001b[0;34m\u001b[0m\u001b[0m\n\u001b[0m\u001b[1;32m    211\u001b[0m \u001b[0;34m\u001b[0m\u001b[0m\n\u001b[1;32m    212\u001b[0m                 \u001b[0mself\u001b[0m\u001b[0;34m.\u001b[0m\u001b[0mobjective_check\u001b[0m\u001b[0;34m(\u001b[0m\u001b[0;34m)\u001b[0m\u001b[0;34m\u001b[0m\u001b[0m\n",
      "\u001b[0;32m/ntfsl/workspace/splendor_ai/player.py\u001b[0m in \u001b[0;36mmake_turn_action\u001b[0;34m(self)\u001b[0m\n\u001b[1;32m    321\u001b[0m                 \u001b[0mpurchasing_options\u001b[0m \u001b[0;34m=\u001b[0m \u001b[0mself\u001b[0m\u001b[0;34m.\u001b[0m\u001b[0msimulate_purchasing_options\u001b[0m\u001b[0;34m(\u001b[0m\u001b[0;34m)\u001b[0m\u001b[0;34m\u001b[0m\u001b[0m\n\u001b[1;32m    322\u001b[0m                 \u001b[0mreserving_options\u001b[0m \u001b[0;34m=\u001b[0m \u001b[0mself\u001b[0m\u001b[0;34m.\u001b[0m\u001b[0msimulate_reserving_options\u001b[0m\u001b[0;34m(\u001b[0m\u001b[0;34m)\u001b[0m\u001b[0;34m\u001b[0m\u001b[0m\n\u001b[0;32m--> 323\u001b[0;31m                 \u001b[0mgem_taking_options\u001b[0m \u001b[0;34m=\u001b[0m \u001b[0mself\u001b[0m\u001b[0;34m.\u001b[0m\u001b[0msimulate_gem_taking_options\u001b[0m\u001b[0;34m(\u001b[0m\u001b[0;34m)\u001b[0m\u001b[0;34m\u001b[0m\u001b[0m\n\u001b[0m\u001b[1;32m    324\u001b[0m \u001b[0;34m\u001b[0m\u001b[0m\n\u001b[1;32m    325\u001b[0m                 \u001b[0;31m# now determine best course of action based on q-weighting\u001b[0m\u001b[0;34m\u001b[0m\u001b[0;34m\u001b[0m\u001b[0m\n",
      "\u001b[0;32m/ntfsl/workspace/splendor_ai/player.py\u001b[0m in \u001b[0;36msimulate_gem_taking_options\u001b[0;34m(self)\u001b[0m\n\u001b[1;32m    515\u001b[0m                 \u001b[0;32mif\u001b[0m \u001b[0mlen\u001b[0m\u001b[0;34m(\u001b[0m\u001b[0mgem_combinations\u001b[0m\u001b[0;34m)\u001b[0m \u001b[0;34m>\u001b[0m \u001b[0;36m0\u001b[0m\u001b[0;34m:\u001b[0m\u001b[0;34m\u001b[0m\u001b[0m\n\u001b[1;32m    516\u001b[0m                         \u001b[0mgem_serializations\u001b[0m \u001b[0;34m=\u001b[0m \u001b[0mself\u001b[0m\u001b[0;34m.\u001b[0m\u001b[0mfull_serializations\u001b[0m\u001b[0;34m(\u001b[0m\u001b[0mgem_changes\u001b[0m\u001b[0;34m=\u001b[0m\u001b[0mgem_combinations\u001b[0m\u001b[0;34m)\u001b[0m\u001b[0;34m\u001b[0m\u001b[0m\n\u001b[0;32m--> 517\u001b[0;31m                         \u001b[0mpredictions\u001b[0m \u001b[0;34m=\u001b[0m \u001b[0mself\u001b[0m\u001b[0;34m.\u001b[0m\u001b[0mai\u001b[0m\u001b[0;34m.\u001b[0m\u001b[0mmake_predictions\u001b[0m\u001b[0;34m(\u001b[0m\u001b[0mgem_serializations\u001b[0m\u001b[0;34m)\u001b[0m\u001b[0;34m\u001b[0m\u001b[0m\n\u001b[0m\u001b[1;32m    518\u001b[0m \t\t\treturn {\n\u001b[1;32m    519\u001b[0m                                 \u001b[0;34m'predictions'\u001b[0m\u001b[0;34m:\u001b[0m \u001b[0mpredictions\u001b[0m\u001b[0;34m,\u001b[0m\u001b[0;34m\u001b[0m\u001b[0m\n",
      "\u001b[0;32m/ntfsl/workspace/splendor_ai/ai.py\u001b[0m in \u001b[0;36mmake_predictions\u001b[0;34m(self, inputs)\u001b[0m\n\u001b[1;32m    275\u001b[0m \u001b[0;34m\u001b[0m\u001b[0m\n\u001b[1;32m    276\u001b[0m                 \u001b[0;32mfor\u001b[0m \u001b[0mi\u001b[0m\u001b[0;34m,\u001b[0m \u001b[0mq_index\u001b[0m \u001b[0;32min\u001b[0m \u001b[0menumerate\u001b[0m\u001b[0;34m(\u001b[0m\u001b[0mself\u001b[0m\u001b[0;34m.\u001b[0m\u001b[0mhyperparameters\u001b[0m\u001b[0;34m[\u001b[0m\u001b[0;34m'output_layers'\u001b[0m\u001b[0;34m]\u001b[0m\u001b[0;34m)\u001b[0m\u001b[0;34m:\u001b[0m\u001b[0;34m\u001b[0m\u001b[0m\n\u001b[0;32m--> 277\u001b[0;31m                         \u001b[0mq_predictions\u001b[0m\u001b[0;34m[\u001b[0m\u001b[0mi\u001b[0m\u001b[0;34m]\u001b[0m \u001b[0;34m=\u001b[0m \u001b[0mself\u001b[0m\u001b[0;34m.\u001b[0m\u001b[0mq_networks\u001b[0m\u001b[0;34m[\u001b[0m\u001b[0mi\u001b[0m\u001b[0;34m]\u001b[0m\u001b[0;34m.\u001b[0m\u001b[0mpredict\u001b[0m\u001b[0;34m(\u001b[0m\u001b[0mstacked_network_inputs\u001b[0m\u001b[0;34m)\u001b[0m\u001b[0;34m[\u001b[0m\u001b[0;34m:\u001b[0m\u001b[0;34m,\u001b[0m\u001b[0;36m0\u001b[0m\u001b[0;34m]\u001b[0m\u001b[0;34m\u001b[0m\u001b[0m\n\u001b[0m\u001b[1;32m    278\u001b[0m \u001b[0;34m\u001b[0m\u001b[0m\n\u001b[1;32m    279\u001b[0m                 \u001b[0;32mreturn\u001b[0m\u001b[0;34m(\u001b[0m\u001b[0;34m{\u001b[0m\u001b[0;34m'win_prediction'\u001b[0m\u001b[0;34m:\u001b[0m \u001b[0mwin_prediction\u001b[0m\u001b[0;34m,\u001b[0m \u001b[0;34m'q_predictions'\u001b[0m\u001b[0;34m:\u001b[0m \u001b[0mq_predictions\u001b[0m\u001b[0;34m}\u001b[0m\u001b[0;34m)\u001b[0m\u001b[0;34m\u001b[0m\u001b[0m\n",
      "\u001b[0;32m/usr/local/lib/python3.5/dist-packages/keras/engine/training.py\u001b[0m in \u001b[0;36mpredict\u001b[0;34m(self, x, batch_size, verbose, steps)\u001b[0m\n\u001b[1;32m   1833\u001b[0m         \u001b[0mf\u001b[0m \u001b[0;34m=\u001b[0m \u001b[0mself\u001b[0m\u001b[0;34m.\u001b[0m\u001b[0mpredict_function\u001b[0m\u001b[0;34m\u001b[0m\u001b[0m\n\u001b[1;32m   1834\u001b[0m         return self._predict_loop(f, ins, batch_size=batch_size,\n\u001b[0;32m-> 1835\u001b[0;31m                                   verbose=verbose, steps=steps)\n\u001b[0m\u001b[1;32m   1836\u001b[0m \u001b[0;34m\u001b[0m\u001b[0m\n\u001b[1;32m   1837\u001b[0m     def train_on_batch(self, x, y,\n",
      "\u001b[0;32m/usr/local/lib/python3.5/dist-packages/keras/engine/training.py\u001b[0m in \u001b[0;36m_predict_loop\u001b[0;34m(self, f, ins, batch_size, verbose, steps)\u001b[0m\n\u001b[1;32m   1328\u001b[0m                     \u001b[0mins_batch\u001b[0m\u001b[0;34m[\u001b[0m\u001b[0mi\u001b[0m\u001b[0;34m]\u001b[0m \u001b[0;34m=\u001b[0m \u001b[0mins_batch\u001b[0m\u001b[0;34m[\u001b[0m\u001b[0mi\u001b[0m\u001b[0;34m]\u001b[0m\u001b[0;34m.\u001b[0m\u001b[0mtoarray\u001b[0m\u001b[0;34m(\u001b[0m\u001b[0;34m)\u001b[0m\u001b[0;34m\u001b[0m\u001b[0m\n\u001b[1;32m   1329\u001b[0m \u001b[0;34m\u001b[0m\u001b[0m\n\u001b[0;32m-> 1330\u001b[0;31m                 \u001b[0mbatch_outs\u001b[0m \u001b[0;34m=\u001b[0m \u001b[0mf\u001b[0m\u001b[0;34m(\u001b[0m\u001b[0mins_batch\u001b[0m\u001b[0;34m)\u001b[0m\u001b[0;34m\u001b[0m\u001b[0m\n\u001b[0m\u001b[1;32m   1331\u001b[0m                 \u001b[0;32mif\u001b[0m \u001b[0;32mnot\u001b[0m \u001b[0misinstance\u001b[0m\u001b[0;34m(\u001b[0m\u001b[0mbatch_outs\u001b[0m\u001b[0;34m,\u001b[0m \u001b[0mlist\u001b[0m\u001b[0;34m)\u001b[0m\u001b[0;34m:\u001b[0m\u001b[0;34m\u001b[0m\u001b[0m\n\u001b[1;32m   1332\u001b[0m                     \u001b[0mbatch_outs\u001b[0m \u001b[0;34m=\u001b[0m \u001b[0;34m[\u001b[0m\u001b[0mbatch_outs\u001b[0m\u001b[0;34m]\u001b[0m\u001b[0;34m\u001b[0m\u001b[0m\n",
      "\u001b[0;32m/usr/local/lib/python3.5/dist-packages/keras/backend/tensorflow_backend.py\u001b[0m in \u001b[0;36m__call__\u001b[0;34m(self, inputs)\u001b[0m\n\u001b[1;32m   2476\u001b[0m         \u001b[0msession\u001b[0m \u001b[0;34m=\u001b[0m \u001b[0mget_session\u001b[0m\u001b[0;34m(\u001b[0m\u001b[0;34m)\u001b[0m\u001b[0;34m\u001b[0m\u001b[0m\n\u001b[1;32m   2477\u001b[0m         updated = session.run(fetches=fetches, feed_dict=feed_dict,\n\u001b[0;32m-> 2478\u001b[0;31m                               **self.session_kwargs)\n\u001b[0m\u001b[1;32m   2479\u001b[0m         \u001b[0;32mreturn\u001b[0m \u001b[0mupdated\u001b[0m\u001b[0;34m[\u001b[0m\u001b[0;34m:\u001b[0m\u001b[0mlen\u001b[0m\u001b[0;34m(\u001b[0m\u001b[0mself\u001b[0m\u001b[0;34m.\u001b[0m\u001b[0moutputs\u001b[0m\u001b[0;34m)\u001b[0m\u001b[0;34m]\u001b[0m\u001b[0;34m\u001b[0m\u001b[0m\n\u001b[1;32m   2480\u001b[0m \u001b[0;34m\u001b[0m\u001b[0m\n",
      "\u001b[0;32m/usr/local/lib/python3.5/dist-packages/tensorflow/python/client/session.py\u001b[0m in \u001b[0;36mrun\u001b[0;34m(self, fetches, feed_dict, options, run_metadata)\u001b[0m\n\u001b[1;32m    903\u001b[0m     \u001b[0;32mtry\u001b[0m\u001b[0;34m:\u001b[0m\u001b[0;34m\u001b[0m\u001b[0m\n\u001b[1;32m    904\u001b[0m       result = self._run(None, fetches, feed_dict, options_ptr,\n\u001b[0;32m--> 905\u001b[0;31m                          run_metadata_ptr)\n\u001b[0m\u001b[1;32m    906\u001b[0m       \u001b[0;32mif\u001b[0m \u001b[0mrun_metadata\u001b[0m\u001b[0;34m:\u001b[0m\u001b[0;34m\u001b[0m\u001b[0m\n\u001b[1;32m    907\u001b[0m         \u001b[0mproto_data\u001b[0m \u001b[0;34m=\u001b[0m \u001b[0mtf_session\u001b[0m\u001b[0;34m.\u001b[0m\u001b[0mTF_GetBuffer\u001b[0m\u001b[0;34m(\u001b[0m\u001b[0mrun_metadata_ptr\u001b[0m\u001b[0;34m)\u001b[0m\u001b[0;34m\u001b[0m\u001b[0m\n",
      "\u001b[0;32m/usr/local/lib/python3.5/dist-packages/tensorflow/python/client/session.py\u001b[0m in \u001b[0;36m_run\u001b[0;34m(self, handle, fetches, feed_dict, options, run_metadata)\u001b[0m\n\u001b[1;32m   1107\u001b[0m             \u001b[0mfeed_handles\u001b[0m\u001b[0;34m[\u001b[0m\u001b[0msubfeed_t\u001b[0m\u001b[0;34m]\u001b[0m \u001b[0;34m=\u001b[0m \u001b[0msubfeed_val\u001b[0m\u001b[0;34m\u001b[0m\u001b[0m\n\u001b[1;32m   1108\u001b[0m           \u001b[0;32melse\u001b[0m\u001b[0;34m:\u001b[0m\u001b[0;34m\u001b[0m\u001b[0m\n\u001b[0;32m-> 1109\u001b[0;31m             \u001b[0mnp_val\u001b[0m \u001b[0;34m=\u001b[0m \u001b[0mnp\u001b[0m\u001b[0;34m.\u001b[0m\u001b[0masarray\u001b[0m\u001b[0;34m(\u001b[0m\u001b[0msubfeed_val\u001b[0m\u001b[0;34m,\u001b[0m \u001b[0mdtype\u001b[0m\u001b[0;34m=\u001b[0m\u001b[0msubfeed_dtype\u001b[0m\u001b[0;34m)\u001b[0m\u001b[0;34m\u001b[0m\u001b[0m\n\u001b[0m\u001b[1;32m   1110\u001b[0m \u001b[0;34m\u001b[0m\u001b[0m\n\u001b[1;32m   1111\u001b[0m           if (not is_tensor_handle_feed and\n",
      "\u001b[0;31mKeyboardInterrupt\u001b[0m: "
     ]
    }
   ],
   "source": [
    "n_rounds = 6\n",
    "n_sets_per_round = 3\n",
    "n_simulations_per_set = 500\n",
    "\n",
    "start_time = datetime.now()\n",
    "for i in range(6, 6+n_rounds):\n",
    "    print('ON ROUND', i)\n",
    "    phase = min(6, i // 2 + 1)\n",
    "    temperature = calculate_temperature(i)\n",
    "    \n",
    "    for p_i, player in enumerate(players):\n",
    "        player.temperature = temperature\n",
    "        player.decision_weighting = get_phase_parameters(phase)\n",
    "        \n",
    "    for j in range(n_sets_per_round):\n",
    "        set_start_time = datetime.now()\n",
    "        for k in range(n_simulations_per_set):\n",
    "            # if (i==0) and (j==0):\n",
    "            #    # soft restart\n",
    "            #    break\n",
    "            new_game = Game(id=i*n_sets_per_round+n_simulations_per_set + j*n_simulations_per_set+k, \n",
    "                            players=players)\n",
    "            stalemate = new_game.run()  \n",
    "            # stalemates should be extraordinarily rare and pretty much nonexistent\n",
    "            if stalemate: \n",
    "                very_long_game = new_game\n",
    "                print('teaching ai not to stalemate -_-')\n",
    "                for player in players:\n",
    "                    player.transfer_history_to_ai()\n",
    "                    player.ai.train_models(verbose=0,n_epochs=3)\n",
    "            sys.stdout.write('.')\n",
    "            sys.stdout.flush()\n",
    "            # record historic game data for each set\n",
    "            game_data[(i,j)].append(new_game.copy_plain_data_for_self_and_players())\n",
    "        set_stop_time = datetime.now()\n",
    "        duration = (set_start_time-set_stop_time).seconds\n",
    "        for player in players:\n",
    "            player.transfer_history_to_ai()\n",
    "            # train more epochs this time to make better predictions\n",
    "            player.ai.train_models(verbose=0, n_epochs=30, batch_size=1500)\n",
    "        set_durations[(i,j,k)] = duration\n",
    "        print('/')\n",
    "        sys.stdout.flush()\n",
    "        avg_game_length = np.mean([x['game']['turn'] for x in game_data[(i,j)]])\n",
    "        print('R/S %d/%d AVERAGE GAME LENGTH: ' % (i, j), avg_game_length)\n",
    "        avg_cards_purchased = np.mean([\n",
    "            [\n",
    "                pdata['n_cards'] \n",
    "                for pdata in x['players'].values()\n",
    "            ] \n",
    "            for x in game_data[(i,j)]\n",
    "        ]\n",
    "        )\n",
    "        print('R/S %d/%d AVERAGE CARDS PURCHASED: ' % (i, j), avg_cards_purchased)\n",
    "        # calculate win rates\n",
    "        player_data = [x['players'] for x in game_data[(i,j)]]\n",
    "        win_values = [[player_data[idx][pid]['win'] for idx in range(n_simulations_per_set)] for pid in range(4)]\n",
    "        win_rates = [np.mean(v) for v in win_values]\n",
    "        print('WIN RATES: ', str(win_rates))\n",
    "        # reservation averages\n",
    "        reservation_counters = [\n",
    "            [\n",
    "                player_data[idx][pid]['total_times_reserved'] \n",
    "                for idx in range(n_simulations_per_set)\n",
    "            ]\n",
    "            for pid in range(4)\n",
    "        ]\n",
    "        print('RESERVATION SUMMARY: ', [summarize_counters(counters) for counters in reservation_counters])\n",
    "        \n",
    "        # gem taking averages\n",
    "        gem_counters = [\n",
    "            [\n",
    "                player_data[idx][pid]['total_gems_taken'] \n",
    "                for idx in range(n_simulations_per_set)\n",
    "            ]\n",
    "            for pid in range(4)\n",
    "        ]\n",
    "        print('GEMS SUMMARY: ', [summarize_counters(counters) for counters in gem_counters])\n",
    "                             \n",
    "    for player in players:\n",
    "        player.reset(reset_extended_history=True)\n",
    "   \n",
    "    \n",
    "    for p_i, player in enumerate(players):\n",
    "        model_name = '{run_name}_player_%s_'.format(run_name=run_name) % str(p_i)\n",
    "        player.ai.save_models(model_name, index=i)\n",
    "    \n",
    "    \n",
    "stop_time = datetime.now()\n",
    "for time in [start_time, stop_time]:\n",
    "    print(time.strftime('%x %X'))\n",
    "    \n",
    "# save historic data\n",
    "import pickle\n",
    "with open('{run_name}_game_data.dat'.format(run_name=run_name), 'wb') as f:\n",
    "    pickle.dump(game_data, f)\n",
    "    \n",
    "with open('{run_name}_duration_data.dat'.format(run_name=run_name), 'wb') as f:\n",
    "    pickle.dump(set_durations, f)\n",
    "    \n"
   ]
  },
  {
   "cell_type": "code",
   "execution_count": null,
   "metadata": {},
   "outputs": [],
   "source": [
    "player_data"
   ]
  },
  {
   "cell_type": "code",
   "execution_count": null,
   "metadata": {},
   "outputs": [],
   "source": [
    "# players[0].ai.load_models('run6_player_0_round_', 1)"
   ]
  },
  {
   "cell_type": "code",
   "execution_count": null,
   "metadata": {},
   "outputs": [],
   "source": [
    "from collections import Mapping, Container \n",
    "from sys import getsizeof\n",
    "\n",
    "def deep_getsizeof(o, ids): \n",
    "\n",
    "    d = deep_getsizeof\n",
    "    if id(o) in ids:\n",
    "        return 0\n",
    "\n",
    "    r = getsizeof(o)\n",
    "    ids.add(id(o))\n",
    "\n",
    "    if isinstance(o, str) or isinstance(0, bytes):\n",
    "        return r\n",
    "    \n",
    "    if isinstance(o, np.ndarray):\n",
    "        return r\n",
    "\n",
    "    if isinstance(o, Mapping):\n",
    "        return r + sum(d(k, ids) + d(v, ids) for k, v in o.items())\n",
    "\n",
    "    if isinstance(o, Container):\n",
    "        return r + sum(d(x, ids) for x in o)\n",
    "\n",
    "    return r\n",
    "\n",
    "deep_getsizeof(game_data, set())\n",
    "# deep_getsizeof(players[0].extended_serialized_action_history[0], set())\n",
    "\n",
    "# for k in list(locals().keys()):\n",
    "#    v = locals()[k]\n",
    "#    size = deep_getsizeof(v, set())\n",
    "#    if size > 100000:\n",
    "#        print(k, ':', size)"
   ]
  },
  {
   "cell_type": "code",
   "execution_count": null,
   "metadata": {},
   "outputs": [],
   "source": [
    "# players[1].reset(reset_extended_history=True)\n",
    "# for k in dir(players[1]):\n",
    "#    v = getattr(players[1], k)\n",
    "#    if isinstance(v, (list, dict)):\n",
    "#        print(k, len(v))"
   ]
  },
  {
   "cell_type": "code",
   "execution_count": null,
   "metadata": {},
   "outputs": [],
   "source": [
    "#new_game = Game(id=i*200 + j*100+1.1, players=players)"
   ]
  },
  {
   "cell_type": "code",
   "execution_count": null,
   "metadata": {},
   "outputs": [],
   "source": [
    "#for k in dir(players[2]):\n",
    "#    v = getattr(players[2], k)\n",
    "#    if isinstance(v, (list, dict)):\n",
    "#        print(k, len(v))"
   ]
  },
  {
   "cell_type": "code",
   "execution_count": null,
   "metadata": {},
   "outputs": [],
   "source": [
    "#len(players[0].ai.extended_serialized_history)"
   ]
  },
  {
   "cell_type": "markdown",
   "metadata": {},
   "source": [
    "# NOTES\n",
    "\n",
    "Runs are complete. Data can be analyzed in a different environment. Tweaks may be made for future runs based on simulation results from loaded models."
   ]
  }
 ],
 "metadata": {
  "kernelspec": {
   "display_name": "Python 3",
   "language": "python",
   "name": "python3"
  },
  "language_info": {
   "codemirror_mode": {
    "name": "ipython",
    "version": 3
   },
   "file_extension": ".py",
   "mimetype": "text/x-python",
   "name": "python",
   "nbconvert_exporter": "python",
   "pygments_lexer": "ipython3",
   "version": "3.5.2"
  }
 },
 "nbformat": 4,
 "nbformat_minor": 2
}

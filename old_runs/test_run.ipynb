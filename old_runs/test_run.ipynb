{
 "cells": [
  {
   "cell_type": "code",
   "execution_count": 1,
   "metadata": {},
   "outputs": [],
   "source": [
    "# from importlib import reload"
   ]
  },
  {
   "cell_type": "code",
   "execution_count": 2,
   "metadata": {},
   "outputs": [],
   "source": [
    "import os\n",
    "cuda_path = '/usr/local/cuda-9.0/lib64'\n",
    "# os.environ['CUDA_HOME'] = cuda_path\n",
    "# os.environ['LD_LIBRARY_PATH'] = cuda_path"
   ]
  },
  {
   "cell_type": "code",
   "execution_count": 3,
   "metadata": {},
   "outputs": [
    {
     "name": "stderr",
     "output_type": "stream",
     "text": [
      "Using TensorFlow backend.\n"
     ]
    }
   ],
   "source": [
    "from game import Game\n",
    "from ai import SplendorAI\n",
    "from player import get_phase_parameters"
   ]
  },
  {
   "cell_type": "code",
   "execution_count": 4,
   "metadata": {},
   "outputs": [
    {
     "data": {
      "text/plain": [
       "'/usr/local/cuda-9.0/lib64'"
      ]
     },
     "execution_count": 4,
     "metadata": {},
     "output_type": "execute_result"
    }
   ],
   "source": [
    "os.environ['LD_LIBRARY_PATH']"
   ]
  },
  {
   "cell_type": "code",
   "execution_count": 5,
   "metadata": {},
   "outputs": [],
   "source": [
    "game = Game(id=0, n_players=4)\n"
   ]
  },
  {
   "cell_type": "code",
   "execution_count": 6,
   "metadata": {
    "scrolled": true
   },
   "outputs": [
    {
     "name": "stdout",
     "output_type": "stream",
     "text": [
      "WARNING: tier 1 deck ran empty!\n",
      "WARNING: tier 1 deck ran empty!\n",
      "WARNING: tier 1 deck ran empty!\n",
      "WARNING: tier 1 deck ran empty!\n"
     ]
    }
   ],
   "source": [
    "game.run()"
   ]
  },
  {
   "cell_type": "code",
   "execution_count": 7,
   "metadata": {
    "scrolled": true
   },
   "outputs": [
    {
     "data": {
      "text/plain": [
       "0"
      ]
     },
     "execution_count": 7,
     "metadata": {},
     "output_type": "execute_result"
    }
   ],
   "source": [
    "len(game.available_tier_1_cards)"
   ]
  },
  {
   "cell_type": "code",
   "execution_count": 8,
   "metadata": {},
   "outputs": [
    {
     "data": {
      "text/plain": [
       "[ColorCombination object: \n",
       " {\n",
       "     \"black\": 0,\n",
       "     \"gold\": 0,\n",
       "     \"white\": 2,\n",
       "     \"green\": 3,\n",
       "     \"blue\": 2,\n",
       "     \"red\": 0\n",
       " }, ColorCombination object: \n",
       " {\n",
       "     \"black\": 3,\n",
       "     \"gold\": 0,\n",
       "     \"white\": 3,\n",
       "     \"green\": 2,\n",
       "     \"blue\": 0,\n",
       "     \"red\": 2\n",
       " }, ColorCombination object: \n",
       " {\n",
       "     \"black\": 3,\n",
       "     \"gold\": 0,\n",
       "     \"white\": 1,\n",
       "     \"green\": 0,\n",
       "     \"blue\": 3,\n",
       "     \"red\": 1\n",
       " }, ColorCombination object: \n",
       " {\n",
       "     \"black\": 0,\n",
       "     \"gold\": 1,\n",
       "     \"white\": 0,\n",
       "     \"green\": 1,\n",
       "     \"blue\": 1,\n",
       "     \"red\": 2\n",
       " }]"
      ]
     },
     "execution_count": 8,
     "metadata": {},
     "output_type": "execute_result"
    }
   ],
   "source": [
    "[player.gems for player in game.players]"
   ]
  },
  {
   "cell_type": "code",
   "execution_count": 9,
   "metadata": {},
   "outputs": [
    {
     "data": {
      "text/plain": [
       "[7, 10, 8, 5]"
      ]
     },
     "execution_count": 9,
     "metadata": {},
     "output_type": "execute_result"
    }
   ],
   "source": [
    "[player.n_gems for player in game.players]"
   ]
  },
  {
   "cell_type": "code",
   "execution_count": 10,
   "metadata": {},
   "outputs": [
    {
     "data": {
      "text/plain": [
       "[3, 2, 3, 3]"
      ]
     },
     "execution_count": 10,
     "metadata": {},
     "output_type": "execute_result"
    }
   ],
   "source": [
    "[player.n_reserved_cards for player in game.players]"
   ]
  },
  {
   "cell_type": "code",
   "execution_count": 11,
   "metadata": {},
   "outputs": [
    {
     "data": {
      "text/plain": [
       "[False, False, False, False]"
      ]
     },
     "execution_count": 11,
     "metadata": {},
     "output_type": "execute_result"
    }
   ],
   "source": [
    "[player.active_turn for player in game.players]"
   ]
  },
  {
   "cell_type": "code",
   "execution_count": 12,
   "metadata": {},
   "outputs": [
    {
     "data": {
      "text/plain": [
       "[]"
      ]
     },
     "execution_count": 12,
     "metadata": {},
     "output_type": "execute_result"
    }
   ],
   "source": [
    "[card for card in game.available_tier_1_cards]"
   ]
  },
  {
   "cell_type": "code",
   "execution_count": 13,
   "metadata": {},
   "outputs": [
    {
     "name": "stdout",
     "output_type": "stream",
     "text": [
      "{'predictions': {'win_prediction': array([0.11962723, 0.1241047 , 0.12483163, 0.12067459, 0.12161436,\n",
      "       0.12600705, 0.11012363, 0.11101644, 0.11500414, 0.11208192],\n",
      "      dtype=float32), 'q_predictions': [array([2.6537013, 2.6481073, 2.6151347, 2.7480218, 2.722677 , 2.7085187,\n",
      "       2.703847 , 2.674964 , 2.6639688, 2.765925 ], dtype=float32), array([0., 0., 0., 0., 0., 0., 0., 0., 0., 0.], dtype=float32), array([1.5861323, 1.5873011, 1.5234778, 1.6297468, 1.5659237, 1.5646789,\n",
      "       1.5425464, 1.4787389, 1.4813466, 1.5237335], dtype=float32)]}, 'actions': {'gem_changes': [ColorCombination object: \n",
      "{\n",
      "    \"green\": 1,\n",
      "    \"black\": 1,\n",
      "    \"blue\": 1,\n",
      "    \"red\": 0,\n",
      "    \"white\": 0\n",
      "}, ColorCombination object: \n",
      "{\n",
      "    \"green\": 1,\n",
      "    \"black\": 1,\n",
      "    \"blue\": 0,\n",
      "    \"red\": 1,\n",
      "    \"white\": 0\n",
      "}, ColorCombination object: \n",
      "{\n",
      "    \"green\": 1,\n",
      "    \"black\": 1,\n",
      "    \"blue\": 0,\n",
      "    \"red\": 0,\n",
      "    \"white\": 1\n",
      "}, ColorCombination object: \n",
      "{\n",
      "    \"green\": 1,\n",
      "    \"black\": 0,\n",
      "    \"blue\": 1,\n",
      "    \"red\": 1,\n",
      "    \"white\": 0\n",
      "}, ColorCombination object: \n",
      "{\n",
      "    \"green\": 1,\n",
      "    \"black\": 0,\n",
      "    \"blue\": 1,\n",
      "    \"red\": 0,\n",
      "    \"white\": 1\n",
      "}, ColorCombination object: \n",
      "{\n",
      "    \"green\": 1,\n",
      "    \"black\": 0,\n",
      "    \"blue\": 0,\n",
      "    \"red\": 1,\n",
      "    \"white\": 1\n",
      "}, ColorCombination object: \n",
      "{\n",
      "    \"green\": 0,\n",
      "    \"black\": 1,\n",
      "    \"blue\": 1,\n",
      "    \"red\": 1,\n",
      "    \"white\": 0\n",
      "}, ColorCombination object: \n",
      "{\n",
      "    \"green\": 0,\n",
      "    \"black\": 1,\n",
      "    \"blue\": 1,\n",
      "    \"red\": 0,\n",
      "    \"white\": 1\n",
      "}, ColorCombination object: \n",
      "{\n",
      "    \"green\": 0,\n",
      "    \"black\": 1,\n",
      "    \"blue\": 0,\n",
      "    \"red\": 1,\n",
      "    \"white\": 1\n",
      "}, ColorCombination object: \n",
      "{\n",
      "    \"green\": 0,\n",
      "    \"black\": 0,\n",
      "    \"blue\": 1,\n",
      "    \"red\": 1,\n",
      "    \"white\": 1\n",
      "}]}, 'serializations': [{'other_players': [{'points': array([8]), 'order': array([0., 1., 0., 0.]), 'gems': array([3, 3, 2, 0, 2, 0]), 'reserved_cards': [array([1, 0, 0, 0, 0, 0, 0, 0, 0, 3, 0, 1, 0, 0, 0]), array([0, 1, 0, 0, 0, 0, 2, 3, 3, 0, 1, 0, 1, 0, 0]), array([0, 0, 0, 0, 0, 0, 0, 0, 0, 0, 0, 0, 0, 0, 0])], 'discount': array([3, 3, 3, 2, 3])}, {'points': array([17]), 'order': array([0., 0., 1., 0.]), 'gems': array([3, 1, 1, 3, 0, 0]), 'reserved_cards': [array([1, 0, 0, 0, 0, 0, 3, 3, 3, 5, 3, 0, 0, 1, 0]), array([0, 0, 0, 0, 1, 0, 0, 0, 7, 0, 4, 0, 0, 1, 0]), array([0, 0, 0, 1, 0, 0, 0, 0, 5, 0, 2, 0, 1, 0, 0])], 'discount': array([1, 2, 3, 5, 4])}, {'points': array([13]), 'order': array([0., 0., 0., 1.]), 'gems': array([0, 0, 2, 1, 1, 1]), 'reserved_cards': [array([0, 0, 0, 1, 0, 0, 0, 0, 6, 0, 3, 0, 1, 0, 0]), array([0, 0, 0, 1, 0, 4, 2, 1, 0, 0, 2, 0, 1, 0, 0]), array([0, 0, 0, 0, 1, 0, 3, 3, 0, 2, 1, 0, 1, 0, 0])], 'discount': array([3, 4, 2, 3, 3])}], 'self': {'points': array([14]), 'order': array([1., 0., 0., 0.]), 'gems': array([1, 2, 0, 3, 4, 0]), 'reserved_cards': [array([0, 1, 0, 0, 0, 6, 3, 3, 0, 0, 4, 0, 0, 1, 0]), array([0, 1, 0, 0, 0, 7, 0, 0, 0, 3, 4, 0, 0, 1, 0]), array([0, 0, 0, 1, 0, 3, 6, 0, 3, 0, 4, 0, 0, 1, 0])], 'discount': array([5, 3, 3, 2, 2])}, 'game': {'objectives': [array([0, 0, 4, 0, 4]), array([0, 4, 0, 4, 0]), array([0, 0, 0, 0, 0]), array([0, 0, 0, 0, 0]), array([0, 0, 0, 0, 0])], 'gems': array([2, 1, 2, 2, 2, 4]), 'turn': [array(139), array(1)], 'available_cards': [[array([0, 0, 0, 0, 0, 0, 0, 0, 0, 0, 0, 0, 0, 0, 0]), array([0, 0, 0, 0, 0, 0, 0, 0, 0, 0, 0, 0, 0, 0, 0]), array([0, 0, 0, 0, 0, 0, 0, 0, 0, 0, 0, 0, 0, 0, 0]), array([0, 0, 0, 0, 0, 0, 0, 0, 0, 0, 0, 0, 0, 0, 0])], [array([0, 0, 0, 0, 1, 0, 0, 0, 0, 6, 3, 0, 1, 0, 0]), array([0, 1, 0, 0, 0, 0, 6, 0, 0, 0, 3, 0, 1, 0, 0]), array([0, 0, 1, 0, 0, 5, 0, 0, 0, 0, 2, 0, 1, 0, 0]), array([0, 0, 1, 0, 0, 5, 3, 0, 0, 0, 2, 0, 1, 0, 0])], [array([1, 0, 0, 0, 0, 0, 0, 7, 0, 0, 4, 0, 0, 1, 0]), array([0, 0, 0, 0, 1, 3, 5, 3, 3, 0, 3, 0, 0, 1, 0]), array([0, 0, 1, 0, 0, 0, 0, 3, 3, 6, 4, 0, 0, 1, 0]), array([0, 0, 1, 0, 0, 3, 3, 0, 5, 3, 3, 0, 0, 1, 0])]]}}, {'other_players': [{'points': array([8]), 'order': array([0., 1., 0., 0.]), 'gems': array([3, 3, 2, 0, 2, 0]), 'reserved_cards': [array([1, 0, 0, 0, 0, 0, 0, 0, 0, 3, 0, 1, 0, 0, 0]), array([0, 1, 0, 0, 0, 0, 2, 3, 3, 0, 1, 0, 1, 0, 0]), array([0, 0, 0, 0, 0, 0, 0, 0, 0, 0, 0, 0, 0, 0, 0])], 'discount': array([3, 3, 3, 2, 3])}, {'points': array([17]), 'order': array([0., 0., 1., 0.]), 'gems': array([3, 1, 1, 3, 0, 0]), 'reserved_cards': [array([1, 0, 0, 0, 0, 0, 3, 3, 3, 5, 3, 0, 0, 1, 0]), array([0, 0, 0, 0, 1, 0, 0, 0, 7, 0, 4, 0, 0, 1, 0]), array([0, 0, 0, 1, 0, 0, 0, 0, 5, 0, 2, 0, 1, 0, 0])], 'discount': array([1, 2, 3, 5, 4])}, {'points': array([13]), 'order': array([0., 0., 0., 1.]), 'gems': array([0, 0, 2, 1, 1, 1]), 'reserved_cards': [array([0, 0, 0, 1, 0, 0, 0, 0, 6, 0, 3, 0, 1, 0, 0]), array([0, 0, 0, 1, 0, 4, 2, 1, 0, 0, 2, 0, 1, 0, 0]), array([0, 0, 0, 0, 1, 0, 3, 3, 0, 2, 1, 0, 1, 0, 0])], 'discount': array([3, 4, 2, 3, 3])}], 'self': {'points': array([14]), 'order': array([1., 0., 0., 0.]), 'gems': array([1, 2, 1, 2, 4, 0]), 'reserved_cards': [array([0, 1, 0, 0, 0, 6, 3, 3, 0, 0, 4, 0, 0, 1, 0]), array([0, 1, 0, 0, 0, 7, 0, 0, 0, 3, 4, 0, 0, 1, 0]), array([0, 0, 0, 1, 0, 3, 6, 0, 3, 0, 4, 0, 0, 1, 0])], 'discount': array([5, 3, 3, 2, 2])}, 'game': {'objectives': [array([0, 0, 4, 0, 4]), array([0, 4, 0, 4, 0]), array([0, 0, 0, 0, 0]), array([0, 0, 0, 0, 0]), array([0, 0, 0, 0, 0])], 'gems': array([2, 1, 3, 1, 2, 4]), 'turn': [array(139), array(1)], 'available_cards': [[array([0, 0, 0, 0, 0, 0, 0, 0, 0, 0, 0, 0, 0, 0, 0]), array([0, 0, 0, 0, 0, 0, 0, 0, 0, 0, 0, 0, 0, 0, 0]), array([0, 0, 0, 0, 0, 0, 0, 0, 0, 0, 0, 0, 0, 0, 0]), array([0, 0, 0, 0, 0, 0, 0, 0, 0, 0, 0, 0, 0, 0, 0])], [array([0, 0, 0, 0, 1, 0, 0, 0, 0, 6, 3, 0, 1, 0, 0]), array([0, 1, 0, 0, 0, 0, 6, 0, 0, 0, 3, 0, 1, 0, 0]), array([0, 0, 1, 0, 0, 5, 0, 0, 0, 0, 2, 0, 1, 0, 0]), array([0, 0, 1, 0, 0, 5, 3, 0, 0, 0, 2, 0, 1, 0, 0])], [array([1, 0, 0, 0, 0, 0, 0, 7, 0, 0, 4, 0, 0, 1, 0]), array([0, 0, 0, 0, 1, 3, 5, 3, 3, 0, 3, 0, 0, 1, 0]), array([0, 0, 1, 0, 0, 0, 0, 3, 3, 6, 4, 0, 0, 1, 0]), array([0, 0, 1, 0, 0, 3, 3, 0, 5, 3, 3, 0, 0, 1, 0])]]}}, {'other_players': [{'points': array([8]), 'order': array([0., 1., 0., 0.]), 'gems': array([3, 3, 2, 0, 2, 0]), 'reserved_cards': [array([1, 0, 0, 0, 0, 0, 0, 0, 0, 3, 0, 1, 0, 0, 0]), array([0, 1, 0, 0, 0, 0, 2, 3, 3, 0, 1, 0, 1, 0, 0]), array([0, 0, 0, 0, 0, 0, 0, 0, 0, 0, 0, 0, 0, 0, 0])], 'discount': array([3, 3, 3, 2, 3])}, {'points': array([17]), 'order': array([0., 0., 1., 0.]), 'gems': array([3, 1, 1, 3, 0, 0]), 'reserved_cards': [array([1, 0, 0, 0, 0, 0, 3, 3, 3, 5, 3, 0, 0, 1, 0]), array([0, 0, 0, 0, 1, 0, 0, 0, 7, 0, 4, 0, 0, 1, 0]), array([0, 0, 0, 1, 0, 0, 0, 0, 5, 0, 2, 0, 1, 0, 0])], 'discount': array([1, 2, 3, 5, 4])}, {'points': array([13]), 'order': array([0., 0., 0., 1.]), 'gems': array([0, 0, 2, 1, 1, 1]), 'reserved_cards': [array([0, 0, 0, 1, 0, 0, 0, 0, 6, 0, 3, 0, 1, 0, 0]), array([0, 0, 0, 1, 0, 4, 2, 1, 0, 0, 2, 0, 1, 0, 0]), array([0, 0, 0, 0, 1, 0, 3, 3, 0, 2, 1, 0, 1, 0, 0])], 'discount': array([3, 4, 2, 3, 3])}], 'self': {'points': array([14]), 'order': array([1., 0., 0., 0.]), 'gems': array([1, 3, 0, 2, 4, 0]), 'reserved_cards': [array([0, 1, 0, 0, 0, 6, 3, 3, 0, 0, 4, 0, 0, 1, 0]), array([0, 1, 0, 0, 0, 7, 0, 0, 0, 3, 4, 0, 0, 1, 0]), array([0, 0, 0, 1, 0, 3, 6, 0, 3, 0, 4, 0, 0, 1, 0])], 'discount': array([5, 3, 3, 2, 2])}, 'game': {'objectives': [array([0, 0, 4, 0, 4]), array([0, 4, 0, 4, 0]), array([0, 0, 0, 0, 0]), array([0, 0, 0, 0, 0]), array([0, 0, 0, 0, 0])], 'gems': array([2, 2, 2, 1, 2, 4]), 'turn': [array(139), array(1)], 'available_cards': [[array([0, 0, 0, 0, 0, 0, 0, 0, 0, 0, 0, 0, 0, 0, 0]), array([0, 0, 0, 0, 0, 0, 0, 0, 0, 0, 0, 0, 0, 0, 0]), array([0, 0, 0, 0, 0, 0, 0, 0, 0, 0, 0, 0, 0, 0, 0]), array([0, 0, 0, 0, 0, 0, 0, 0, 0, 0, 0, 0, 0, 0, 0])], [array([0, 0, 0, 0, 1, 0, 0, 0, 0, 6, 3, 0, 1, 0, 0]), array([0, 1, 0, 0, 0, 0, 6, 0, 0, 0, 3, 0, 1, 0, 0]), array([0, 0, 1, 0, 0, 5, 0, 0, 0, 0, 2, 0, 1, 0, 0]), array([0, 0, 1, 0, 0, 5, 3, 0, 0, 0, 2, 0, 1, 0, 0])], [array([1, 0, 0, 0, 0, 0, 0, 7, 0, 0, 4, 0, 0, 1, 0]), array([0, 0, 0, 0, 1, 3, 5, 3, 3, 0, 3, 0, 0, 1, 0]), array([0, 0, 1, 0, 0, 0, 0, 3, 3, 6, 4, 0, 0, 1, 0]), array([0, 0, 1, 0, 0, 3, 3, 0, 5, 3, 3, 0, 0, 1, 0])]]}}, {'other_players': [{'points': array([8]), 'order': array([0., 1., 0., 0.]), 'gems': array([3, 3, 2, 0, 2, 0]), 'reserved_cards': [array([1, 0, 0, 0, 0, 0, 0, 0, 0, 3, 0, 1, 0, 0, 0]), array([0, 1, 0, 0, 0, 0, 2, 3, 3, 0, 1, 0, 1, 0, 0]), array([0, 0, 0, 0, 0, 0, 0, 0, 0, 0, 0, 0, 0, 0, 0])], 'discount': array([3, 3, 3, 2, 3])}, {'points': array([17]), 'order': array([0., 0., 1., 0.]), 'gems': array([3, 1, 1, 3, 0, 0]), 'reserved_cards': [array([1, 0, 0, 0, 0, 0, 3, 3, 3, 5, 3, 0, 0, 1, 0]), array([0, 0, 0, 0, 1, 0, 0, 0, 7, 0, 4, 0, 0, 1, 0]), array([0, 0, 0, 1, 0, 0, 0, 0, 5, 0, 2, 0, 1, 0, 0])], 'discount': array([1, 2, 3, 5, 4])}, {'points': array([13]), 'order': array([0., 0., 0., 1.]), 'gems': array([0, 0, 2, 1, 1, 1]), 'reserved_cards': [array([0, 0, 0, 1, 0, 0, 0, 0, 6, 0, 3, 0, 1, 0, 0]), array([0, 0, 0, 1, 0, 4, 2, 1, 0, 0, 2, 0, 1, 0, 0]), array([0, 0, 0, 0, 1, 0, 3, 3, 0, 2, 1, 0, 1, 0, 0])], 'discount': array([3, 4, 2, 3, 3])}], 'self': {'points': array([14]), 'order': array([1., 0., 0., 0.]), 'gems': array([0, 2, 1, 3, 4, 0]), 'reserved_cards': [array([0, 1, 0, 0, 0, 6, 3, 3, 0, 0, 4, 0, 0, 1, 0]), array([0, 1, 0, 0, 0, 7, 0, 0, 0, 3, 4, 0, 0, 1, 0]), array([0, 0, 0, 1, 0, 3, 6, 0, 3, 0, 4, 0, 0, 1, 0])], 'discount': array([5, 3, 3, 2, 2])}, 'game': {'objectives': [array([0, 0, 4, 0, 4]), array([0, 4, 0, 4, 0]), array([0, 0, 0, 0, 0]), array([0, 0, 0, 0, 0]), array([0, 0, 0, 0, 0])], 'gems': array([1, 1, 3, 2, 2, 4]), 'turn': [array(139), array(1)], 'available_cards': [[array([0, 0, 0, 0, 0, 0, 0, 0, 0, 0, 0, 0, 0, 0, 0]), array([0, 0, 0, 0, 0, 0, 0, 0, 0, 0, 0, 0, 0, 0, 0]), array([0, 0, 0, 0, 0, 0, 0, 0, 0, 0, 0, 0, 0, 0, 0]), array([0, 0, 0, 0, 0, 0, 0, 0, 0, 0, 0, 0, 0, 0, 0])], [array([0, 0, 0, 0, 1, 0, 0, 0, 0, 6, 3, 0, 1, 0, 0]), array([0, 1, 0, 0, 0, 0, 6, 0, 0, 0, 3, 0, 1, 0, 0]), array([0, 0, 1, 0, 0, 5, 0, 0, 0, 0, 2, 0, 1, 0, 0]), array([0, 0, 1, 0, 0, 5, 3, 0, 0, 0, 2, 0, 1, 0, 0])], [array([1, 0, 0, 0, 0, 0, 0, 7, 0, 0, 4, 0, 0, 1, 0]), array([0, 0, 0, 0, 1, 3, 5, 3, 3, 0, 3, 0, 0, 1, 0]), array([0, 0, 1, 0, 0, 0, 0, 3, 3, 6, 4, 0, 0, 1, 0]), array([0, 0, 1, 0, 0, 3, 3, 0, 5, 3, 3, 0, 0, 1, 0])]]}}, {'other_players': [{'points': array([8]), 'order': array([0., 1., 0., 0.]), 'gems': array([3, 3, 2, 0, 2, 0]), 'reserved_cards': [array([1, 0, 0, 0, 0, 0, 0, 0, 0, 3, 0, 1, 0, 0, 0]), array([0, 1, 0, 0, 0, 0, 2, 3, 3, 0, 1, 0, 1, 0, 0]), array([0, 0, 0, 0, 0, 0, 0, 0, 0, 0, 0, 0, 0, 0, 0])], 'discount': array([3, 3, 3, 2, 3])}, {'points': array([17]), 'order': array([0., 0., 1., 0.]), 'gems': array([3, 1, 1, 3, 0, 0]), 'reserved_cards': [array([1, 0, 0, 0, 0, 0, 3, 3, 3, 5, 3, 0, 0, 1, 0]), array([0, 0, 0, 0, 1, 0, 0, 0, 7, 0, 4, 0, 0, 1, 0]), array([0, 0, 0, 1, 0, 0, 0, 0, 5, 0, 2, 0, 1, 0, 0])], 'discount': array([1, 2, 3, 5, 4])}, {'points': array([13]), 'order': array([0., 0., 0., 1.]), 'gems': array([0, 0, 2, 1, 1, 1]), 'reserved_cards': [array([0, 0, 0, 1, 0, 0, 0, 0, 6, 0, 3, 0, 1, 0, 0]), array([0, 0, 0, 1, 0, 4, 2, 1, 0, 0, 2, 0, 1, 0, 0]), array([0, 0, 0, 0, 1, 0, 3, 3, 0, 2, 1, 0, 1, 0, 0])], 'discount': array([3, 4, 2, 3, 3])}], 'self': {'points': array([14]), 'order': array([1., 0., 0., 0.]), 'gems': array([0, 3, 0, 3, 4, 0]), 'reserved_cards': [array([0, 1, 0, 0, 0, 6, 3, 3, 0, 0, 4, 0, 0, 1, 0]), array([0, 1, 0, 0, 0, 7, 0, 0, 0, 3, 4, 0, 0, 1, 0]), array([0, 0, 0, 1, 0, 3, 6, 0, 3, 0, 4, 0, 0, 1, 0])], 'discount': array([5, 3, 3, 2, 2])}, 'game': {'objectives': [array([0, 0, 4, 0, 4]), array([0, 4, 0, 4, 0]), array([0, 0, 0, 0, 0]), array([0, 0, 0, 0, 0]), array([0, 0, 0, 0, 0])], 'gems': array([1, 2, 2, 2, 2, 4]), 'turn': [array(139), array(1)], 'available_cards': [[array([0, 0, 0, 0, 0, 0, 0, 0, 0, 0, 0, 0, 0, 0, 0]), array([0, 0, 0, 0, 0, 0, 0, 0, 0, 0, 0, 0, 0, 0, 0]), array([0, 0, 0, 0, 0, 0, 0, 0, 0, 0, 0, 0, 0, 0, 0]), array([0, 0, 0, 0, 0, 0, 0, 0, 0, 0, 0, 0, 0, 0, 0])], [array([0, 0, 0, 0, 1, 0, 0, 0, 0, 6, 3, 0, 1, 0, 0]), array([0, 1, 0, 0, 0, 0, 6, 0, 0, 0, 3, 0, 1, 0, 0]), array([0, 0, 1, 0, 0, 5, 0, 0, 0, 0, 2, 0, 1, 0, 0]), array([0, 0, 1, 0, 0, 5, 3, 0, 0, 0, 2, 0, 1, 0, 0])], [array([1, 0, 0, 0, 0, 0, 0, 7, 0, 0, 4, 0, 0, 1, 0]), array([0, 0, 0, 0, 1, 3, 5, 3, 3, 0, 3, 0, 0, 1, 0]), array([0, 0, 1, 0, 0, 0, 0, 3, 3, 6, 4, 0, 0, 1, 0]), array([0, 0, 1, 0, 0, 3, 3, 0, 5, 3, 3, 0, 0, 1, 0])]]}}, {'other_players': [{'points': array([8]), 'order': array([0., 1., 0., 0.]), 'gems': array([3, 3, 2, 0, 2, 0]), 'reserved_cards': [array([1, 0, 0, 0, 0, 0, 0, 0, 0, 3, 0, 1, 0, 0, 0]), array([0, 1, 0, 0, 0, 0, 2, 3, 3, 0, 1, 0, 1, 0, 0]), array([0, 0, 0, 0, 0, 0, 0, 0, 0, 0, 0, 0, 0, 0, 0])], 'discount': array([3, 3, 3, 2, 3])}, {'points': array([17]), 'order': array([0., 0., 1., 0.]), 'gems': array([3, 1, 1, 3, 0, 0]), 'reserved_cards': [array([1, 0, 0, 0, 0, 0, 3, 3, 3, 5, 3, 0, 0, 1, 0]), array([0, 0, 0, 0, 1, 0, 0, 0, 7, 0, 4, 0, 0, 1, 0]), array([0, 0, 0, 1, 0, 0, 0, 0, 5, 0, 2, 0, 1, 0, 0])], 'discount': array([1, 2, 3, 5, 4])}, {'points': array([13]), 'order': array([0., 0., 0., 1.]), 'gems': array([0, 0, 2, 1, 1, 1]), 'reserved_cards': [array([0, 0, 0, 1, 0, 0, 0, 0, 6, 0, 3, 0, 1, 0, 0]), array([0, 0, 0, 1, 0, 4, 2, 1, 0, 0, 2, 0, 1, 0, 0]), array([0, 0, 0, 0, 1, 0, 3, 3, 0, 2, 1, 0, 1, 0, 0])], 'discount': array([3, 4, 2, 3, 3])}], 'self': {'points': array([14]), 'order': array([1., 0., 0., 0.]), 'gems': array([0, 3, 1, 2, 4, 0]), 'reserved_cards': [array([0, 1, 0, 0, 0, 6, 3, 3, 0, 0, 4, 0, 0, 1, 0]), array([0, 1, 0, 0, 0, 7, 0, 0, 0, 3, 4, 0, 0, 1, 0]), array([0, 0, 0, 1, 0, 3, 6, 0, 3, 0, 4, 0, 0, 1, 0])], 'discount': array([5, 3, 3, 2, 2])}, 'game': {'objectives': [array([0, 0, 4, 0, 4]), array([0, 4, 0, 4, 0]), array([0, 0, 0, 0, 0]), array([0, 0, 0, 0, 0]), array([0, 0, 0, 0, 0])], 'gems': array([1, 2, 3, 1, 2, 4]), 'turn': [array(139), array(1)], 'available_cards': [[array([0, 0, 0, 0, 0, 0, 0, 0, 0, 0, 0, 0, 0, 0, 0]), array([0, 0, 0, 0, 0, 0, 0, 0, 0, 0, 0, 0, 0, 0, 0]), array([0, 0, 0, 0, 0, 0, 0, 0, 0, 0, 0, 0, 0, 0, 0]), array([0, 0, 0, 0, 0, 0, 0, 0, 0, 0, 0, 0, 0, 0, 0])], [array([0, 0, 0, 0, 1, 0, 0, 0, 0, 6, 3, 0, 1, 0, 0]), array([0, 1, 0, 0, 0, 0, 6, 0, 0, 0, 3, 0, 1, 0, 0]), array([0, 0, 1, 0, 0, 5, 0, 0, 0, 0, 2, 0, 1, 0, 0]), array([0, 0, 1, 0, 0, 5, 3, 0, 0, 0, 2, 0, 1, 0, 0])], [array([1, 0, 0, 0, 0, 0, 0, 7, 0, 0, 4, 0, 0, 1, 0]), array([0, 0, 0, 0, 1, 3, 5, 3, 3, 0, 3, 0, 0, 1, 0]), array([0, 0, 1, 0, 0, 0, 0, 3, 3, 6, 4, 0, 0, 1, 0]), array([0, 0, 1, 0, 0, 3, 3, 0, 5, 3, 3, 0, 0, 1, 0])]]}}, {'other_players': [{'points': array([8]), 'order': array([0., 1., 0., 0.]), 'gems': array([3, 3, 2, 0, 2, 0]), 'reserved_cards': [array([1, 0, 0, 0, 0, 0, 0, 0, 0, 3, 0, 1, 0, 0, 0]), array([0, 1, 0, 0, 0, 0, 2, 3, 3, 0, 1, 0, 1, 0, 0]), array([0, 0, 0, 0, 0, 0, 0, 0, 0, 0, 0, 0, 0, 0, 0])], 'discount': array([3, 3, 3, 2, 3])}, {'points': array([17]), 'order': array([0., 0., 1., 0.]), 'gems': array([3, 1, 1, 3, 0, 0]), 'reserved_cards': [array([1, 0, 0, 0, 0, 0, 3, 3, 3, 5, 3, 0, 0, 1, 0]), array([0, 0, 0, 0, 1, 0, 0, 0, 7, 0, 4, 0, 0, 1, 0]), array([0, 0, 0, 1, 0, 0, 0, 0, 5, 0, 2, 0, 1, 0, 0])], 'discount': array([1, 2, 3, 5, 4])}, {'points': array([13]), 'order': array([0., 0., 0., 1.]), 'gems': array([0, 0, 2, 1, 1, 1]), 'reserved_cards': [array([0, 0, 0, 1, 0, 0, 0, 0, 6, 0, 3, 0, 1, 0, 0]), array([0, 0, 0, 1, 0, 4, 2, 1, 0, 0, 2, 0, 1, 0, 0]), array([0, 0, 0, 0, 1, 0, 3, 3, 0, 2, 1, 0, 1, 0, 0])], 'discount': array([3, 4, 2, 3, 3])}], 'self': {'points': array([14]), 'order': array([1., 0., 0., 0.]), 'gems': array([1, 2, 1, 3, 3, 0]), 'reserved_cards': [array([0, 1, 0, 0, 0, 6, 3, 3, 0, 0, 4, 0, 0, 1, 0]), array([0, 1, 0, 0, 0, 7, 0, 0, 0, 3, 4, 0, 0, 1, 0]), array([0, 0, 0, 1, 0, 3, 6, 0, 3, 0, 4, 0, 0, 1, 0])], 'discount': array([5, 3, 3, 2, 2])}, 'game': {'objectives': [array([0, 0, 4, 0, 4]), array([0, 4, 0, 4, 0]), array([0, 0, 0, 0, 0]), array([0, 0, 0, 0, 0]), array([0, 0, 0, 0, 0])], 'gems': array([2, 1, 3, 2, 1, 4]), 'turn': [array(139), array(1)], 'available_cards': [[array([0, 0, 0, 0, 0, 0, 0, 0, 0, 0, 0, 0, 0, 0, 0]), array([0, 0, 0, 0, 0, 0, 0, 0, 0, 0, 0, 0, 0, 0, 0]), array([0, 0, 0, 0, 0, 0, 0, 0, 0, 0, 0, 0, 0, 0, 0]), array([0, 0, 0, 0, 0, 0, 0, 0, 0, 0, 0, 0, 0, 0, 0])], [array([0, 0, 0, 0, 1, 0, 0, 0, 0, 6, 3, 0, 1, 0, 0]), array([0, 1, 0, 0, 0, 0, 6, 0, 0, 0, 3, 0, 1, 0, 0]), array([0, 0, 1, 0, 0, 5, 0, 0, 0, 0, 2, 0, 1, 0, 0]), array([0, 0, 1, 0, 0, 5, 3, 0, 0, 0, 2, 0, 1, 0, 0])], [array([1, 0, 0, 0, 0, 0, 0, 7, 0, 0, 4, 0, 0, 1, 0]), array([0, 0, 0, 0, 1, 3, 5, 3, 3, 0, 3, 0, 0, 1, 0]), array([0, 0, 1, 0, 0, 0, 0, 3, 3, 6, 4, 0, 0, 1, 0]), array([0, 0, 1, 0, 0, 3, 3, 0, 5, 3, 3, 0, 0, 1, 0])]]}}, {'other_players': [{'points': array([8]), 'order': array([0., 1., 0., 0.]), 'gems': array([3, 3, 2, 0, 2, 0]), 'reserved_cards': [array([1, 0, 0, 0, 0, 0, 0, 0, 0, 3, 0, 1, 0, 0, 0]), array([0, 1, 0, 0, 0, 0, 2, 3, 3, 0, 1, 0, 1, 0, 0]), array([0, 0, 0, 0, 0, 0, 0, 0, 0, 0, 0, 0, 0, 0, 0])], 'discount': array([3, 3, 3, 2, 3])}, {'points': array([17]), 'order': array([0., 0., 1., 0.]), 'gems': array([3, 1, 1, 3, 0, 0]), 'reserved_cards': [array([1, 0, 0, 0, 0, 0, 3, 3, 3, 5, 3, 0, 0, 1, 0]), array([0, 0, 0, 0, 1, 0, 0, 0, 7, 0, 4, 0, 0, 1, 0]), array([0, 0, 0, 1, 0, 0, 0, 0, 5, 0, 2, 0, 1, 0, 0])], 'discount': array([1, 2, 3, 5, 4])}, {'points': array([13]), 'order': array([0., 0., 0., 1.]), 'gems': array([0, 0, 2, 1, 1, 1]), 'reserved_cards': [array([0, 0, 0, 1, 0, 0, 0, 0, 6, 0, 3, 0, 1, 0, 0]), array([0, 0, 0, 1, 0, 4, 2, 1, 0, 0, 2, 0, 1, 0, 0]), array([0, 0, 0, 0, 1, 0, 3, 3, 0, 2, 1, 0, 1, 0, 0])], 'discount': array([3, 4, 2, 3, 3])}], 'self': {'points': array([14]), 'order': array([1., 0., 0., 0.]), 'gems': array([1, 3, 0, 3, 3, 0]), 'reserved_cards': [array([0, 1, 0, 0, 0, 6, 3, 3, 0, 0, 4, 0, 0, 1, 0]), array([0, 1, 0, 0, 0, 7, 0, 0, 0, 3, 4, 0, 0, 1, 0]), array([0, 0, 0, 1, 0, 3, 6, 0, 3, 0, 4, 0, 0, 1, 0])], 'discount': array([5, 3, 3, 2, 2])}, 'game': {'objectives': [array([0, 0, 4, 0, 4]), array([0, 4, 0, 4, 0]), array([0, 0, 0, 0, 0]), array([0, 0, 0, 0, 0]), array([0, 0, 0, 0, 0])], 'gems': array([2, 2, 2, 2, 1, 4]), 'turn': [array(139), array(1)], 'available_cards': [[array([0, 0, 0, 0, 0, 0, 0, 0, 0, 0, 0, 0, 0, 0, 0]), array([0, 0, 0, 0, 0, 0, 0, 0, 0, 0, 0, 0, 0, 0, 0]), array([0, 0, 0, 0, 0, 0, 0, 0, 0, 0, 0, 0, 0, 0, 0]), array([0, 0, 0, 0, 0, 0, 0, 0, 0, 0, 0, 0, 0, 0, 0])], [array([0, 0, 0, 0, 1, 0, 0, 0, 0, 6, 3, 0, 1, 0, 0]), array([0, 1, 0, 0, 0, 0, 6, 0, 0, 0, 3, 0, 1, 0, 0]), array([0, 0, 1, 0, 0, 5, 0, 0, 0, 0, 2, 0, 1, 0, 0]), array([0, 0, 1, 0, 0, 5, 3, 0, 0, 0, 2, 0, 1, 0, 0])], [array([1, 0, 0, 0, 0, 0, 0, 7, 0, 0, 4, 0, 0, 1, 0]), array([0, 0, 0, 0, 1, 3, 5, 3, 3, 0, 3, 0, 0, 1, 0]), array([0, 0, 1, 0, 0, 0, 0, 3, 3, 6, 4, 0, 0, 1, 0]), array([0, 0, 1, 0, 0, 3, 3, 0, 5, 3, 3, 0, 0, 1, 0])]]}}, {'other_players': [{'points': array([8]), 'order': array([0., 1., 0., 0.]), 'gems': array([3, 3, 2, 0, 2, 0]), 'reserved_cards': [array([1, 0, 0, 0, 0, 0, 0, 0, 0, 3, 0, 1, 0, 0, 0]), array([0, 1, 0, 0, 0, 0, 2, 3, 3, 0, 1, 0, 1, 0, 0]), array([0, 0, 0, 0, 0, 0, 0, 0, 0, 0, 0, 0, 0, 0, 0])], 'discount': array([3, 3, 3, 2, 3])}, {'points': array([17]), 'order': array([0., 0., 1., 0.]), 'gems': array([3, 1, 1, 3, 0, 0]), 'reserved_cards': [array([1, 0, 0, 0, 0, 0, 3, 3, 3, 5, 3, 0, 0, 1, 0]), array([0, 0, 0, 0, 1, 0, 0, 0, 7, 0, 4, 0, 0, 1, 0]), array([0, 0, 0, 1, 0, 0, 0, 0, 5, 0, 2, 0, 1, 0, 0])], 'discount': array([1, 2, 3, 5, 4])}, {'points': array([13]), 'order': array([0., 0., 0., 1.]), 'gems': array([0, 0, 2, 1, 1, 1]), 'reserved_cards': [array([0, 0, 0, 1, 0, 0, 0, 0, 6, 0, 3, 0, 1, 0, 0]), array([0, 0, 0, 1, 0, 4, 2, 1, 0, 0, 2, 0, 1, 0, 0]), array([0, 0, 0, 0, 1, 0, 3, 3, 0, 2, 1, 0, 1, 0, 0])], 'discount': array([3, 4, 2, 3, 3])}], 'self': {'points': array([14]), 'order': array([1., 0., 0., 0.]), 'gems': array([1, 3, 1, 2, 3, 0]), 'reserved_cards': [array([0, 1, 0, 0, 0, 6, 3, 3, 0, 0, 4, 0, 0, 1, 0]), array([0, 1, 0, 0, 0, 7, 0, 0, 0, 3, 4, 0, 0, 1, 0]), array([0, 0, 0, 1, 0, 3, 6, 0, 3, 0, 4, 0, 0, 1, 0])], 'discount': array([5, 3, 3, 2, 2])}, 'game': {'objectives': [array([0, 0, 4, 0, 4]), array([0, 4, 0, 4, 0]), array([0, 0, 0, 0, 0]), array([0, 0, 0, 0, 0]), array([0, 0, 0, 0, 0])], 'gems': array([2, 2, 3, 1, 1, 4]), 'turn': [array(139), array(1)], 'available_cards': [[array([0, 0, 0, 0, 0, 0, 0, 0, 0, 0, 0, 0, 0, 0, 0]), array([0, 0, 0, 0, 0, 0, 0, 0, 0, 0, 0, 0, 0, 0, 0]), array([0, 0, 0, 0, 0, 0, 0, 0, 0, 0, 0, 0, 0, 0, 0]), array([0, 0, 0, 0, 0, 0, 0, 0, 0, 0, 0, 0, 0, 0, 0])], [array([0, 0, 0, 0, 1, 0, 0, 0, 0, 6, 3, 0, 1, 0, 0]), array([0, 1, 0, 0, 0, 0, 6, 0, 0, 0, 3, 0, 1, 0, 0]), array([0, 0, 1, 0, 0, 5, 0, 0, 0, 0, 2, 0, 1, 0, 0]), array([0, 0, 1, 0, 0, 5, 3, 0, 0, 0, 2, 0, 1, 0, 0])], [array([1, 0, 0, 0, 0, 0, 0, 7, 0, 0, 4, 0, 0, 1, 0]), array([0, 0, 0, 0, 1, 3, 5, 3, 3, 0, 3, 0, 0, 1, 0]), array([0, 0, 1, 0, 0, 0, 0, 3, 3, 6, 4, 0, 0, 1, 0]), array([0, 0, 1, 0, 0, 3, 3, 0, 5, 3, 3, 0, 0, 1, 0])]]}}, {'other_players': [{'points': array([8]), 'order': array([0., 1., 0., 0.]), 'gems': array([3, 3, 2, 0, 2, 0]), 'reserved_cards': [array([1, 0, 0, 0, 0, 0, 0, 0, 0, 3, 0, 1, 0, 0, 0]), array([0, 1, 0, 0, 0, 0, 2, 3, 3, 0, 1, 0, 1, 0, 0]), array([0, 0, 0, 0, 0, 0, 0, 0, 0, 0, 0, 0, 0, 0, 0])], 'discount': array([3, 3, 3, 2, 3])}, {'points': array([17]), 'order': array([0., 0., 1., 0.]), 'gems': array([3, 1, 1, 3, 0, 0]), 'reserved_cards': [array([1, 0, 0, 0, 0, 0, 3, 3, 3, 5, 3, 0, 0, 1, 0]), array([0, 0, 0, 0, 1, 0, 0, 0, 7, 0, 4, 0, 0, 1, 0]), array([0, 0, 0, 1, 0, 0, 0, 0, 5, 0, 2, 0, 1, 0, 0])], 'discount': array([1, 2, 3, 5, 4])}, {'points': array([13]), 'order': array([0., 0., 0., 1.]), 'gems': array([0, 0, 2, 1, 1, 1]), 'reserved_cards': [array([0, 0, 0, 1, 0, 0, 0, 0, 6, 0, 3, 0, 1, 0, 0]), array([0, 0, 0, 1, 0, 4, 2, 1, 0, 0, 2, 0, 1, 0, 0]), array([0, 0, 0, 0, 1, 0, 3, 3, 0, 2, 1, 0, 1, 0, 0])], 'discount': array([3, 4, 2, 3, 3])}], 'self': {'points': array([14]), 'order': array([1., 0., 0., 0.]), 'gems': array([0, 3, 1, 3, 3, 0]), 'reserved_cards': [array([0, 1, 0, 0, 0, 6, 3, 3, 0, 0, 4, 0, 0, 1, 0]), array([0, 1, 0, 0, 0, 7, 0, 0, 0, 3, 4, 0, 0, 1, 0]), array([0, 0, 0, 1, 0, 3, 6, 0, 3, 0, 4, 0, 0, 1, 0])], 'discount': array([5, 3, 3, 2, 2])}, 'game': {'objectives': [array([0, 0, 4, 0, 4]), array([0, 4, 0, 4, 0]), array([0, 0, 0, 0, 0]), array([0, 0, 0, 0, 0]), array([0, 0, 0, 0, 0])], 'gems': array([1, 2, 3, 2, 1, 4]), 'turn': [array(139), array(1)], 'available_cards': [[array([0, 0, 0, 0, 0, 0, 0, 0, 0, 0, 0, 0, 0, 0, 0]), array([0, 0, 0, 0, 0, 0, 0, 0, 0, 0, 0, 0, 0, 0, 0]), array([0, 0, 0, 0, 0, 0, 0, 0, 0, 0, 0, 0, 0, 0, 0]), array([0, 0, 0, 0, 0, 0, 0, 0, 0, 0, 0, 0, 0, 0, 0])], [array([0, 0, 0, 0, 1, 0, 0, 0, 0, 6, 3, 0, 1, 0, 0]), array([0, 1, 0, 0, 0, 0, 6, 0, 0, 0, 3, 0, 1, 0, 0]), array([0, 0, 1, 0, 0, 5, 0, 0, 0, 0, 2, 0, 1, 0, 0]), array([0, 0, 1, 0, 0, 5, 3, 0, 0, 0, 2, 0, 1, 0, 0])], [array([1, 0, 0, 0, 0, 0, 0, 7, 0, 0, 4, 0, 0, 1, 0]), array([0, 0, 0, 0, 1, 3, 5, 3, 3, 0, 3, 0, 0, 1, 0]), array([0, 0, 1, 0, 0, 0, 0, 3, 3, 6, 4, 0, 0, 1, 0]), array([0, 0, 1, 0, 0, 3, 3, 0, 5, 3, 3, 0, 0, 1, 0])]]}}], 'score': array([1.6544908, 1.6552273, 1.6297128, 1.7089789, 1.6874378, 1.6834666,\n",
      "       1.6658982, 1.6425551, 1.6404395, 1.6955838], dtype=float32)}\n"
     ]
    }
   ],
   "source": [
    "x = game.players[0].simulate_gem_taking_options()\n",
    "print(x)"
   ]
  },
  {
   "cell_type": "code",
   "execution_count": 14,
   "metadata": {},
   "outputs": [
    {
     "data": {
      "text/plain": [
       "[ColorCombination object: \n",
       " {\n",
       "     \"green\": 2,\n",
       "     \"black\": 5,\n",
       "     \"blue\": 2,\n",
       "     \"red\": 3,\n",
       "     \"white\": 3\n",
       " }, ColorCombination object: \n",
       " {\n",
       "     \"green\": 3,\n",
       "     \"black\": 3,\n",
       "     \"blue\": 2,\n",
       "     \"red\": 3,\n",
       "     \"white\": 3\n",
       " }, ColorCombination object: \n",
       " {\n",
       "     \"green\": 4,\n",
       "     \"black\": 1,\n",
       "     \"blue\": 5,\n",
       "     \"red\": 3,\n",
       "     \"white\": 2\n",
       " }, ColorCombination object: \n",
       " {\n",
       "     \"green\": 3,\n",
       "     \"black\": 3,\n",
       "     \"blue\": 3,\n",
       "     \"red\": 2,\n",
       "     \"white\": 4\n",
       " }]"
      ]
     },
     "execution_count": 14,
     "metadata": {},
     "output_type": "execute_result"
    }
   ],
   "source": [
    "[player.discount for player in game.players]"
   ]
  },
  {
   "cell_type": "code",
   "execution_count": 15,
   "metadata": {},
   "outputs": [
    {
     "data": {
      "text/plain": [
       "[14, 8, 17, 13]"
      ]
     },
     "execution_count": 15,
     "metadata": {},
     "output_type": "execute_result"
    }
   ],
   "source": [
    "[player.points for player in game.players]"
   ]
  },
  {
   "cell_type": "code",
   "execution_count": 16,
   "metadata": {},
   "outputs": [
    {
     "data": {
      "text/plain": [
       "ColorCombination object: \n",
       "{\n",
       "    \"black\": 1,\n",
       "    \"gold\": 4,\n",
       "    \"white\": 1,\n",
       "    \"green\": 1,\n",
       "    \"blue\": 1,\n",
       "    \"red\": 2\n",
       "}"
      ]
     },
     "execution_count": 16,
     "metadata": {},
     "output_type": "execute_result"
    }
   ],
   "source": [
    "game.gems"
   ]
  },
  {
   "cell_type": "code",
   "execution_count": 17,
   "metadata": {},
   "outputs": [
    {
     "data": {
      "text/plain": [
       "[ColorCombination object: \n",
       " {\n",
       "     \"black\": 0,\n",
       "     \"gold\": 0,\n",
       "     \"white\": 0,\n",
       "     \"green\": 1,\n",
       "     \"blue\": 1,\n",
       "     \"red\": 0\n",
       " }, ColorCombination object: \n",
       " {\n",
       "     \"black\": 1,\n",
       "     \"gold\": 0,\n",
       "     \"white\": 1,\n",
       "     \"green\": 0,\n",
       "     \"blue\": 1,\n",
       "     \"red\": 0\n",
       " }, ColorCombination object: \n",
       " {\n",
       "     \"black\": 0,\n",
       "     \"gold\": 0,\n",
       "     \"white\": 0,\n",
       "     \"green\": 2,\n",
       "     \"blue\": 0,\n",
       "     \"red\": 0\n",
       " }]"
      ]
     },
     "execution_count": 17,
     "metadata": {},
     "output_type": "execute_result"
    }
   ],
   "source": [
    "from constants import *\n",
    "game.players[0].calculate_gem_returns([ColorCombination(True, black=1,blue=1,white=1), ColorCombination(True, blac=1, blue=1, green=1),\n",
    "                                      ColorCombination(True, green=2)])"
   ]
  },
  {
   "cell_type": "code",
   "execution_count": 18,
   "metadata": {},
   "outputs": [
    {
     "data": {
      "text/plain": [
       "6"
      ]
     },
     "execution_count": 18,
     "metadata": {},
     "output_type": "execute_result"
    }
   ],
   "source": [
    "game.gems.count_nongold()"
   ]
  },
  {
   "cell_type": "code",
   "execution_count": 19,
   "metadata": {},
   "outputs": [
    {
     "data": {
      "text/plain": [
       "[ColorCombination object: \n",
       " {\n",
       "     \"green\": 4,\n",
       "     \"black\": 0,\n",
       "     \"blue\": 0,\n",
       "     \"red\": 4,\n",
       "     \"white\": 0\n",
       " }, ColorCombination object: \n",
       " {\n",
       "     \"green\": 0,\n",
       "     \"black\": 0,\n",
       "     \"blue\": 4,\n",
       "     \"red\": 0,\n",
       "     \"white\": 4\n",
       " }]"
      ]
     },
     "execution_count": 19,
     "metadata": {},
     "output_type": "execute_result"
    }
   ],
   "source": [
    "game.objectives"
   ]
  }
 ],
 "metadata": {
  "kernelspec": {
   "display_name": "Python 3",
   "language": "python",
   "name": "python3"
  },
  "language_info": {
   "codemirror_mode": {
    "name": "ipython",
    "version": 3
   },
   "file_extension": ".py",
   "mimetype": "text/x-python",
   "name": "python",
   "nbconvert_exporter": "python",
   "pygments_lexer": "ipython3",
   "version": "3.5.2"
  }
 },
 "nbformat": 4,
 "nbformat_minor": 2
}

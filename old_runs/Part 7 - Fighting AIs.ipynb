{
 "cells": [
  {
   "cell_type": "markdown",
   "metadata": {},
   "source": [
    "# Objective\n",
    "\n",
    "This run will continue from where run 7 left off. "
   ]
  },
  {
   "cell_type": "code",
   "execution_count": 1,
   "metadata": {},
   "outputs": [
    {
     "name": "stderr",
     "output_type": "stream",
     "text": [
      "/usr/local/lib/python3.5/dist-packages/h5py/__init__.py:36: FutureWarning: Conversion of the second argument of issubdtype from `float` to `np.floating` is deprecated. In future, it will be treated as `np.float64 == np.dtype(float).type`.\n",
      "  from ._conv import register_converters as _register_converters\n",
      "Using TensorFlow backend.\n"
     ]
    }
   ],
   "source": [
    "from game import Game\n",
    "from ai import SplendorAI\n",
    "from player import get_phase_parameters\n",
    "from constants import *\n",
    "from datetime import datetime\n",
    "# from player import get_phase_parameters\n",
    "import sys\n",
    "from collections import defaultdict\n",
    "from collections import Counter\n",
    "from copy import deepcopy\n",
    "from pympler import asizeof\n",
    "\n"
   ]
  },
  {
   "cell_type": "code",
   "execution_count": 2,
   "metadata": {},
   "outputs": [],
   "source": [
    "# simply used to initialize players\n",
    "base_game = Game(id=0, n_players=4)"
   ]
  },
  {
   "cell_type": "code",
   "execution_count": 3,
   "metadata": {},
   "outputs": [
    {
     "name": "stdout",
     "output_type": "stream",
     "text": [
      "[name: \"/device:CPU:0\"\n",
      "device_type: \"CPU\"\n",
      "memory_limit: 268435456\n",
      "locality {\n",
      "}\n",
      "incarnation: 9858285570866306496\n",
      ", name: \"/device:GPU:0\"\n",
      "device_type: \"GPU\"\n",
      "memory_limit: 9971620250\n",
      "locality {\n",
      "  bus_id: 1\n",
      "  links {\n",
      "  }\n",
      "}\n",
      "incarnation: 14462960768645512634\n",
      "physical_device_desc: \"device: 0, name: GeForce GTX 1080 Ti, pci bus id: 0000:01:00.0, compute capability: 6.1\"\n",
      "]\n"
     ]
    }
   ],
   "source": [
    "from tensorflow.python.client import device_lib\n",
    "print(device_lib.list_local_devices())"
   ]
  },
  {
   "cell_type": "code",
   "execution_count": 4,
   "metadata": {},
   "outputs": [],
   "source": [
    "import tensorflow as tf\n",
    "sess = tf.Session(config=tf.ConfigProto(log_device_placement=True))"
   ]
  },
  {
   "cell_type": "code",
   "execution_count": 5,
   "metadata": {},
   "outputs": [],
   "source": [
    "# temperature will decrease over time\n",
    "# bumping it up a tiny bit from run 7 pt 1\n",
    "def calculate_temperature(round):\n",
    "    if round > 5:\n",
    "        return 2.8/(1 + round/2.5) /(1.5+round)\n",
    "    else:\n",
    "        return 1.8/(1 + round) /(1.5+round)"
   ]
  },
  {
   "cell_type": "code",
   "execution_count": 6,
   "metadata": {},
   "outputs": [],
   "source": [
    "# constants to define; default\n",
    "NETWORK_HYPERPARAMETERS = {\n",
    "    # player input\n",
    "    'player_funnel_layers': [15,12,10],\n",
    "    'reserved_funnel_layers': [12,10,],\n",
    "    'inject_reserved_at_player_funnel_index': 1, # 0 same as input, 1 = as first layer, etc.\n",
    "    'card_funnel_layers': [12,12,8],\n",
    "    # game input\n",
    "    'game_funnel_layers': [15, 12, 10],\n",
    "    'game_objective_funnel_layers': [10, 8],\n",
    "    'game_card_funnel_layers': [15, 12, 10],\n",
    "    # overall, slightly increased from default\n",
    "    'main_dense_layers': [84, 36, 15], #this is when everything is combined\n",
    "\n",
    "    # output layers\n",
    "    # this does not include the win layer\n",
    "    'output_layers': [\n",
    "        {\n",
    "            'name': 'Q1',\n",
    "            'lag': 1,\n",
    "            'score': 1,\n",
    "            'discount': 0.1,\n",
    "            'gems': 0.01,\n",
    "\n",
    "        },\n",
    "        {\n",
    "            'name': 'Q3',\n",
    "            'lag':  3,\n",
    "            'score': 1,\n",
    "            'discount': 0.1,\n",
    "            'gems': 0,\n",
    "        },\n",
    "        {\n",
    "            'name': 'Q5',\n",
    "            'lag': 5,\n",
    "            'score': 1,\n",
    "            'discount': 0.05,\n",
    "            'gems': 0,\n",
    "        },\n",
    "    ],\n",
    "}\n",
    "\n",
    "def get_phase_parameters(phase):\n",
    "    \"\"\"\n",
    "    training will be divided into 5 phases\n",
    "\n",
    "    \"\"\"\n",
    "    if phase==1:\n",
    "        return {\n",
    "            'Q1': 0.5,\n",
    "            'Q3': 0.3,\n",
    "            'Q5': 0.15,\n",
    "            'win': 0.05,\n",
    "        }\n",
    "    elif phase==2:\n",
    "        return {\n",
    "            'Q1': 0.35,\n",
    "            'Q3': 0.25,\n",
    "            'Q5': 0.25,\n",
    "            'win': 0.15,\n",
    "        }\n",
    "    elif phase==3:\n",
    "        return {\n",
    "            'Q1': 0.25,\n",
    "            'Q3': 0.25,\n",
    "            'Q5': 0.25,\n",
    "            'win': 0.25,\n",
    "        }\n",
    "    elif phase==4:\n",
    "        return {\n",
    "            'Q1': 0.15,\n",
    "            'Q3': 0.2,\n",
    "            'Q5': 0.35,\n",
    "            'win': 0.3,\n",
    "        }\n",
    "    elif phase==5:\n",
    "        return {\n",
    "            'Q1': 0.1,\n",
    "            'Q3': 0.1,\n",
    "            'Q5': 0.4,\n",
    "            'win': 0.4,\n",
    "        }\n",
    "    elif phase==6:\n",
    "        return {\n",
    "            'Q1': 0.03,\n",
    "            'Q3': 0.1,\n",
    "            'Q5': 0.22,\n",
    "            'win': 0.75\n",
    "        }"
   ]
  },
  {
   "cell_type": "code",
   "execution_count": 7,
   "metadata": {},
   "outputs": [],
   "source": [
    "players = base_game.players\n",
    "\n",
    "\n"
   ]
  },
  {
   "cell_type": "code",
   "execution_count": 8,
   "metadata": {},
   "outputs": [],
   "source": [
    "# load previous models\n",
    "#for i, player in enumerate(players):\n",
    "#    player.ai.load_models('run7_player_%s_' % i, 5)"
   ]
  },
  {
   "cell_type": "code",
   "execution_count": 9,
   "metadata": {},
   "outputs": [],
   "source": [
    "def summarize_counters(counter_list):\n",
    "    master_counter = Counter()\n",
    "    n = len(counter_list)\n",
    "    for counter in counter_list:\n",
    "        master_counter.update(counter)\n",
    "    keys = list(master_counter.keys())\n",
    "    for k in sorted(keys):\n",
    "        master_counter[k] /= n\n",
    "    return master_counter"
   ]
  },
  {
   "cell_type": "code",
   "execution_count": 10,
   "metadata": {},
   "outputs": [],
   "source": [
    "set_durations = {}\n",
    "game_data = defaultdict(list)\n",
    "win_data = defaultdict(Counter)"
   ]
  },
  {
   "cell_type": "code",
   "execution_count": 11,
   "metadata": {},
   "outputs": [],
   "source": [
    "# load AIs in advance\n",
    "\n",
    "ai_objects = defaultdict(dict)\n",
    "for round_id in [1,5,11]:\n",
    "    print('loading round %d' % round_id)\n",
    "    game = Game(id=-1, n_players=4)\n",
    "    for i, player in enumerate(game.players):\n",
    "        print('player %d' % i)\n",
    "        player.ai.load_models('run7_player_%s_'  % i, round_id)\n",
    "        ai_objects[round_id][i] = player.ai\n"
   ]
  },
  {
   "cell_type": "markdown",
   "metadata": {},
   "source": [
    "# Test multiple runs of games"
   ]
  },
  {
   "cell_type": "code",
   "execution_count": 13,
   "metadata": {},
   "outputs": [
    {
     "name": "stdout",
     "output_type": "stream",
     "text": [
      "BASE PLAYER: 0\n",
      "OTHER ROUND: 1\n",
      "BASE ROUND: 1\n",
      "................................................../\n",
      "BASE ROUND: 5\n",
      "................................................../\n",
      "BASE ROUND: 11\n",
      "................................................../\n",
      "OTHER ROUND: 5\n",
      "BASE ROUND: 1\n",
      "................................................../\n",
      "BASE ROUND: 5\n",
      "................................................../\n",
      "BASE ROUND: 11\n",
      "................................................../\n",
      "OTHER ROUND: 11\n",
      "BASE ROUND: 1\n",
      "................................................../\n",
      "BASE ROUND: 5\n",
      "................................................../\n",
      "BASE ROUND: 11\n",
      "................................................../\n",
      "BASE PLAYER: 1\n",
      "OTHER ROUND: 1\n",
      "BASE ROUND: 1\n",
      "................................................../\n",
      "BASE ROUND: 5\n",
      "................................................../\n",
      "BASE ROUND: 11\n",
      "................................................../\n",
      "OTHER ROUND: 5\n",
      "BASE ROUND: 1\n",
      "................................................../\n",
      "BASE ROUND: 5\n",
      "................................................../\n",
      "BASE ROUND: 11\n",
      "................................................../\n",
      "OTHER ROUND: 11\n",
      "BASE ROUND: 1\n",
      "................................................../\n",
      "BASE ROUND: 5\n",
      "................................................../\n",
      "BASE ROUND: 11\n",
      "................................................../\n",
      "BASE PLAYER: 2\n",
      "OTHER ROUND: 1\n",
      "BASE ROUND: 1\n",
      "................................................../\n",
      "BASE ROUND: 5\n",
      "................................................../\n",
      "BASE ROUND: 11\n",
      "................................................../\n",
      "OTHER ROUND: 5\n",
      "BASE ROUND: 1\n",
      "................................................../\n",
      "BASE ROUND: 5\n",
      "................................................../\n",
      "BASE ROUND: 11\n",
      "................................................../\n",
      "OTHER ROUND: 11\n",
      "BASE ROUND: 1\n",
      "................................................../\n",
      "BASE ROUND: 5\n",
      "................................................../\n",
      "BASE ROUND: 11\n",
      "................................................../\n",
      "BASE PLAYER: 3\n",
      "OTHER ROUND: 1\n",
      "BASE ROUND: 1\n",
      "................................................../\n",
      "BASE ROUND: 5\n",
      "................................................../\n",
      "BASE ROUND: 11\n",
      "................................................../\n",
      "OTHER ROUND: 5\n",
      "BASE ROUND: 1\n",
      "................................................../\n",
      "BASE ROUND: 5\n",
      "................................................../\n",
      "BASE ROUND: 11\n",
      "................................................../\n",
      "OTHER ROUND: 11\n",
      "BASE ROUND: 1\n",
      "................................................../\n",
      "BASE ROUND: 5\n",
      "................................................../\n",
      "BASE ROUND: 11\n",
      "................................................../\n",
      "04/25/18 09:16:26\n",
      "04/25/18 15:16:56\n"
     ]
    }
   ],
   "source": [
    "n_rounds = 6\n",
    "round_start = 6\n",
    "n_sets_per_round = 3\n",
    "n_simulations_per_set = 320\n",
    "\n",
    "start_time = datetime.now()\n",
    "game_counter = 0\n",
    "\n",
    "\n",
    "\n",
    "    \n",
    "# compare rounds 1, 5, and 11\n",
    "for pid in range(4):\n",
    "    print('BASE PLAYER: %d' % pid)\n",
    "    base_player = players[pid]\n",
    "    other_players = [player for i, player in enumerate(players) if i != pid]\n",
    "    for other_round in [1,5,11]:\n",
    "        print('OTHER ROUND: %d' % other_round)\n",
    "        \n",
    "        other_phase = min(1, other_round // 2 + 1)\n",
    "        other_temperature = calculate_temperature(other_round)\n",
    "        for opid in range(4):\n",
    "            if opid==pid:\n",
    "                continue\n",
    "            players[opid].ai = ai_objects[other_round][opid]\n",
    "            players[opid].set_temperature(other_temperature)\n",
    "            players[opid].decision_weighting = get_phase_parameters(other_phase)\n",
    "       \n",
    "      \n",
    "        for base_round in [1,5,11]:\n",
    "            print('BASE ROUND: %d' % base_round)\n",
    "            round_tuple = (base_round, other_round, pid)\n",
    "            base_phase = min(1, base_round // 2 + 1)\n",
    "            base_temperature = calculate_temperature(base_round)\n",
    "            base_player.ai = ai_objects[base_round][pid]\n",
    "            base_player.set_temperature(base_temperature)\n",
    "            base_player.decision_weighting = get_phase_parameters(base_phase)\n",
    "            for gid in range(50):\n",
    "                sys.stdout.write('.')\n",
    "                sys.stdout.flush()\n",
    "                game_counter+=1\n",
    "                new_game = Game(id=game_counter, players=players)\n",
    "                new_game.run()\n",
    "                game_data[round_tuple].append(deepcopy(new_game.copy_plain_data_for_self_and_players()))\n",
    "                win_data[round_tuple].update({i:1 for i in range(4) if players[i].win})\n",
    "            print('/')\n",
    "            # save historic data\n",
    "            import pickle\n",
    "\n",
    "            with open('run7_comparison_game_data.dat', 'wb') as f:\n",
    "                pickle.dump(game_data, f)\n",
    "\n",
    "            with open('run7_comparison_win_data.dat', 'wb') as f:\n",
    "                pickle.dump(win_data, f)\n",
    "                \n",
    "            # for player in players:\n",
    "            #    print(asizeof.asizeof(player.ai.win_model))\n",
    "\n",
    "            \n",
    "    \n",
    "    \n",
    "stop_time = datetime.now()\n",
    "for time in [start_time, stop_time]:\n",
    "    print(time.strftime('%x %X'))\n",
    "    \n",
    "\n"
   ]
  },
  {
   "cell_type": "code",
   "execution_count": null,
   "metadata": {},
   "outputs": [],
   "source": [
    "for player in players:\n",
    "     print(asizeof.asizeof(player.ai.win_model))"
   ]
  },
  {
   "cell_type": "code",
   "execution_count": null,
   "metadata": {},
   "outputs": [],
   "source": [
    "# players[0].ai.load_models('run6_player_0_round_', 1)"
   ]
  },
  {
   "cell_type": "code",
   "execution_count": null,
   "metadata": {},
   "outputs": [],
   "source": [
    "from collections import Mapping, Container \n",
    "from sys import getsizeof\n",
    "\n",
    "def deep_getsizeof(o, ids): \n",
    "\n",
    "    d = deep_getsizeof\n",
    "    if id(o) in ids:\n",
    "        return 0\n",
    "\n",
    "    r = getsizeof(o)\n",
    "    ids.add(id(o))\n",
    "\n",
    "    if isinstance(o, str) or isinstance(0, bytes):\n",
    "        return r\n",
    "    \n",
    "    if isinstance(o, np.ndarray):\n",
    "        return r\n",
    "\n",
    "    if isinstance(o, Mapping):\n",
    "        return r + sum(d(k, ids) + d(v, ids) for k, v in o.items())\n",
    "\n",
    "    if isinstance(o, Container):\n",
    "        return r + sum(d(x, ids) for x in o)\n",
    "\n",
    "    return r\n",
    "\n",
    "deep_getsizeof(game_data, set())\n",
    "# deep_getsizeof(players[0].extended_serialized_action_history[0], set())\n",
    "\n",
    "# for k in list(locals().keys()):\n",
    "#    v = locals()[k]\n",
    "#    size = deep_getsizeof(v, set())\n",
    "#    if size > 100000:\n",
    "#        print(k, ':', size)"
   ]
  },
  {
   "cell_type": "code",
   "execution_count": null,
   "metadata": {},
   "outputs": [],
   "source": [
    "# players[1].reset(reset_extended_history=True)\n",
    "# for k in dir(players[1]):\n",
    "#    v = getattr(players[1], k)\n",
    "#    if isinstance(v, (list, dict)):\n",
    "#        print(k, len(v))"
   ]
  },
  {
   "cell_type": "code",
   "execution_count": null,
   "metadata": {},
   "outputs": [],
   "source": [
    "#new_game = Game(id=i*200 + j*100+1.1, players=players)"
   ]
  },
  {
   "cell_type": "code",
   "execution_count": null,
   "metadata": {},
   "outputs": [],
   "source": [
    "#for k in dir(players[2]):\n",
    "#    v = getattr(players[2], k)\n",
    "#    if isinstance(v, (list, dict)):\n",
    "#        print(k, len(v))"
   ]
  },
  {
   "cell_type": "code",
   "execution_count": null,
   "metadata": {},
   "outputs": [],
   "source": [
    "#len(players[0].ai.extended_serialized_history)"
   ]
  },
  {
   "cell_type": "markdown",
   "metadata": {},
   "source": [
    "# NOTES\n",
    "\n",
    "Runs are complete. Data can be analyzed in a different environment. Tweaks may be made for future runs based on simulation results from loaded models."
   ]
  }
 ],
 "metadata": {
  "kernelspec": {
   "display_name": "Python 3",
   "language": "python",
   "name": "python3"
  },
  "language_info": {
   "codemirror_mode": {
    "name": "ipython",
    "version": 3
   },
   "file_extension": ".py",
   "mimetype": "text/x-python",
   "name": "python",
   "nbconvert_exporter": "python",
   "pygments_lexer": "ipython3",
   "version": "3.5.2"
  }
 },
 "nbformat": 4,
 "nbformat_minor": 2
}
